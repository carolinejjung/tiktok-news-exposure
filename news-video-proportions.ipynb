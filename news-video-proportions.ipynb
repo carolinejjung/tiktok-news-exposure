{
 "cells": [
  {
   "cell_type": "code",
   "execution_count": 276,
   "metadata": {},
   "outputs": [],
   "source": [
    "import os, json, csv\n",
    "import pandas as pd\n",
    "from pandas import json_normalize\n",
    "import numpy as np\n",
    "import seaborn as sb\n",
    "import matplotlib.pyplot as plt"
   ]
  },
  {
   "cell_type": "code",
   "execution_count": 277,
   "metadata": {},
   "outputs": [
    {
     "data": {
      "text/plain": [
       "['C:/Users/shhwa/tiktok-news-exposure/2-collect-metadata-pyktok/final-metadata/results_26301.csv',\n",
       " 'C:/Users/shhwa/tiktok-news-exposure/2-collect-metadata-pyktok/final-metadata/results_33534.csv',\n",
       " 'C:/Users/shhwa/tiktok-news-exposure/2-collect-metadata-pyktok/final-metadata/results_38129.csv',\n",
       " 'C:/Users/shhwa/tiktok-news-exposure/2-collect-metadata-pyktok/final-metadata/results_48271.csv',\n",
       " 'C:/Users/shhwa/tiktok-news-exposure/2-collect-metadata-pyktok/final-metadata/results_69117.csv']"
      ]
     },
     "execution_count": 277,
     "metadata": {},
     "output_type": "execute_result"
    }
   ],
   "source": [
    "dir_path = 'C:/Users/shhwa/tiktok-news-exposure/2-collect-metadata-pyktok/final-metadata'\n",
    "files = os.listdir(dir_path)\n",
    "\n",
    "metadata = []\n",
    "for name in files:\n",
    "    if name.endswith('.csv'):\n",
    "        metadata.append(dir_path + \"/\" + name)\n",
    "\n",
    "metadata"
   ]
  },
  {
   "cell_type": "code",
   "execution_count": 278,
   "metadata": {},
   "outputs": [],
   "source": [
    "#adding manually because of different file location and format\n",
    "metadata.append('C:/Users/shhwa/tiktok-news-exposure/2-collect-metadata-pyktok/final-metadata/RB-chunks/RB_chunk_3_metadata_left.csv')\n",
    "metadata.append('C:/Users/shhwa/tiktok-news-exposure/2-collect-metadata-pyktok/final-metadata/RB-chunks/RB_chunk_3_metadata.csv')\n",
    "metadata.append('C:/Users/shhwa/tiktok-news-exposure/2-collect-metadata-pyktok/final-metadata/RB-chunks/RB_chunk_4_metadata.csv')\n",
    "metadata.append('C:/Users/shhwa/tiktok-news-exposure/2-collect-metadata-pyktok/final-metadata/RB-chunks/RB_chunk_5_metadata.csv')"
   ]
  },
  {
   "cell_type": "code",
   "execution_count": 279,
   "metadata": {},
   "outputs": [],
   "source": [
    "dir_path = 'C:/Users/shhwa/tiktok-news-exposure/3-filter-metadata'\n",
    "files = os.listdir(dir_path)\n",
    "\n",
    "newsdata = []\n",
    "for name in files:\n",
    "    if name.startswith('news_relevant'):\n",
    "        newsdata.append(dir_path + \"/\" + name)\n"
   ]
  },
  {
   "cell_type": "code",
   "execution_count": 280,
   "metadata": {},
   "outputs": [
    {
     "data": {
      "text/plain": [
       "['C:/Users/shhwa/tiktok-news-exposure/3-filter-metadata/news_relevant_videos_26301.csv',\n",
       " 'C:/Users/shhwa/tiktok-news-exposure/3-filter-metadata/news_relevant_videos_33534.csv',\n",
       " 'C:/Users/shhwa/tiktok-news-exposure/3-filter-metadata/news_relevant_videos_38129.csv',\n",
       " 'C:/Users/shhwa/tiktok-news-exposure/3-filter-metadata/news_relevant_videos_48271.csv',\n",
       " 'C:/Users/shhwa/tiktok-news-exposure/3-filter-metadata/news_relevant_videos_69117.csv',\n",
       " 'C:/Users/shhwa/tiktok-news-exposure/3-filter-metadata/news_relevant_videos_83721.csv',\n",
       " 'C:/Users/shhwa/tiktok-news-exposure/3-filter-metadata/news_relevant_videos_chunk_3.csv',\n",
       " 'C:/Users/shhwa/tiktok-news-exposure/3-filter-metadata/news_relevant_videos_chunk_4.csv',\n",
       " 'C:/Users/shhwa/tiktok-news-exposure/3-filter-metadata/news_relevant_videos_chunk_5.csv']"
      ]
     },
     "execution_count": 280,
     "metadata": {},
     "output_type": "execute_result"
    }
   ],
   "source": [
    "newsdata"
   ]
  },
  {
   "cell_type": "code",
   "execution_count": 281,
   "metadata": {},
   "outputs": [
    {
     "data": {
      "text/plain": [
       "['C:/Users/shhwa/tiktok-news-exposure/2-collect-metadata-pyktok/final-metadata/results_26301.csv',\n",
       " 'C:/Users/shhwa/tiktok-news-exposure/2-collect-metadata-pyktok/final-metadata/results_33534.csv',\n",
       " 'C:/Users/shhwa/tiktok-news-exposure/2-collect-metadata-pyktok/final-metadata/results_38129.csv',\n",
       " 'C:/Users/shhwa/tiktok-news-exposure/2-collect-metadata-pyktok/final-metadata/results_48271.csv',\n",
       " 'C:/Users/shhwa/tiktok-news-exposure/2-collect-metadata-pyktok/final-metadata/results_69117.csv',\n",
       " 'C:/Users/shhwa/tiktok-news-exposure/2-collect-metadata-pyktok/final-metadata/RB-chunks/RB_chunk_3_metadata_left.csv',\n",
       " 'C:/Users/shhwa/tiktok-news-exposure/2-collect-metadata-pyktok/final-metadata/RB-chunks/RB_chunk_3_metadata.csv',\n",
       " 'C:/Users/shhwa/tiktok-news-exposure/2-collect-metadata-pyktok/final-metadata/RB-chunks/RB_chunk_4_metadata.csv',\n",
       " 'C:/Users/shhwa/tiktok-news-exposure/2-collect-metadata-pyktok/final-metadata/RB-chunks/RB_chunk_5_metadata.csv']"
      ]
     },
     "execution_count": 281,
     "metadata": {},
     "output_type": "execute_result"
    }
   ],
   "source": [
    "metadata"
   ]
  },
  {
   "cell_type": "code",
   "execution_count": 282,
   "metadata": {},
   "outputs": [],
   "source": [
    "def getNewsVideos(metafiles, newsfiles):\n",
    "    NewsVideos = pd.DataFrame()\n",
    "    index = []\n",
    "    totalvids = []\n",
    "    newsvids = []\n",
    "    nonnewsvids = []\n",
    "    for user in metafiles:\n",
    "        totalvids.append(len(pd.read_csv(user)))\n",
    "    for user in newsfiles:\n",
    "        newsvids.append(len(pd.read_csv(user)))\n",
    "        index.append(user[-9:-4])\n",
    "    for i in range(len(totalvids)):\n",
    "        nonnewsvids.append(totalvids[i]-newsvids[i])\n",
    "    newsVideos = pd.DataFrame({'non-news': nonnewsvids, 'news': newsvids})\n",
    "    newsVideos.index = index\n",
    "    return newsVideos\n",
    "\n"
   ]
  },
  {
   "cell_type": "code",
   "execution_count": 283,
   "metadata": {},
   "outputs": [
    {
     "data": {
      "text/html": [
       "<div>\n",
       "<style scoped>\n",
       "    .dataframe tbody tr th:only-of-type {\n",
       "        vertical-align: middle;\n",
       "    }\n",
       "\n",
       "    .dataframe tbody tr th {\n",
       "        vertical-align: top;\n",
       "    }\n",
       "\n",
       "    .dataframe thead th {\n",
       "        text-align: right;\n",
       "    }\n",
       "</style>\n",
       "<table border=\"1\" class=\"dataframe\">\n",
       "  <thead>\n",
       "    <tr style=\"text-align: right;\">\n",
       "      <th></th>\n",
       "      <th>non-news</th>\n",
       "      <th>news</th>\n",
       "    </tr>\n",
       "  </thead>\n",
       "  <tbody>\n",
       "    <tr>\n",
       "      <th>26301</th>\n",
       "      <td>7833</td>\n",
       "      <td>235</td>\n",
       "    </tr>\n",
       "    <tr>\n",
       "      <th>33534</th>\n",
       "      <td>7593</td>\n",
       "      <td>70</td>\n",
       "    </tr>\n",
       "    <tr>\n",
       "      <th>38129</th>\n",
       "      <td>31</td>\n",
       "      <td>0</td>\n",
       "    </tr>\n",
       "    <tr>\n",
       "      <th>48271</th>\n",
       "      <td>582</td>\n",
       "      <td>6</td>\n",
       "    </tr>\n",
       "    <tr>\n",
       "      <th>69117</th>\n",
       "      <td>15459</td>\n",
       "      <td>305</td>\n",
       "    </tr>\n",
       "    <tr>\n",
       "      <th>83721</th>\n",
       "      <td>671</td>\n",
       "      <td>1076</td>\n",
       "    </tr>\n",
       "    <tr>\n",
       "      <th>unk_3</th>\n",
       "      <td>8966</td>\n",
       "      <td>415</td>\n",
       "    </tr>\n",
       "    <tr>\n",
       "      <th>unk_4</th>\n",
       "      <td>7657</td>\n",
       "      <td>350</td>\n",
       "    </tr>\n",
       "    <tr>\n",
       "      <th>unk_5</th>\n",
       "      <td>8913</td>\n",
       "      <td>311</td>\n",
       "    </tr>\n",
       "  </tbody>\n",
       "</table>\n",
       "</div>"
      ],
      "text/plain": [
       "       non-news  news\n",
       "26301      7833   235\n",
       "33534      7593    70\n",
       "38129        31     0\n",
       "48271       582     6\n",
       "69117     15459   305\n",
       "83721       671  1076\n",
       "unk_3      8966   415\n",
       "unk_4      7657   350\n",
       "unk_5      8913   311"
      ]
     },
     "execution_count": 283,
     "metadata": {},
     "output_type": "execute_result"
    }
   ],
   "source": [
    "newsProportions = getNewsVideos(metadata, newsdata)\n",
    "newsProportions"
   ]
  },
  {
   "cell_type": "code",
   "execution_count": 284,
   "metadata": {},
   "outputs": [],
   "source": [
    "# manually editing dataframe because files don't align \n",
    "newsProportions.iloc[5, 0] = newsProportions.at['83721', 'non-news'] + newsProportions.at['unk_3', 'non-news'] + newsProportions.at['unk_4', 'non-news'] + newsProportions.at['unk_5', 'non-news']\n",
    "newsProportions = newsProportions.drop(index=['unk_3', 'unk_4', 'unk_5'])"
   ]
  },
  {
   "cell_type": "code",
   "execution_count": 285,
   "metadata": {},
   "outputs": [
    {
     "data": {
      "text/html": [
       "<div>\n",
       "<style scoped>\n",
       "    .dataframe tbody tr th:only-of-type {\n",
       "        vertical-align: middle;\n",
       "    }\n",
       "\n",
       "    .dataframe tbody tr th {\n",
       "        vertical-align: top;\n",
       "    }\n",
       "\n",
       "    .dataframe thead th {\n",
       "        text-align: right;\n",
       "    }\n",
       "</style>\n",
       "<table border=\"1\" class=\"dataframe\">\n",
       "  <thead>\n",
       "    <tr style=\"text-align: right;\">\n",
       "      <th></th>\n",
       "      <th>non-news</th>\n",
       "      <th>news</th>\n",
       "    </tr>\n",
       "  </thead>\n",
       "  <tbody>\n",
       "    <tr>\n",
       "      <th>26301</th>\n",
       "      <td>7833</td>\n",
       "      <td>235</td>\n",
       "    </tr>\n",
       "    <tr>\n",
       "      <th>33534</th>\n",
       "      <td>7593</td>\n",
       "      <td>70</td>\n",
       "    </tr>\n",
       "    <tr>\n",
       "      <th>38129</th>\n",
       "      <td>31</td>\n",
       "      <td>0</td>\n",
       "    </tr>\n",
       "    <tr>\n",
       "      <th>48271</th>\n",
       "      <td>582</td>\n",
       "      <td>6</td>\n",
       "    </tr>\n",
       "    <tr>\n",
       "      <th>69117</th>\n",
       "      <td>15459</td>\n",
       "      <td>305</td>\n",
       "    </tr>\n",
       "    <tr>\n",
       "      <th>83721</th>\n",
       "      <td>26207</td>\n",
       "      <td>1076</td>\n",
       "    </tr>\n",
       "  </tbody>\n",
       "</table>\n",
       "</div>"
      ],
      "text/plain": [
       "       non-news  news\n",
       "26301      7833   235\n",
       "33534      7593    70\n",
       "38129        31     0\n",
       "48271       582     6\n",
       "69117     15459   305\n",
       "83721     26207  1076"
      ]
     },
     "execution_count": 285,
     "metadata": {},
     "output_type": "execute_result"
    }
   ],
   "source": [
    "newsProportions"
   ]
  },
  {
   "cell_type": "code",
   "execution_count": 286,
   "metadata": {},
   "outputs": [
    {
     "data": {
      "text/plain": [
       "26301    0.970873\n",
       "33534    0.990865\n",
       "38129    1.000000\n",
       "48271    0.989796\n",
       "69117    0.980652\n",
       "83721    0.960562\n",
       "dtype: float64"
      ]
     },
     "execution_count": 286,
     "metadata": {},
     "output_type": "execute_result"
    }
   ],
   "source": [
    "newsProportions['non-news']/(newsProportions['news']+newsProportions['non-news'])"
   ]
  },
  {
   "cell_type": "code",
   "execution_count": 287,
   "metadata": {},
   "outputs": [],
   "source": [
    "#newsProportions['news_percentage'] = (newsProportions['news']/newsProportions['total']*100).round(3)\n",
    "newsPercentages = pd.DataFrame()\n",
    "for i in range(len(newsProportions)):\n",
    "    newsPercentages['non-news'] = (newsProportions['non-news']/(newsProportions['news']+newsProportions['non-news'])*100).round(3)\n",
    "    newsPercentages['news'] = (newsProportions['news']/(newsProportions['news']+newsProportions['non-news'])*100).round(3)\n",
    "newsPercentages = newsPercentages[newsPercentages.columns[::-1]]"
   ]
  },
  {
   "cell_type": "code",
   "execution_count": 288,
   "metadata": {},
   "outputs": [
    {
     "data": {
      "text/html": [
       "<div>\n",
       "<style scoped>\n",
       "    .dataframe tbody tr th:only-of-type {\n",
       "        vertical-align: middle;\n",
       "    }\n",
       "\n",
       "    .dataframe tbody tr th {\n",
       "        vertical-align: top;\n",
       "    }\n",
       "\n",
       "    .dataframe thead th {\n",
       "        text-align: right;\n",
       "    }\n",
       "</style>\n",
       "<table border=\"1\" class=\"dataframe\">\n",
       "  <thead>\n",
       "    <tr style=\"text-align: right;\">\n",
       "      <th></th>\n",
       "      <th>news</th>\n",
       "      <th>non-news</th>\n",
       "    </tr>\n",
       "  </thead>\n",
       "  <tbody>\n",
       "    <tr>\n",
       "      <th>26301</th>\n",
       "      <td>2.913</td>\n",
       "      <td>97.087</td>\n",
       "    </tr>\n",
       "    <tr>\n",
       "      <th>33534</th>\n",
       "      <td>0.913</td>\n",
       "      <td>99.087</td>\n",
       "    </tr>\n",
       "    <tr>\n",
       "      <th>38129</th>\n",
       "      <td>0.000</td>\n",
       "      <td>100.000</td>\n",
       "    </tr>\n",
       "    <tr>\n",
       "      <th>48271</th>\n",
       "      <td>1.020</td>\n",
       "      <td>98.980</td>\n",
       "    </tr>\n",
       "    <tr>\n",
       "      <th>69117</th>\n",
       "      <td>1.935</td>\n",
       "      <td>98.065</td>\n",
       "    </tr>\n",
       "    <tr>\n",
       "      <th>83721</th>\n",
       "      <td>3.944</td>\n",
       "      <td>96.056</td>\n",
       "    </tr>\n",
       "  </tbody>\n",
       "</table>\n",
       "</div>"
      ],
      "text/plain": [
       "        news  non-news\n",
       "26301  2.913    97.087\n",
       "33534  0.913    99.087\n",
       "38129  0.000   100.000\n",
       "48271  1.020    98.980\n",
       "69117  1.935    98.065\n",
       "83721  3.944    96.056"
      ]
     },
     "execution_count": 288,
     "metadata": {},
     "output_type": "execute_result"
    }
   ],
   "source": [
    "newsPercentages"
   ]
  },
  {
   "cell_type": "code",
   "execution_count": 289,
   "metadata": {},
   "outputs": [
    {
     "name": "stderr",
     "output_type": "stream",
     "text": [
      "C:\\Users\\shhwa\\AppData\\Local\\Temp\\ipykernel_24064\\3383728857.py:11: FutureWarning: Series.__getitem__ treating keys as positions is deprecated. In a future version, integer keys will always be treated as labels (consistent with DataFrame behavior). To access a value by position, use `ser.iloc[pos]`\n",
      "  stackplot.text(i, cumulative_values.iloc[i, j] - newsPercentages[val][i] / 2,\n",
      "C:\\Users\\shhwa\\AppData\\Local\\Temp\\ipykernel_24064\\3383728857.py:12: FutureWarning: Series.__getitem__ treating keys as positions is deprecated. In a future version, integer keys will always be treated as labels (consistent with DataFrame behavior). To access a value by position, use `ser.iloc[pos]`\n",
      "  str(newsPercentages[val][i]), ha='center', va='center',)\n"
     ]
    },
    {
     "data": {
      "image/png": "[encoded data removed]",
      "text/plain": [
       "<Figure size 640x480 with 1 Axes>"
      ]
     },
     "metadata": {},
     "output_type": "display_data"
    }
   ],
   "source": [
    "stackplot = newsPercentages.plot(kind='bar', stacked=True, color=[\"skyblue\", \"pink\"])\n",
    "stackplot.set_title(\"Proportion of News Accounts Watched by Users\")\n",
    "stackplot.set_ylabel(\"Number of Videos\")\n",
    "stackplot.set_xlabel(\"Users\")\n",
    "stackplot.set_xticklabels(stackplot.get_xticklabels(), rotation=0)\n",
    "stackplot.bar_label(stackplot.containers[1])\n",
    "\n",
    "cumulative_values = newsPercentages.cumsum(axis=1)\n",
    "for i in range(len(newsPercentages)):\n",
    "    for j, val in enumerate(newsPercentages.columns):\n",
    "        stackplot.text(i, cumulative_values.iloc[i, j] - newsPercentages[val][i] / 2,\n",
    "                       str(newsPercentages[val][i]), ha='center', va='center',)"
   ]
  }
 ],
 "metadata": {
  "kernelspec": {
   "display_name": "base",
   "language": "python",
   "name": "python3"
  },
  "language_info": {
   "codemirror_mode": {
    "name": "ipython",
    "version": 3
   },
   "file_extension": ".py",
   "mimetype": "text/x-python",
   "name": "python",
   "nbconvert_exporter": "python",
   "pygments_lexer": "ipython3",
   "version": "3.10.10"
  }
 },
 "nbformat": 4,
 "nbformat_minor": 2
}
