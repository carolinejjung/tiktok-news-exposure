{
 "cells": [
  {
   "cell_type": "code",
   "execution_count": 1,
   "metadata": {},
   "outputs": [
    {
     "name": "stderr",
     "output_type": "stream",
     "text": [
      "/var/folders/cw/4tmbrj3d1pzd4rhyrm8vnwyc0000gn/T/ipykernel_88703/4080736814.py:1: DeprecationWarning: \n",
      "Pyarrow will become a required dependency of pandas in the next major release of pandas (pandas 3.0),\n",
      "(to allow more performant data types, such as the Arrow string type, and better interoperability with other libraries)\n",
      "but was not found to be installed on your system.\n",
      "If this would cause problems for you,\n",
      "please provide us feedback at https://github.com/pandas-dev/pandas/issues/54466\n",
      "        \n",
      "  import pandas as pd\n"
     ]
    }
   ],
   "source": [
    "import pandas as pd"
   ]
  },
  {
   "cell_type": "markdown",
   "metadata": {},
   "source": [
    "### STEP 1: Clean data"
   ]
  },
  {
   "cell_type": "code",
   "execution_count": 2,
   "metadata": {},
   "outputs": [],
   "source": [
    "hashtag_filter_out = ['fyp', 'foryourpage', 'wow', 'news', 'fypツ', 'fypシ', \n",
    "                     'fyi', 'fypシ゚viral', 'foryouuuu', 'trendingtiktok', 'longvideos',\n",
    "                     'fypppp', 'themoreyouknow', 'didyouknow', 'foryoupage', 'foryou', 'tiktok',\n",
    "                     'breakingnews', 'topnews', 'viraltiktok', 'fypシ゚viral', 'catchupnews', 'viralvideo',\n",
    "                     ]"
   ]
  },
  {
   "cell_type": "code",
   "execution_count": 3,
   "metadata": {},
   "outputs": [],
   "source": [
    "def filtering_hashtag(hashtags):\n",
    "    \"\"\"\n",
    "    filter the hashtags\n",
    "    \"\"\"\n",
    "    # filter common hashtags\n",
    "    output = list(set(hashtags)) # unique values - do this later\n",
    "    output = [hashtag for hashtag in output if hashtag not in hashtag_filter_out]\n",
    "    return output\n",
    "# sandy version"
   ]
  },
  {
   "cell_type": "code",
   "execution_count": 4,
   "metadata": {},
   "outputs": [],
   "source": [
    "dir_path = \"/users/carolinejung/tiktok-news-exposure-1/\" # CHANGE ME!\n",
    "users = [\"26301\", \"33534\", \"38129\", \"48271\", \"69117\", \"83721\"]\n",
    "\n",
    "# for one user:\n",
    "def get_hash_or_sugg(user, to_parse):\n",
    "    \"\"\"Grab either the hashtag or suggested words column and clean data.\"\"\"\n",
    "    data = pd.read_csv(dir_path + f\"3-filter-metadata/news_relevant_videos_{user}.csv\")\n",
    "\n",
    "    if data.empty == False:\n",
    "        nested_hashtags = []\n",
    "        for hashtag_list_as_str in data[to_parse]:\n",
    "            hashtag_list_as_list = hashtag_list_as_str.strip('][').split(\", \")\n",
    "            cleaned_hashtag = [hashtag.strip(\"'\") for hashtag in hashtag_list_as_list]\n",
    "            nested_hashtags.append(cleaned_hashtag)\n",
    "        \n",
    "        flattened_hashtags = [hashtag.strip(\" \").lower() for hashlist in nested_hashtags for hashtag in hashlist]\n",
    "        no_empty_hashtags = list(filter(None, flattened_hashtags))\n",
    "        #no_empty_hashtags = filtering_hashtag(no_empty_hashtags)\n",
    "        return no_empty_hashtags\n",
    "\n",
    "get_hash_or_sugg(\"26301\", \"hashtags\")\n",
    "#get_hash_or_sugg(\"26301\", \"suggested_words\")\n",
    "get_hash_or_sugg(\"38129\", \"hashtags\")"
   ]
  },
  {
   "cell_type": "code",
   "execution_count": 5,
   "metadata": {},
   "outputs": [
    {
     "name": "stdout",
     "output_type": "stream",
     "text": [
      "['mvsterious', 'creepy', 'connections', 'maddie', 'willandkate', 'dark', 'relatable', 'foxnews', 'liberal', 'medicalterminology', 'scotus', 'facts', 'lawtok', 'princewilliam', 'boston', 'florida', 'orlando', 'evil', 'parati', 'disneyworld', 'unsolvedmysteries', 'school', 'goodnews', 'otown', 'wendys', 'economy', 'funfacts', 'mystery', 'palestine', 'bodycam', 'meme', 'tech', 'america', 'lawschool', 'football', 'medicalspanish', 'climatechange', 'chineseadoption', 'kissimmee_florida', 'historytiktok', 'historytok', 'costofliving', 'american', 'uspolitics', 'floridacheck', 'update', 'adopteevoices', 'greenscreenvideo', 'unsolved', 'history', 'awareness', 'polkcounty', 'gaza', 'movietok', 'disturbing', 'nikkihaley', 'inflation', 'disney', 'cheese', 'debate', 'fy', 'msnbc', 'supertuesday', 'royalnews', 'genz', 'orlandoflorida', 'commentary', 'aprendeentiktok', 'film', 'california', 'michigan', 'royals', 'truecrimecommunity', 'trending', 'police', 'crimetok', 'trump', 'creep', 'science', 'capitalism', 'democrat', 'spanish', 'academyawards', 'latina', 'oscars', 'techforgood', 'satire', 'royalfamily', 'ivf', '2024', 'kissimmeefl', 'español', 'findmaddie', 'truecrime', 'britishroyals', 'globalwarming', 'findmaddiesoto', 'lawyertiktok', 'stitch', 'politics', 'murder', 'trend', 'scary', 'intérprete', 'alabama', 'orangecounty', 'missing', 'cop', 'military', 'madelinesoto', 'longervideos', 'south', 'cops', 'policeofficer', 'story', 'lawstudent', 'conservative', 'texas', 'royalupdate', 'lgbtq', 'republican', 'movie', 'cnn', 'reproductiverights', 'nyt', 'americantranslatorsassociation', 'translate', 'leftist', 'millennials', 'surgepricing', 'finance', 'greenscreen', 'new', 'dune', 'dog', 'viral', 'nyc', 'anatomyofafall', 'copsoftiktok', 'kissimmee', 'orlandofl', 'stem', 'southern', 'jordanklepper', 'triggerwarning', 'eu', 'twitter', 'election', 'filmtok', 'donaldtrump', 'newengland', 'accessibility', 'funny', 'zerocon24', 'president', 'india', 'mobility', 'education', 'learnontiktok', 'newyork', 'crimejunkie', 'sports', 'findmadelinesoto', 'oppenheimer', 'supremecourt', 'interpreter', 'communication', 'abcnews', 'korea', 'immigrant', 'languages', 'truecrimejunkie', 'bilingual', 'horror', 'medical', 'interesting', 'crime', 'criminal', 'college', 'disabilitytiktok', 'billionaire', 'cheesemonger', 'latino', 'chineseadoptee', 'massachusetts', 'truecrimetok', 'idiomas', 'truecrimetiktok', 'reachclimbgo', 'biden', 'us', '2024election', 'netflix', 'politicaltiktok', 'britishroyalfamily', 'kissimmeeflorida', 'criminalminds', 'law', 'onechildpolicy', 'unitednations', 'economics', 'business', 'usa', 'storytime', 'fl', 'university', 'election2024', 'dailyshow', 'language', 'maddiesoto', 'niickjackson', 'todayshow', 'voteblue', 'royal', 'nfl', 'office', 'comedy', 'disability', 'crazy', 'posted', 'middleschool', 'brie']\n"
     ]
    }
   ],
   "source": [
    "from collections import Counter\n",
    "\n",
    "def filtering_hashtag(hashtags):\n",
    "    \"\"\"\n",
    "    filter the hashtags\n",
    "    \"\"\"\n",
    "    # filter out common hashtags\n",
    "    output = [hashtag for hashtag in hashtags if hashtag not in hashtag_filter_out]\n",
    "\n",
    "    # filter by frequency\n",
    "    # count how many times a word appears\n",
    "    count = Counter(output)\n",
    "    freq_hash = []\n",
    "    for hashtag in count.items():\n",
    "        # hashtag format is a tuple: (key, value)\n",
    "        if hashtag[1] > 1:\n",
    "            freq_hash.append(hashtag[0])\n",
    "\n",
    "    # then, only get unique values\n",
    "    return list(set(freq_hash))\n",
    "\n",
    "print(filtering_hashtag(get_hash_or_sugg(\"26301\", \"hashtags\")))"
   ]
  },
  {
   "cell_type": "code",
   "execution_count": 6,
   "metadata": {},
   "outputs": [
    {
     "data": {
      "text/plain": [
       "222"
      ]
     },
     "execution_count": 6,
     "metadata": {},
     "output_type": "execute_result"
    }
   ],
   "source": [
    "hashtag_26301 = filtering_hashtag(get_hash_or_sugg(\"26301\", \"hashtags\"))\n",
    "len(hashtag_26301)"
   ]
  },
  {
   "cell_type": "markdown",
   "metadata": {},
   "source": [
    "### STEP 2: Clustering"
   ]
  },
  {
   "cell_type": "code",
   "execution_count": 7,
   "metadata": {},
   "outputs": [
    {
     "name": "stderr",
     "output_type": "stream",
     "text": [
      "2024-03-29 18:32:02.578387: I tensorflow/core/platform/cpu_feature_guard.cc:210] This TensorFlow binary is optimized to use available CPU instructions in performance-critical operations.\n",
      "To enable the following instructions: AVX2 AVX512F AVX512_VNNI FMA, in other operations, rebuild TensorFlow with the appropriate compiler flags.\n"
     ]
    }
   ],
   "source": [
    "import tensorflow as tf\n",
    "import tensorflow_hub as hub\n",
    "import numpy as np\n",
    "from sklearn.cluster import KMeans # pip install scikit-learn\n",
    "embed = hub.load(\"https://tfhub.dev/google/universal-sentence-encoder/4\")"
   ]
  },
  {
   "cell_type": "code",
   "execution_count": 8,
   "metadata": {},
   "outputs": [
    {
     "data": {
      "text/plain": [
       "<tf.Tensor: shape=(222, 512), dtype=float32, numpy=\n",
       "array([[ 0.02722869, -0.04502684, -0.00341357, ..., -0.06166474,\n",
       "         0.06512767, -0.0567526 ],\n",
       "       [-0.0171115 ,  0.07519299,  0.01799584, ..., -0.03785214,\n",
       "         0.03043216, -0.02350079],\n",
       "       [-0.02651086,  0.03063033,  0.0091166 , ..., -0.02033245,\n",
       "         0.02707102, -0.04549546],\n",
       "       ...,\n",
       "       [-0.05089248,  0.08197766,  0.00808257, ...,  0.01064078,\n",
       "        -0.03839003,  0.02104974],\n",
       "       [-0.00062161,  0.001374  ,  0.06505843, ..., -0.05724625,\n",
       "        -0.02909397, -0.01648107],\n",
       "       [ 0.03201279,  0.03623682,  0.07640833, ...,  0.05101123,\n",
       "         0.00593138, -0.02307279]], dtype=float32)>"
      ]
     },
     "execution_count": 8,
     "metadata": {},
     "output_type": "execute_result"
    }
   ],
   "source": [
    "def get_embeddings(to_parse): #for all users\n",
    "    \"\"\"Parameter to_parse should either take a value of 'hashtags' or 'suggested_words'.\"\"\"\n",
    "    embedding = {}\n",
    "    for user in users:\n",
    "        if get_hash_or_sugg(user, to_parse) != None: # if empty file, don't get embeddings\n",
    "            hash_or_sugg = filtering_hashtag(get_hash_or_sugg(user, to_parse))\n",
    "            embedding[user] = embed(hash_or_sugg)\n",
    "    return embedding\n",
    "    \n",
    "get_embeddings(\"hashtags\")[\"26301\"]"
   ]
  },
  {
   "cell_type": "code",
   "execution_count": 9,
   "metadata": {},
   "outputs": [
    {
     "data": {
      "text/plain": [
       "['medicalterminology',\n",
       " 'chineseadoption',\n",
       " 'floridacheck',\n",
       " 'nikkihaley',\n",
       " 'ivf',\n",
       " 'todayshow']"
      ]
     },
     "execution_count": 9,
     "metadata": {},
     "output_type": "execute_result"
    }
   ],
   "source": [
    "def create_clusters(user, to_parse, k=20):\n",
    "    kmeans = KMeans(n_clusters=k, random_state=42)\n",
    "    clusters = kmeans.fit_predict(get_embeddings(to_parse)[user])\n",
    "    \n",
    "    final_clusters = {}\n",
    "    for i in range(k):\n",
    "        data = filtering_hashtag(get_hash_or_sugg(user, to_parse))\n",
    "        cluster_words = [data[j] for j in range(len(data)) if clusters[j]==i]\n",
    "        final_clusters[f\"cluster{i}\"] = cluster_words\n",
    "    return final_clusters\n",
    "\n",
    "create_clusters(\"26301\", \"hashtags\", 20)[\"cluster1\"] # to see the individual words"
   ]
  },
  {
   "cell_type": "code",
   "execution_count": 10,
   "metadata": {},
   "outputs": [
    {
     "data": {
      "text/plain": [
       "['lawtok',\n",
       " 'lawschool',\n",
       " 'gaza',\n",
       " 'fy',\n",
       " 'royalnews',\n",
       " 'orlandoflorida',\n",
       " 'lawyertiktok',\n",
       " 'missing',\n",
       " 'madelinesoto',\n",
       " 'longervideos',\n",
       " 'reproductiverights',\n",
       " 'americantranslatorsassociation',\n",
       " 'dog',\n",
       " 'copsoftiktok',\n",
       " 'election',\n",
       " 'filmtok',\n",
       " 'zerocon24',\n",
       " 'disabilitytiktok',\n",
       " 'reachclimbgo',\n",
       " 'onechildpolicy',\n",
       " 'unitednations']"
      ]
     },
     "execution_count": 10,
     "metadata": {},
     "output_type": "execute_result"
    }
   ],
   "source": [
    "create_clusters(\"26301\", \"hashtags\", 20)[\"cluster2\"] "
   ]
  },
  {
   "cell_type": "code",
   "execution_count": 11,
   "metadata": {},
   "outputs": [
    {
     "data": {
      "text/plain": [
       "['willandkate',\n",
       " 'scotus',\n",
       " 'movietok',\n",
       " 'inflation',\n",
       " 'cheese',\n",
       " 'stitch',\n",
       " 'royalupdate',\n",
       " 'lgbtq',\n",
       " 'viral',\n",
       " 'stem',\n",
       " 'accessibility',\n",
       " 'mobility',\n",
       " 'oppenheimer',\n",
       " 'disability']"
      ]
     },
     "execution_count": 11,
     "metadata": {},
     "output_type": "execute_result"
    }
   ],
   "source": [
    "create_clusters(\"26301\", \"hashtags\", 20)[\"cluster3\"]"
   ]
  },
  {
   "cell_type": "code",
   "execution_count": 12,
   "metadata": {},
   "outputs": [
    {
     "data": {
      "text/plain": [
       "{'cluster0': ['latina', 'latino', 'brie'],\n",
       " 'cluster1': ['medicalterminology',\n",
       "  'chineseadoption',\n",
       "  'floridacheck',\n",
       "  'nikkihaley',\n",
       "  'ivf',\n",
       "  'todayshow'],\n",
       " 'cluster2': ['lawtok',\n",
       "  'lawschool',\n",
       "  'gaza',\n",
       "  'fy',\n",
       "  'royalnews',\n",
       "  'orlandoflorida',\n",
       "  'lawyertiktok',\n",
       "  'missing',\n",
       "  'madelinesoto',\n",
       "  'longervideos',\n",
       "  'reproductiverights',\n",
       "  'americantranslatorsassociation',\n",
       "  'dog',\n",
       "  'copsoftiktok',\n",
       "  'election',\n",
       "  'filmtok',\n",
       "  'zerocon24',\n",
       "  'disabilitytiktok',\n",
       "  'reachclimbgo',\n",
       "  'onechildpolicy',\n",
       "  'unitednations'],\n",
       " 'cluster3': ['willandkate',\n",
       "  'scotus',\n",
       "  'movietok',\n",
       "  'inflation',\n",
       "  'cheese',\n",
       "  'stitch',\n",
       "  'royalupdate',\n",
       "  'lgbtq',\n",
       "  'viral',\n",
       "  'stem',\n",
       "  'accessibility',\n",
       "  'mobility',\n",
       "  'oppenheimer',\n",
       "  'disability'],\n",
       " 'cluster4': ['film', 'oscars', 'movie', 'greenscreen', 'netflix', 'comedy'],\n",
       " 'cluster5': ['boston',\n",
       "  'florida',\n",
       "  'palestine',\n",
       "  'america',\n",
       "  'american',\n",
       "  'california',\n",
       "  'michigan',\n",
       "  'alabama',\n",
       "  'south',\n",
       "  'texas',\n",
       "  'nyc',\n",
       "  'southern',\n",
       "  'eu',\n",
       "  'india',\n",
       "  'newyork',\n",
       "  'korea',\n",
       "  'massachusetts',\n",
       "  'us',\n",
       "  'usa'],\n",
       " 'cluster6': ['foxnews',\n",
       "  'liberal',\n",
       "  'wendys',\n",
       "  'msnbc',\n",
       "  'trump',\n",
       "  'democrat',\n",
       "  'conservative',\n",
       "  'republican',\n",
       "  'cnn',\n",
       "  'leftist',\n",
       "  'immigrant',\n",
       "  'biden'],\n",
       " 'cluster7': ['relatable',\n",
       "  'facts',\n",
       "  'mystery',\n",
       "  'update',\n",
       "  'history',\n",
       "  'commentary',\n",
       "  'story',\n",
       "  'new',\n",
       "  'storytime',\n",
       "  'posted'],\n",
       " 'cluster8': ['kissimmee_florida',\n",
       "  'historytiktok',\n",
       "  'anatomyofafall',\n",
       "  'orlandofl',\n",
       "  'kissimmeeflorida',\n",
       "  'dailyshow'],\n",
       " 'cluster9': ['trending',\n",
       "  'trend',\n",
       "  'military',\n",
       "  'millennials',\n",
       "  'twitter',\n",
       "  'college',\n",
       "  'university',\n",
       "  'nfl'],\n",
       " 'cluster10': ['maddie',\n",
       "  'school',\n",
       "  'football',\n",
       "  'education',\n",
       "  'sports',\n",
       "  'middleschool'],\n",
       " 'cluster11': ['connections',\n",
       "  'economy',\n",
       "  'tech',\n",
       "  'awareness',\n",
       "  'debate',\n",
       "  'science',\n",
       "  'politics',\n",
       "  'finance',\n",
       "  'president',\n",
       "  'medical',\n",
       "  'law',\n",
       "  'economics',\n",
       "  'business',\n",
       "  'office'],\n",
       " 'cluster12': ['mvsterious',\n",
       "  'princewilliam',\n",
       "  'parati',\n",
       "  'unsolvedmysteries',\n",
       "  'goodnews',\n",
       "  'funfacts',\n",
       "  'bodycam',\n",
       "  'meme',\n",
       "  'medicalspanish',\n",
       "  'climatechange',\n",
       "  'costofliving',\n",
       "  'uspolitics',\n",
       "  'adopteevoices',\n",
       "  'greenscreenvideo',\n",
       "  'supertuesday',\n",
       "  'genz',\n",
       "  'truecrimecommunity',\n",
       "  '2024',\n",
       "  'truecrime',\n",
       "  'britishroyals',\n",
       "  'globalwarming',\n",
       "  'intérprete',\n",
       "  'orangecounty',\n",
       "  'policeofficer',\n",
       "  'lawstudent',\n",
       "  'triggerwarning',\n",
       "  'crimejunkie',\n",
       "  'supremecourt',\n",
       "  'abcnews',\n",
       "  'chineseadoptee',\n",
       "  'truecrimetok',\n",
       "  'truecrimetiktok',\n",
       "  '2024election',\n",
       "  'britishroyalfamily',\n",
       "  'election2024',\n",
       "  'maddiesoto',\n",
       "  'voteblue'],\n",
       " 'cluster13': ['spanish',\n",
       "  'español',\n",
       "  'translate',\n",
       "  'interpreter',\n",
       "  'communication',\n",
       "  'languages',\n",
       "  'bilingual',\n",
       "  'idiomas',\n",
       "  'language'],\n",
       " 'cluster14': ['otown',\n",
       "  'historytok',\n",
       "  'polkcounty',\n",
       "  'aprendeentiktok',\n",
       "  'crimetok',\n",
       "  'academyawards',\n",
       "  'techforgood',\n",
       "  'royalfamily',\n",
       "  'kissimmeefl',\n",
       "  'findmaddie',\n",
       "  'findmaddiesoto',\n",
       "  'surgepricing',\n",
       "  'jordanklepper',\n",
       "  'donaldtrump',\n",
       "  'newengland',\n",
       "  'learnontiktok',\n",
       "  'findmadelinesoto',\n",
       "  'truecrimejunkie',\n",
       "  'cheesemonger',\n",
       "  'politicaltiktok',\n",
       "  'criminalminds',\n",
       "  'niickjackson'],\n",
       " 'cluster15': ['royals', 'nyt', 'billionaire', 'royal'],\n",
       " 'cluster16': ['creep', 'satire', 'dune'],\n",
       " 'cluster17': ['orlando', 'disneyworld', 'disney', 'kissimmee', 'fl'],\n",
       " 'cluster18': ['creepy',\n",
       "  'dark',\n",
       "  'evil',\n",
       "  'disturbing',\n",
       "  'scary',\n",
       "  'funny',\n",
       "  'horror',\n",
       "  'interesting',\n",
       "  'crazy'],\n",
       " 'cluster19': ['unsolved',\n",
       "  'police',\n",
       "  'capitalism',\n",
       "  'murder',\n",
       "  'cop',\n",
       "  'cops',\n",
       "  'crime',\n",
       "  'criminal']}"
      ]
     },
     "execution_count": 12,
     "metadata": {},
     "output_type": "execute_result"
    }
   ],
   "source": [
    "create_clusters(\"26301\", \"hashtags\", 20)"
   ]
  },
  {
   "cell_type": "markdown",
   "metadata": {},
   "source": [
    "### STEP 3: Compare K-Means Clustering to Graphical Representation of Words"
   ]
  },
  {
   "cell_type": "code",
   "execution_count": 14,
   "metadata": {},
   "outputs": [
    {
     "ename": "KeyError",
     "evalue": "'tsne_1'",
     "output_type": "error",
     "traceback": [
      "\u001b[0;31m---------------------------------------------------------------------------\u001b[0m",
      "\u001b[0;31mKeyError\u001b[0m                                  Traceback (most recent call last)",
      "Cell \u001b[0;32mIn[14], line 59\u001b[0m\n\u001b[1;32m     46\u001b[0m     \u001b[38;5;66;03m#     embed_tsne.iloc[row[\"cluster\"] != cluster_assignment[row[\"hashtags\"]]] = cluster_assignment[row[\"hashtags\"]]\u001b[39;00m\n\u001b[1;32m     47\u001b[0m        \n\u001b[1;32m     48\u001b[0m \n\u001b[0;32m   (...)\u001b[0m\n\u001b[1;32m     54\u001b[0m     \u001b[38;5;66;03m#             #embed_tsne.iloc[row][\"cluster\"] = cluster[0]\u001b[39;00m\n\u001b[1;32m     55\u001b[0m     \u001b[38;5;66;03m#             #embed_tsne.loc[embed_tsne[row], \"cluster\"] = cluster[0]\u001b[39;00m\n\u001b[1;32m     57\u001b[0m     \u001b[38;5;28;01mreturn\u001b[39;00m embed_tsne\n\u001b[0;32m---> 59\u001b[0m \u001b[43mcalculate_tsne\u001b[49m\u001b[43m(\u001b[49m\u001b[38;5;124;43m\"\u001b[39;49m\u001b[38;5;124;43m26301\u001b[39;49m\u001b[38;5;124;43m\"\u001b[39;49m\u001b[43m,\u001b[49m\u001b[43m \u001b[49m\u001b[38;5;124;43m\"\u001b[39;49m\u001b[38;5;124;43mhashtags\u001b[39;49m\u001b[38;5;124;43m\"\u001b[39;49m\u001b[43m,\u001b[49m\u001b[43m \u001b[49m\u001b[38;5;241;43m20\u001b[39;49m\u001b[43m)\u001b[49m \u001b[38;5;66;03m# 20 clusters\u001b[39;00m\n",
      "Cell \u001b[0;32mIn[14], line 42\u001b[0m, in \u001b[0;36mcalculate_tsne\u001b[0;34m(user, to_parse, k)\u001b[0m\n\u001b[1;32m     25\u001b[0m \u001b[38;5;66;03m#return cluster_assignment\u001b[39;00m\n\u001b[1;32m     26\u001b[0m \n\u001b[1;32m     27\u001b[0m \u001b[38;5;66;03m# replace values in the 'age' column based on condition\u001b[39;00m\n\u001b[0;32m   (...)\u001b[0m\n\u001b[1;32m     38\u001b[0m \u001b[38;5;66;03m#     embed_tsne[\"cluster\"]\u001b[39;00m\n\u001b[1;32m     39\u001b[0m \u001b[38;5;66;03m#embed_tsne.loc[embed_tsne[\"cluster\"] != cluster_assignment[hashtag], \"cluster\"] = cluster_assignment[hashtag]\u001b[39;00m\n\u001b[1;32m     41\u001b[0m \u001b[38;5;28;01mfor\u001b[39;00m row \u001b[38;5;129;01min\u001b[39;00m embed_tsne:\n\u001b[0;32m---> 42\u001b[0m     hashtag \u001b[38;5;241m=\u001b[39m \u001b[43membed_tsne\u001b[49m\u001b[43m[\u001b[49m\u001b[38;5;124;43m\"\u001b[39;49m\u001b[38;5;124;43mhashtags\u001b[39;49m\u001b[38;5;124;43m\"\u001b[39;49m\u001b[43m]\u001b[49m\u001b[43m[\u001b[49m\u001b[43mrow\u001b[49m\u001b[43m]\u001b[49m\n\u001b[1;32m     43\u001b[0m     embed_tsne\u001b[38;5;241m.\u001b[39miloc[row][\u001b[38;5;124m\"\u001b[39m\u001b[38;5;124mcluster\u001b[39m\u001b[38;5;124m\"\u001b[39m] \u001b[38;5;241m=\u001b[39m cluster_assignment[hashtag]\n\u001b[1;32m     46\u001b[0m \u001b[38;5;66;03m#     embed_tsne.iloc[row[\"cluster\"] != cluster_assignment[row[\"hashtags\"]]] = cluster_assignment[row[\"hashtags\"]]\u001b[39;00m\n\u001b[1;32m     47\u001b[0m    \n\u001b[1;32m     48\u001b[0m \n\u001b[0;32m   (...)\u001b[0m\n\u001b[1;32m     54\u001b[0m \u001b[38;5;66;03m#             #embed_tsne.iloc[row][\"cluster\"] = cluster[0]\u001b[39;00m\n\u001b[1;32m     55\u001b[0m \u001b[38;5;66;03m#             #embed_tsne.loc[embed_tsne[row], \"cluster\"] = cluster[0]\u001b[39;00m\n",
      "File \u001b[0;32m~/miniconda3/lib/python3.11/site-packages/pandas/core/series.py:1111\u001b[0m, in \u001b[0;36mSeries.__getitem__\u001b[0;34m(self, key)\u001b[0m\n\u001b[1;32m   1108\u001b[0m     \u001b[38;5;28;01mreturn\u001b[39;00m \u001b[38;5;28mself\u001b[39m\u001b[38;5;241m.\u001b[39m_values[key]\n\u001b[1;32m   1110\u001b[0m \u001b[38;5;28;01melif\u001b[39;00m key_is_scalar:\n\u001b[0;32m-> 1111\u001b[0m     \u001b[38;5;28;01mreturn\u001b[39;00m \u001b[38;5;28;43mself\u001b[39;49m\u001b[38;5;241;43m.\u001b[39;49m\u001b[43m_get_value\u001b[49m\u001b[43m(\u001b[49m\u001b[43mkey\u001b[49m\u001b[43m)\u001b[49m\n\u001b[1;32m   1113\u001b[0m \u001b[38;5;66;03m# Convert generator to list before going through hashable part\u001b[39;00m\n\u001b[1;32m   1114\u001b[0m \u001b[38;5;66;03m# (We will iterate through the generator there to check for slices)\u001b[39;00m\n\u001b[1;32m   1115\u001b[0m \u001b[38;5;28;01mif\u001b[39;00m is_iterator(key):\n",
      "File \u001b[0;32m~/miniconda3/lib/python3.11/site-packages/pandas/core/series.py:1227\u001b[0m, in \u001b[0;36mSeries._get_value\u001b[0;34m(self, label, takeable)\u001b[0m\n\u001b[1;32m   1224\u001b[0m     \u001b[38;5;28;01mreturn\u001b[39;00m \u001b[38;5;28mself\u001b[39m\u001b[38;5;241m.\u001b[39m_values[label]\n\u001b[1;32m   1226\u001b[0m \u001b[38;5;66;03m# Similar to Index.get_value, but we do not fall back to positional\u001b[39;00m\n\u001b[0;32m-> 1227\u001b[0m loc \u001b[38;5;241m=\u001b[39m \u001b[38;5;28;43mself\u001b[39;49m\u001b[38;5;241;43m.\u001b[39;49m\u001b[43mindex\u001b[49m\u001b[38;5;241;43m.\u001b[39;49m\u001b[43mget_loc\u001b[49m\u001b[43m(\u001b[49m\u001b[43mlabel\u001b[49m\u001b[43m)\u001b[49m\n\u001b[1;32m   1229\u001b[0m \u001b[38;5;28;01mif\u001b[39;00m is_integer(loc):\n\u001b[1;32m   1230\u001b[0m     \u001b[38;5;28;01mreturn\u001b[39;00m \u001b[38;5;28mself\u001b[39m\u001b[38;5;241m.\u001b[39m_values[loc]\n",
      "File \u001b[0;32m~/miniconda3/lib/python3.11/site-packages/pandas/core/indexes/range.py:417\u001b[0m, in \u001b[0;36mRangeIndex.get_loc\u001b[0;34m(self, key)\u001b[0m\n\u001b[1;32m    415\u001b[0m         \u001b[38;5;28;01mraise\u001b[39;00m \u001b[38;5;167;01mKeyError\u001b[39;00m(key) \u001b[38;5;28;01mfrom\u001b[39;00m \u001b[38;5;21;01merr\u001b[39;00m\n\u001b[1;32m    416\u001b[0m \u001b[38;5;28;01mif\u001b[39;00m \u001b[38;5;28misinstance\u001b[39m(key, Hashable):\n\u001b[0;32m--> 417\u001b[0m     \u001b[38;5;28;01mraise\u001b[39;00m \u001b[38;5;167;01mKeyError\u001b[39;00m(key)\n\u001b[1;32m    418\u001b[0m \u001b[38;5;28mself\u001b[39m\u001b[38;5;241m.\u001b[39m_check_indexing_error(key)\n\u001b[1;32m    419\u001b[0m \u001b[38;5;28;01mraise\u001b[39;00m \u001b[38;5;167;01mKeyError\u001b[39;00m(key)\n",
      "\u001b[0;31mKeyError\u001b[0m: 'tsne_1'"
     ]
    },
    {
     "ename": "",
     "evalue": "",
     "output_type": "error",
     "traceback": [
      "\u001b[1;31mThe Kernel crashed while executing code in the current cell or a previous cell. \n",
      "\u001b[1;31mPlease review the code in the cell(s) to identify a possible cause of the failure. \n",
      "\u001b[1;31mClick <a href='https://aka.ms/vscodeJupyterKernelCrash'>here</a> for more info. \n",
      "\u001b[1;31mView Jupyter <a href='command:jupyter.viewOutput'>log</a> for further details."
     ]
    }
   ],
   "source": [
    "from sklearn.manifold import TSNE\n",
    "\n",
    "def calculate_tsne(user, to_parse, k):\n",
    "    tsne = TSNE(n_components=2, random_state=42)  \n",
    "    tsne_results = tsne.fit_transform(get_embeddings(to_parse)[user])\n",
    "    #return tsne_results\n",
    "    embed_tsne = pd.DataFrame(tsne_results, columns=['tsne_1', 'tsne_2'])\n",
    "    embed_tsne[to_parse] = filtering_hashtag(get_hash_or_sugg(user, to_parse))\n",
    "\n",
    "    # edit\n",
    "    # add in a column for which cluster it is assigned to\n",
    "    cluster_dict = create_clusters(user, to_parse, k)\n",
    "    exit()\n",
    "\n",
    "    embed_tsne[\"cluster\"] = \"\" #--> rewrite this\n",
    "\n",
    "    # list which hashtags are in which cluster first, then order\n",
    "    #output = [hashtag for hashtag in hashtags if hashtag not in hashtag_filter_out]\n",
    "    \n",
    "    cluster_assignment = {} # make this a dictionary instead\n",
    "    for hashtag in embed_tsne[\"hashtags\"]:\n",
    "        for cluster in cluster_dict.items():\n",
    "            if hashtag in cluster[1]:\n",
    "                cluster_assignment[hashtag] = cluster[0]\n",
    "    #return cluster_assignment\n",
    "    \n",
    "    # replace values in the 'age' column based on condition\n",
    "    #df.loc[df['age'] >= 50, 'age'] = 50 ## age greater than 50\n",
    "                \n",
    "    # for assignment in cluster_assignment:\n",
    "    #     # for each (hashtag, cluster) pair\n",
    "    #     embed_tsne.loc[embed_tsne[\"cluster\"] != assignment[1], 'hashtags'] = assignment[1]\n",
    "    \n",
    "    # need a loop?\n",
    "    # for row in\n",
    "    # #hashtag in embed_tsne[\"hashtags\"]:\n",
    "    #     print(cluster_assignment[hashtag])\n",
    "    #     embed_tsne[\"cluster\"]\n",
    "    #embed_tsne.loc[embed_tsne[\"cluster\"] != cluster_assignment[hashtag], \"cluster\"] = cluster_assignment[hashtag]\n",
    "   \n",
    "    for row in embed_tsne:\n",
    "        hashtag = embed_tsne[\"hashtags\"][row]\n",
    "        embed_tsne.iloc[row][\"cluster\"] = cluster_assignment[hashtag]\n",
    "\n",
    "\n",
    "    #     embed_tsne.iloc[row[\"cluster\"] != cluster_assignment[row[\"hashtags\"]]] = cluster_assignment[row[\"hashtags\"]]\n",
    "       \n",
    "\n",
    "  \n",
    "    # for row in range(embed_tsne.shape[0]):\n",
    "    #     hashtag = embed_tsne.iloc[row][\"hashtags\"]\n",
    "    #     for cluster in cluster_dict.items():\n",
    "    #         if hashtag in cluster[1]:\n",
    "    #             #embed_tsne.iloc[row][\"cluster\"] = cluster[0]\n",
    "    #             #embed_tsne.loc[embed_tsne[row], \"cluster\"] = cluster[0]\n",
    "\n",
    "    return embed_tsne\n",
    "\n",
    "calculate_tsne(\"26301\", \"hashtags\", 20) # 20 clusters"
   ]
  },
  {
   "cell_type": "code",
   "execution_count": 165,
   "metadata": {},
   "outputs": [
    {
     "data": {
      "text/plain": [
       "['kissimmee_florida',\n",
       " 'princewilliam',\n",
       " 'orangecounty',\n",
       " 'bodycam',\n",
       " 'kissimmeeflorida',\n",
       " 'costofliving',\n",
       " 'royalnews',\n",
       " 'crimejunkie',\n",
       " 'supertuesday',\n",
       " 'policeofficer',\n",
       " 'movietok',\n",
       " 'chineseadoptee',\n",
       " 'supremecourt',\n",
       " 'abcnews',\n",
       " 'willandkate',\n",
       " 'fy',\n",
       " 'parati',\n",
       " 'medicalspanish',\n",
       " 'dailyshow',\n",
       " 'triggerwarning',\n",
       " 'mvsterious',\n",
       " 'voteblue',\n",
       " 'lawstudent']"
      ]
     },
     "execution_count": 165,
     "metadata": {},
     "output_type": "execute_result"
    }
   ],
   "source": [
    "create_clusters(\"26301\", \"hashtags\", 20)[\"cluster15\"]"
   ]
  },
  {
   "cell_type": "code",
   "execution_count": 139,
   "metadata": {},
   "outputs": [],
   "source": [
    "import plotly.express as px\n",
    "\n",
    "def visualize_tsne(user, to_parse):\n",
    "    data = calculate_tsne(user, to_parse)\n",
    "    fig = px.scatter(data, x='tsne_1', y='tsne_2', text=to_parse)\n",
    "    fig.update_traces(textposition='top center', mode='markers+text', textfont=dict(size=6))\n",
    "    # Update layout with larger width and height\n",
    "    fig.update_layout(title=f'User {user}: Embeddings of TikTok News {to_parse.capitalize()}',\n",
    "                      width=1200,  # Set the width of the figure\n",
    "                      height=800)  # Set the height of the figure\n",
    "    fig.show()"
   ]
  },
  {
   "cell_type": "markdown",
   "metadata": {},
   "source": [
    "## Analysis 1: Hashtags for all Users"
   ]
  },
  {
   "cell_type": "code",
   "execution_count": 140,
   "metadata": {},
   "outputs": [
    {
     "data": {
      "application/vnd.plotly.v1+json": {
       "config": {
        "plotlyServerURL": "https://plot.ly"
       },
       "data": [
        {
         "hovertemplate": "tsne_1=%{x}<br>tsne_2=%{y}<br>hashtags=%{text}<extra></extra>",
         "legendgroup": "",
         "marker": {
          "color": "#636efa",
          "symbol": "circle"
         },
         "mode": "markers+text",
         "name": "",
         "orientation": "v",
         "showlegend": false,
         "text": [
          "kissimmee_florida",
          "education",
          "movie",
          "usa",
          "2024election",
          "donaldtrump",
          "spanish",
          "otown",
          "ivf",
          "stitch",
          "uspolitics",
          "dog",
          "nyc",
          "update",
          "brie",
          "missing",
          "princewilliam",
          "orangecounty",
          "nyt",
          "tech",
          "florida",
          "medical",
          "truecrimejunkie",
          "truecrimetiktok",
          "adopteevoices",
          "scary",
          "university",
          "chineseadoption",
          "trending",
          "law",
          "evil",
          "college",
          "new",
          "eu",
          "learnontiktok",
          "disney",
          "historytiktok",
          "bodycam",
          "crimetok",
          "surgepricing",
          "us",
          "wendys",
          "onechildpolicy",
          "disabilitytiktok",
          "inflation",
          "cnn",
          "kissimmeeflorida",
          "military",
          "britishroyalfamily",
          "netflix",
          "story",
          "conservative",
          "science",
          "polkcounty",
          "kissimmee",
          "office",
          "storytime",
          "language",
          "southern",
          "msnbc",
          "american",
          "filmtok",
          "costofliving",
          "disneyworld",
          "stem",
          "dune",
          "america",
          "nikkihaley",
          "orlandoflorida",
          "president",
          "finance",
          "lawtok",
          "royals",
          "royalnews",
          "findmadelinesoto",
          "palestine",
          "commentary",
          "nfl",
          "business",
          "historytok",
          "cops",
          "crimejunkie",
          "alabama",
          "creep",
          "supertuesday",
          "policeofficer",
          "criminal",
          "longervideos",
          "massachusetts",
          "california",
          "truecrimetok",
          "idiomas",
          "capitalism",
          "madelinesoto",
          "election2024",
          "crime",
          "newyork",
          "republican",
          "niickjackson",
          "globalwarming",
          "economics",
          "genz",
          "trump",
          "movietok",
          "chineseadoptee",
          "maddie",
          "school",
          "boston",
          "newengland",
          "britishroyals",
          "aprendeentiktok",
          "communication",
          "police",
          "supremecourt",
          "satire",
          "academyawards",
          "gaza",
          "mystery",
          "facts",
          "unsolvedmysteries",
          "lawyertiktok",
          "india",
          "abcnews",
          "royalfamily",
          "foxnews",
          "korea",
          "cop",
          "goodnews",
          "creepy",
          "latino",
          "criminalminds",
          "latina",
          "funfacts",
          "connections",
          "lawschool",
          "willandkate",
          "democrat",
          "findmaddie",
          "horror",
          "translate",
          "royal",
          "immigrant",
          "orlandofl",
          "liberal",
          "mobility",
          "oppenheimer",
          "truecrime",
          "truecrimecommunity",
          "fl",
          "unsolved",
          "fy",
          "trend",
          "viral",
          "disability",
          "parati",
          "reachclimbgo",
          "bilingual",
          "medicalspanish",
          "cheesemonger",
          "anatomyofafall",
          "billionaire",
          "twitter",
          "orlando",
          "maddiesoto",
          "dailyshow",
          "politicaltiktok",
          "texas",
          "comedy",
          "lgbtq",
          "murder",
          "awareness",
          "climatechange",
          "findmaddiesoto",
          "techforgood",
          "politics",
          "history",
          "reproductiverights",
          "disturbing",
          "languages",
          "americantranslatorsassociation",
          "oscars",
          "economy",
          "triggerwarning",
          "sports",
          "medicalterminology",
          "español",
          "cheese",
          "scotus",
          "greenscreen",
          "interesting",
          "mvsterious",
          "kissimmeefl",
          "2024",
          "posted",
          "voteblue",
          "crazy",
          "copsoftiktok",
          "interpreter",
          "unitednations",
          "middleschool",
          "biden",
          "relatable",
          "debate",
          "meme",
          "royalupdate",
          "michigan",
          "zerocon24",
          "accessibility",
          "todayshow",
          "floridacheck",
          "election",
          "leftist",
          "jordanklepper",
          "film",
          "dark",
          "funny",
          "millennials",
          "intérprete",
          "football",
          "greenscreenvideo",
          "south",
          "lawstudent"
         ],
         "textfont": {
          "size": 6
         },
         "textposition": "top center",
         "type": "scatter",
         "x": [
          -17.179784774780273,
          6.304428577423096,
          13.233661651611328,
          16.03196907043457,
          -8.034677505493164,
          -10.094273567199707,
          7.959538459777832,
          -14.167784690856934,
          -1.3450230360031128,
          -1.1172266006469727,
          -10.386345863342285,
          9.134706497192383,
          16.27522087097168,
          0.7560176253318787,
          -4.464942455291748,
          -0.7609968185424805,
          -13.29916763305664,
          -5.558040618896484,
          6.626709461212158,
          2.2536966800689697,
          19.89368438720703,
          10.266849517822266,
          -14.420510292053223,
          -9.712882995605469,
          -9.118978500366211,
          4.493165969848633,
          9.588956832885742,
          -6.146450996398926,
          -4.8507561683654785,
          7.9217753410339355,
          5.673855304718018,
          9.615083694458008,
          0.823855459690094,
          17.136903762817383,
          -12.535444259643555,
          19.890018463134766,
          -15.758057594299316,
          -4.290861129760742,
          -5.015417098999023,
          -15.601962089538574,
          16.405839920043945,
          19.23126792907715,
          -7.178741455078125,
          -8.45036792755127,
          1.4214162826538086,
          9.06053638458252,
          -17.179784774780273,
          11.04137134552002,
          -9.088769912719727,
          12.47260570526123,
          3.216372013092041,
          3.8614180088043213,
          4.087629318237305,
          -11.16698169708252,
          20.916784286499023,
          8.141335487365723,
          3.0472304821014404,
          5.750936985015869,
          14.422842979431152,
          8.443341255187988,
          14.716652870178223,
          -3.161062717437744,
          -11.660723686218262,
          20.08599853515625,
          -1.9779350757598877,
          -3.9499247074127197,
          15.13263988494873,
          -7.2931952476501465,
          -0.15212245285511017,
          10.181802749633789,
          6.441379070281982,
          -15.56109619140625,
          12.718689918518066,
          -5.4707865715026855,
          -13.105260848999023,
          17.427427291870117,
          0.1377120316028595,
          11.516034126281738,
          7.2213053703308105,
          -7.145817756652832,
          11.416715621948242,
          -6.103748798370361,
          19.381513595581055,
          3.946925163269043,
          -11.815873146057129,
          -1.7180838584899902,
          10.156254768371582,
          -7.890494346618652,
          17.607385635375977,
          17.67214012145996,
          -10.605978965759277,
          6.569185256958008,
          3.8271446228027344,
          -4.78812837600708,
          -7.59105110168457,
          10.039778709411621,
          16.161386489868164,
          5.500800132751465,
          -14.536079406738281,
          -10.62179183959961,
          4.618067264556885,
          -6.271996021270752,
          10.471420288085938,
          -2.4135310649871826,
          -6.1518425941467285,
          -2.421832323074341,
          8.389291763305664,
          17.356168746948242,
          -14.599039077758789,
          -13.058244705200195,
          -8.576066017150879,
          4.758406162261963,
          11.076165199279785,
          -4.1295084953308105,
          5.872666835784912,
          -4.262639045715332,
          17.413875579833984,
          0.5353476405143738,
          4.532843112945557,
          -8.349912643432617,
          -2.2070305347442627,
          15.476722717285156,
          -7.008288860321045,
          -5.895014762878418,
          8.504301071166992,
          13.391495704650879,
          11.784724235534668,
          -6.732841491699219,
          4.240572929382324,
          15.594977378845215,
          -9.345709800720215,
          15.644086837768555,
          -8.762121200561523,
          4.291194438934326,
          -3.2477269172668457,
          -5.02110481262207,
          5.45941686630249,
          -12.62796401977539,
          6.6933722496032715,
          4.441778182983398,
          12.736574172973633,
          13.570696830749512,
          -9.797270774841309,
          4.002103805541992,
          1.5146384239196777,
          -12.798410415649414,
          -5.421271324157715,
          -7.325187683105469,
          20.37217903137207,
          -0.07935314625501633,
          -4.395263671875,
          -4.874011993408203,
          0.24821937084197998,
          1.341517686843872,
          -6.504140377044678,
          -12.331308364868164,
          6.178064346313477,
          -9.024807929992676,
          -10.561884880065918,
          -10.185043334960938,
          7.428770542144775,
          10.883100509643555,
          20.4758243560791,
          -10.344826698303223,
          -17.690237045288086,
          -11.460250854492188,
          18.209819793701172,
          6.489976406097412,
          0.8778735995292664,
          9.900016784667969,
          5.194616794586182,
          -9.997947692871094,
          -2.733140707015991,
          -7.6468377113342285,
          8.393333435058594,
          3.7741663455963135,
          -1.909472107887268,
          3.456697940826416,
          6.183271408081055,
          -3.6836423873901367,
          14.66972541809082,
          4.767617225646973,
          -4.574173927307129,
          10.512629508972168,
          -11.610261917114258,
          8.194684028625488,
          -4.6114654541015625,
          1.745834231376648,
          -0.5366201996803284,
          3.289870500564575,
          -7.583649158477783,
          -7.903097629547119,
          -17.076669692993164,
          0.367715984582901,
          -5.711529731750488,
          3.9577016830444336,
          -3.5966086387634277,
          5.150091171264648,
          -2.2551586627960205,
          7.723904609680176,
          8.698770523071289,
          3.9444799423217773,
          5.738014221191406,
          -6.961066246032715,
          -4.0087738037109375,
          18.779949188232422,
          -6.144334316253662,
          1.9655896425247192,
          -7.904248237609863,
          -3.8410537242889404,
          7.617649555206299,
          5.041909217834473,
          -11.74135684967041,
          13.44433307647705,
          5.684027671813965,
          4.012600898742676,
          -8.729276657104492,
          -13.054787635803223,
          11.261086463928223,
          -14.93852710723877,
          14.358027458190918,
          -8.484687805175781
         ],
         "xaxis": "x",
         "y": [
          -2.4374399185180664,
          -0.2398512214422226,
          -7.411513805389404,
          1.3501511812210083,
          3.2041139602661133,
          -3.264524221420288,
          -5.413115501403809,
          -5.328136444091797,
          -8.189125061035156,
          -2.192361831665039,
          -0.6504400372505188,
          6.536386013031006,
          -3.8741860389709473,
          7.933255195617676,
          -13.119156837463379,
          13.630288124084473,
          2.630248785018921,
          3.163879156112671,
          -13.580432891845703,
          4.632631778717041,
          -1.6869126558303833,
          1.1284689903259277,
          -2.8939974308013916,
          2.4145801067352295,
          6.210025787353516,
          15.263557434082031,
          -0.8589954376220703,
          -3.8918957710266113,
          13.178254127502441,
          2.86171555519104,
          15.148818016052246,
          -0.8928117156028748,
          7.187774181365967,
          2.9090073108673096,
          -1.9487611055374146,
          -5.441818714141846,
          0.27050870656967163,
          4.802549362182617,
          -4.187350273132324,
          4.7920050621032715,
          2.1786916255950928,
          -7.0217061042785645,
          -1.593597173690796,
          8.549433708190918,
          2.531268835067749,
          -11.484905242919922,
          -2.4374401569366455,
          0.17035049200057983,
          4.2003560066223145,
          -8.026670455932617,
          8.730558395385742,
          -11.254146575927734,
          6.051687240600586,
          -4.630402565002441,
          -3.8935768604278564,
          1.3524153232574463,
          9.122138977050781,
          -4.544301509857178,
          -1.953564167022705,
          -12.390646934509277,
          1.9318807125091553,
          3.201986789703369,
          2.2744150161743164,
          -5.056412696838379,
          -4.614853382110596,
          9.862903594970703,
          1.4571272134780884,
          -4.499248504638672,
          2.542001247406006,
          3.6501331329345703,
          1.6489454507827759,
          4.965412616729736,
          -12.690434455871582,
          0.301541268825531,
          -4.508941650390625,
          -11.126130104064941,
          9.429430961608887,
          -3.751276731491089,
          2.1909189224243164,
          -6.772110939025879,
          6.457807540893555,
          -1.0015078783035278,
          -0.24533866345882416,
          16.77054786682129,
          1.5993165969848633,
          5.462121486663818,
          9.726178169250488,
          0.4402332901954651,
          -2.437424898147583,
          -1.0151084661483765,
          0.11130144447088242,
          -5.545051097869873,
          2.439664125442505,
          -8.731274604797363,
          5.3971333503723145,
          10.242560386657715,
          -4.076894760131836,
          -10.122406005859375,
          -0.011860574595630169,
          6.754636287689209,
          3.1840498447418213,
          1.5877326726913452,
          3.6857335567474365,
          6.36349630355835,
          4.774402141571045,
          -13.248671531677246,
          -1.1458293199539185,
          -2.779999256134033,
          -0.9400496482849121,
          5.378452301025391,
          -5.2721943855285645,
          -2.2758843898773193,
          6.097867012023926,
          -1.859839677810669,
          11.709336280822754,
          -2.7728240489959717,
          -11.161606788635254,
          13.68900203704834,
          7.48880672454834,
          -0.891808807849884,
          0.45966777205467224,
          0.07033826410770416,
          0.38008254766464233,
          -5.540791988372803,
          -12.102747917175293,
          -0.15880557894706726,
          6.73627233505249,
          3.2649776935577393,
          16.015714645385742,
          5.350489139556885,
          -3.1255710124969482,
          5.42402982711792,
          -1.2234026193618774,
          -1.986691951751709,
          1.2206283807754517,
          -1.4541912078857422,
          -10.197044372558594,
          -4.092560291290283,
          13.179914474487305,
          -4.656020164489746,
          -12.656672477722168,
          2.8975467681884766,
          0.9689475893974304,
          -11.263773918151855,
          -2.108769178390503,
          8.466858863830566,
          2.2164719104766846,
          4.231747627258301,
          -1.7345694303512573,
          13.733769416809082,
          7.381991863250732,
          13.199295997619629,
          -4.976765155792236,
          -2.393427610397339,
          2.0649185180664062,
          0.5903005003929138,
          -6.36103630065918,
          4.594831466674805,
          -5.412139892578125,
          -7.96325159072876,
          7.950037002563477,
          -5.768494606018066,
          -3.1835904121398926,
          3.7598259449005127,
          -1.3654093742370605,
          -3.226358413696289,
          -0.4463525116443634,
          12.65195369720459,
          -8.360877990722656,
          10.8840913772583,
          -0.18431247770786285,
          5.646661758422852,
          -3.209651231765747,
          -4.252905368804932,
          4.320016860961914,
          7.5999932289123535,
          1.8542968034744263,
          15.744824409484863,
          -4.977515697479248,
          2.230644941329956,
          -8.224035263061523,
          3.213728904724121,
          0.3747922480106354,
          -3.1218786239624023,
          -1.7399412393569946,
          -5.644428730010986,
          -13.09539794921875,
          -8.965141296386719,
          -0.045944783836603165,
          12.806026458740234,
          1.8111883401870728,
          -6.090675354003906,
          2.666368007659912,
          8.725072860717773,
          5.957738399505615,
          14.106014251708984,
          -0.08893174678087234,
          -6.021810054779053,
          -1.7623120546340942,
          -1.7569732666015625,
          -13.819271087646484,
          10.630355834960938,
          4.8089280128479,
          7.170952320098877,
          -4.401957035064697,
          -1.2794430255889893,
          -2.764417886734009,
          -1.0978384017944336,
          -3.057985305786133,
          -6.005972385406494,
          4.7864532470703125,
          -11.93223762512207,
          5.0350213050842285,
          -7.348354339599609,
          16.54353904724121,
          12.948691368103027,
          9.750813484191895,
          -0.7698643803596497,
          -3.5169484615325928,
          1.4738271236419678,
          -1.8850140571594238,
          1.3326194286346436
         ],
         "yaxis": "y"
        }
       ],
       "layout": {
        "height": 800,
        "legend": {
         "tracegroupgap": 0
        },
        "margin": {
         "t": 60
        },
        "template": {
         "data": {
          "bar": [
           {
            "error_x": {
             "color": "#2a3f5f"
            },
            "error_y": {
             "color": "#2a3f5f"
            },
            "marker": {
             "line": {
              "color": "#E5ECF6",
              "width": 0.5
             },
             "pattern": {
              "fillmode": "overlay",
              "size": 10,
              "solidity": 0.2
             }
            },
            "type": "bar"
           }
          ],
          "barpolar": [
           {
            "marker": {
             "line": {
              "color": "#E5ECF6",
              "width": 0.5
             },
             "pattern": {
              "fillmode": "overlay",
              "size": 10,
              "solidity": 0.2
             }
            },
            "type": "barpolar"
           }
          ],
          "carpet": [
           {
            "aaxis": {
             "endlinecolor": "#2a3f5f",
             "gridcolor": "white",
             "linecolor": "white",
             "minorgridcolor": "white",
             "startlinecolor": "#2a3f5f"
            },
            "baxis": {
             "endlinecolor": "#2a3f5f",
             "gridcolor": "white",
             "linecolor": "white",
             "minorgridcolor": "white",
             "startlinecolor": "#2a3f5f"
            },
            "type": "carpet"
           }
          ],
          "choropleth": [
           {
            "colorbar": {
             "outlinewidth": 0,
             "ticks": ""
            },
            "type": "choropleth"
           }
          ],
          "contour": [
           {
            "colorbar": {
             "outlinewidth": 0,
             "ticks": ""
            },
            "colorscale": [
             [
              0,
              "#0d0887"
             ],
             [
              0.1111111111111111,
              "#46039f"
             ],
             [
              0.2222222222222222,
              "#7201a8"
             ],
             [
              0.3333333333333333,
              "#9c179e"
             ],
             [
              0.4444444444444444,
              "#bd3786"
             ],
             [
              0.5555555555555556,
              "#d8576b"
             ],
             [
              0.6666666666666666,
              "#ed7953"
             ],
             [
              0.7777777777777778,
              "#fb9f3a"
             ],
             [
              0.8888888888888888,
              "#fdca26"
             ],
             [
              1,
              "#f0f921"
             ]
            ],
            "type": "contour"
           }
          ],
          "contourcarpet": [
           {
            "colorbar": {
             "outlinewidth": 0,
             "ticks": ""
            },
            "type": "contourcarpet"
           }
          ],
          "heatmap": [
           {
            "colorbar": {
             "outlinewidth": 0,
             "ticks": ""
            },
            "colorscale": [
             [
              0,
              "#0d0887"
             ],
             [
              0.1111111111111111,
              "#46039f"
             ],
             [
              0.2222222222222222,
              "#7201a8"
             ],
             [
              0.3333333333333333,
              "#9c179e"
             ],
             [
              0.4444444444444444,
              "#bd3786"
             ],
             [
              0.5555555555555556,
              "#d8576b"
             ],
             [
              0.6666666666666666,
              "#ed7953"
             ],
             [
              0.7777777777777778,
              "#fb9f3a"
             ],
             [
              0.8888888888888888,
              "#fdca26"
             ],
             [
              1,
              "#f0f921"
             ]
            ],
            "type": "heatmap"
           }
          ],
          "heatmapgl": [
           {
            "colorbar": {
             "outlinewidth": 0,
             "ticks": ""
            },
            "colorscale": [
             [
              0,
              "#0d0887"
             ],
             [
              0.1111111111111111,
              "#46039f"
             ],
             [
              0.2222222222222222,
              "#7201a8"
             ],
             [
              0.3333333333333333,
              "#9c179e"
             ],
             [
              0.4444444444444444,
              "#bd3786"
             ],
             [
              0.5555555555555556,
              "#d8576b"
             ],
             [
              0.6666666666666666,
              "#ed7953"
             ],
             [
              0.7777777777777778,
              "#fb9f3a"
             ],
             [
              0.8888888888888888,
              "#fdca26"
             ],
             [
              1,
              "#f0f921"
             ]
            ],
            "type": "heatmapgl"
           }
          ],
          "histogram": [
           {
            "marker": {
             "pattern": {
              "fillmode": "overlay",
              "size": 10,
              "solidity": 0.2
             }
            },
            "type": "histogram"
           }
          ],
          "histogram2d": [
           {
            "colorbar": {
             "outlinewidth": 0,
             "ticks": ""
            },
            "colorscale": [
             [
              0,
              "#0d0887"
             ],
             [
              0.1111111111111111,
              "#46039f"
             ],
             [
              0.2222222222222222,
              "#7201a8"
             ],
             [
              0.3333333333333333,
              "#9c179e"
             ],
             [
              0.4444444444444444,
              "#bd3786"
             ],
             [
              0.5555555555555556,
              "#d8576b"
             ],
             [
              0.6666666666666666,
              "#ed7953"
             ],
             [
              0.7777777777777778,
              "#fb9f3a"
             ],
             [
              0.8888888888888888,
              "#fdca26"
             ],
             [
              1,
              "#f0f921"
             ]
            ],
            "type": "histogram2d"
           }
          ],
          "histogram2dcontour": [
           {
            "colorbar": {
             "outlinewidth": 0,
             "ticks": ""
            },
            "colorscale": [
             [
              0,
              "#0d0887"
             ],
             [
              0.1111111111111111,
              "#46039f"
             ],
             [
              0.2222222222222222,
              "#7201a8"
             ],
             [
              0.3333333333333333,
              "#9c179e"
             ],
             [
              0.4444444444444444,
              "#bd3786"
             ],
             [
              0.5555555555555556,
              "#d8576b"
             ],
             [
              0.6666666666666666,
              "#ed7953"
             ],
             [
              0.7777777777777778,
              "#fb9f3a"
             ],
             [
              0.8888888888888888,
              "#fdca26"
             ],
             [
              1,
              "#f0f921"
             ]
            ],
            "type": "histogram2dcontour"
           }
          ],
          "mesh3d": [
           {
            "colorbar": {
             "outlinewidth": 0,
             "ticks": ""
            },
            "type": "mesh3d"
           }
          ],
          "parcoords": [
           {
            "line": {
             "colorbar": {
              "outlinewidth": 0,
              "ticks": ""
             }
            },
            "type": "parcoords"
           }
          ],
          "pie": [
           {
            "automargin": true,
            "type": "pie"
           }
          ],
          "scatter": [
           {
            "fillpattern": {
             "fillmode": "overlay",
             "size": 10,
             "solidity": 0.2
            },
            "type": "scatter"
           }
          ],
          "scatter3d": [
           {
            "line": {
             "colorbar": {
              "outlinewidth": 0,
              "ticks": ""
             }
            },
            "marker": {
             "colorbar": {
              "outlinewidth": 0,
              "ticks": ""
             }
            },
            "type": "scatter3d"
           }
          ],
          "scattercarpet": [
           {
            "marker": {
             "colorbar": {
              "outlinewidth": 0,
              "ticks": ""
             }
            },
            "type": "scattercarpet"
           }
          ],
          "scattergeo": [
           {
            "marker": {
             "colorbar": {
              "outlinewidth": 0,
              "ticks": ""
             }
            },
            "type": "scattergeo"
           }
          ],
          "scattergl": [
           {
            "marker": {
             "colorbar": {
              "outlinewidth": 0,
              "ticks": ""
             }
            },
            "type": "scattergl"
           }
          ],
          "scattermapbox": [
           {
            "marker": {
             "colorbar": {
              "outlinewidth": 0,
              "ticks": ""
             }
            },
            "type": "scattermapbox"
           }
          ],
          "scatterpolar": [
           {
            "marker": {
             "colorbar": {
              "outlinewidth": 0,
              "ticks": ""
             }
            },
            "type": "scatterpolar"
           }
          ],
          "scatterpolargl": [
           {
            "marker": {
             "colorbar": {
              "outlinewidth": 0,
              "ticks": ""
             }
            },
            "type": "scatterpolargl"
           }
          ],
          "scatterternary": [
           {
            "marker": {
             "colorbar": {
              "outlinewidth": 0,
              "ticks": ""
             }
            },
            "type": "scatterternary"
           }
          ],
          "surface": [
           {
            "colorbar": {
             "outlinewidth": 0,
             "ticks": ""
            },
            "colorscale": [
             [
              0,
              "#0d0887"
             ],
             [
              0.1111111111111111,
              "#46039f"
             ],
             [
              0.2222222222222222,
              "#7201a8"
             ],
             [
              0.3333333333333333,
              "#9c179e"
             ],
             [
              0.4444444444444444,
              "#bd3786"
             ],
             [
              0.5555555555555556,
              "#d8576b"
             ],
             [
              0.6666666666666666,
              "#ed7953"
             ],
             [
              0.7777777777777778,
              "#fb9f3a"
             ],
             [
              0.8888888888888888,
              "#fdca26"
             ],
             [
              1,
              "#f0f921"
             ]
            ],
            "type": "surface"
           }
          ],
          "table": [
           {
            "cells": {
             "fill": {
              "color": "#EBF0F8"
             },
             "line": {
              "color": "white"
             }
            },
            "header": {
             "fill": {
              "color": "#C8D4E3"
             },
             "line": {
              "color": "white"
             }
            },
            "type": "table"
           }
          ]
         },
         "layout": {
          "annotationdefaults": {
           "arrowcolor": "#2a3f5f",
           "arrowhead": 0,
           "arrowwidth": 1
          },
          "autotypenumbers": "strict",
          "coloraxis": {
           "colorbar": {
            "outlinewidth": 0,
            "ticks": ""
           }
          },
          "colorscale": {
           "diverging": [
            [
             0,
             "#8e0152"
            ],
            [
             0.1,
             "#c51b7d"
            ],
            [
             0.2,
             "#de77ae"
            ],
            [
             0.3,
             "#f1b6da"
            ],
            [
             0.4,
             "#fde0ef"
            ],
            [
             0.5,
             "#f7f7f7"
            ],
            [
             0.6,
             "#e6f5d0"
            ],
            [
             0.7,
             "#b8e186"
            ],
            [
             0.8,
             "#7fbc41"
            ],
            [
             0.9,
             "#4d9221"
            ],
            [
             1,
             "#276419"
            ]
           ],
           "sequential": [
            [
             0,
             "#0d0887"
            ],
            [
             0.1111111111111111,
             "#46039f"
            ],
            [
             0.2222222222222222,
             "#7201a8"
            ],
            [
             0.3333333333333333,
             "#9c179e"
            ],
            [
             0.4444444444444444,
             "#bd3786"
            ],
            [
             0.5555555555555556,
             "#d8576b"
            ],
            [
             0.6666666666666666,
             "#ed7953"
            ],
            [
             0.7777777777777778,
             "#fb9f3a"
            ],
            [
             0.8888888888888888,
             "#fdca26"
            ],
            [
             1,
             "#f0f921"
            ]
           ],
           "sequentialminus": [
            [
             0,
             "#0d0887"
            ],
            [
             0.1111111111111111,
             "#46039f"
            ],
            [
             0.2222222222222222,
             "#7201a8"
            ],
            [
             0.3333333333333333,
             "#9c179e"
            ],
            [
             0.4444444444444444,
             "#bd3786"
            ],
            [
             0.5555555555555556,
             "#d8576b"
            ],
            [
             0.6666666666666666,
             "#ed7953"
            ],
            [
             0.7777777777777778,
             "#fb9f3a"
            ],
            [
             0.8888888888888888,
             "#fdca26"
            ],
            [
             1,
             "#f0f921"
            ]
           ]
          },
          "colorway": [
           "#636efa",
           "#EF553B",
           "#00cc96",
           "#ab63fa",
           "#FFA15A",
           "#19d3f3",
           "#FF6692",
           "#B6E880",
           "#FF97FF",
           "#FECB52"
          ],
          "font": {
           "color": "#2a3f5f"
          },
          "geo": {
           "bgcolor": "white",
           "lakecolor": "white",
           "landcolor": "#E5ECF6",
           "showlakes": true,
           "showland": true,
           "subunitcolor": "white"
          },
          "hoverlabel": {
           "align": "left"
          },
          "hovermode": "closest",
          "mapbox": {
           "style": "light"
          },
          "paper_bgcolor": "white",
          "plot_bgcolor": "#E5ECF6",
          "polar": {
           "angularaxis": {
            "gridcolor": "white",
            "linecolor": "white",
            "ticks": ""
           },
           "bgcolor": "#E5ECF6",
           "radialaxis": {
            "gridcolor": "white",
            "linecolor": "white",
            "ticks": ""
           }
          },
          "scene": {
           "xaxis": {
            "backgroundcolor": "#E5ECF6",
            "gridcolor": "white",
            "gridwidth": 2,
            "linecolor": "white",
            "showbackground": true,
            "ticks": "",
            "zerolinecolor": "white"
           },
           "yaxis": {
            "backgroundcolor": "#E5ECF6",
            "gridcolor": "white",
            "gridwidth": 2,
            "linecolor": "white",
            "showbackground": true,
            "ticks": "",
            "zerolinecolor": "white"
           },
           "zaxis": {
            "backgroundcolor": "#E5ECF6",
            "gridcolor": "white",
            "gridwidth": 2,
            "linecolor": "white",
            "showbackground": true,
            "ticks": "",
            "zerolinecolor": "white"
           }
          },
          "shapedefaults": {
           "line": {
            "color": "#2a3f5f"
           }
          },
          "ternary": {
           "aaxis": {
            "gridcolor": "white",
            "linecolor": "white",
            "ticks": ""
           },
           "baxis": {
            "gridcolor": "white",
            "linecolor": "white",
            "ticks": ""
           },
           "bgcolor": "#E5ECF6",
           "caxis": {
            "gridcolor": "white",
            "linecolor": "white",
            "ticks": ""
           }
          },
          "title": {
           "x": 0.05
          },
          "xaxis": {
           "automargin": true,
           "gridcolor": "white",
           "linecolor": "white",
           "ticks": "",
           "title": {
            "standoff": 15
           },
           "zerolinecolor": "white",
           "zerolinewidth": 2
          },
          "yaxis": {
           "automargin": true,
           "gridcolor": "white",
           "linecolor": "white",
           "ticks": "",
           "title": {
            "standoff": 15
           },
           "zerolinecolor": "white",
           "zerolinewidth": 2
          }
         }
        },
        "title": {
         "text": "User 26301: Embeddings of TikTok News Hashtags"
        },
        "width": 1200,
        "xaxis": {
         "anchor": "y",
         "domain": [
          0,
          1
         ],
         "title": {
          "text": "tsne_1"
         }
        },
        "yaxis": {
         "anchor": "x",
         "domain": [
          0,
          1
         ],
         "title": {
          "text": "tsne_2"
         }
        }
       }
      }
     },
     "metadata": {},
     "output_type": "display_data"
    }
   ],
   "source": [
    "visualize_tsne(\"26301\", \"hashtags\")"
   ]
  },
  {
   "cell_type": "code",
   "execution_count": 136,
   "metadata": {},
   "outputs": [
    {
     "data": {
      "application/vnd.plotly.v1+json": {
       "config": {
        "plotlyServerURL": "https://plot.ly"
       },
       "data": [
        {
         "hovertemplate": "tsne_1=%{x}<br>tsne_2=%{y}<br>hashtags=%{text}<extra></extra>",
         "legendgroup": "",
         "marker": {
          "color": "#636efa",
          "symbol": "circle"
         },
         "mode": "markers+text",
         "name": "",
         "orientation": "v",
         "showlegend": false,
         "text": [
          "education",
          "basketball",
          "worldnews",
          "usa",
          "barbiemovie",
          "today",
          "police",
          "snl",
          "nikkihaley",
          "president",
          "indian",
          "vote",
          "politics",
          "joebiden",
          "freepalestine",
          "cold",
          "washingtondc",
          "palestine",
          "sports",
          "oscars",
          "nfl",
          "business",
          "kingabdullah",
          "snow",
          "2024",
          "biden",
          "feminism",
          "ryangosling",
          "dc",
          "michigan",
          "us",
          "barbie",
          "funny",
          "nba",
          "republican",
          "superbowl",
          "trump",
          "football"
         ],
         "textfont": {
          "size": 6
         },
         "textposition": "top center",
         "type": "scatter",
         "x": [
          -1.258923053741455,
          -1.9522039890289307,
          -0.6472650766372681,
          -2.1534018516540527,
          -1.4381482601165771,
          -2.1230251789093018,
          -1.3502748012542725,
          -1.9114770889282227,
          -1.1877295970916748,
          -1.2982476949691772,
          -1.6412107944488525,
          -0.8768935203552246,
          -1.105979084968567,
          -0.9072530269622803,
          -1.4746309518814087,
          -2.6275503635406494,
          -1.9171216487884521,
          -0.5154480338096619,
          -2.0210864543914795,
          -0.6095147728919983,
          -1.9252368211746216,
          -1.6018248796463013,
          -1.027896523475647,
          -2.493459463119507,
          -2.098365306854248,
          -1.4250894784927368,
          -0.6118497848510742,
          -1.0271557569503784,
          -2.2204654216766357,
          -2.3808705806732178,
          -2.0259013175964355,
          -0.7375421524047852,
          -1.417906403541565,
          -1.8325719833374023,
          -1.2871840000152588,
          -2.210195302963257,
          -1.255151391029358,
          -1.9380528926849365
         ],
         "xaxis": "x",
         "y": [
          -2.567639112472534,
          -3.2440953254699707,
          -2.869096279144287,
          -2.284675121307373,
          -1.7610818147659302,
          -2.017744779586792,
          -2.9198341369628906,
          -4.010811805725098,
          -1.6673784255981445,
          -3.0360145568847656,
          -2.762336254119873,
          -2.621163845062256,
          -3.0575315952301025,
          -1.7432184219360352,
          -1.635884165763855,
          -2.8638057708740234,
          -1.8181171417236328,
          -2.6317360401153564,
          -3.0939197540283203,
          -2.6358189582824707,
          -3.319369316101074,
          -2.586393117904663,
          -1.988250494003296,
          -2.843297004699707,
          -1.645381212234497,
          -4.1048383712768555,
          -3.270362377166748,
          -1.997714638710022,
          -2.193073272705078,
          -2.2459123134613037,
          -2.3125758171081543,
          -3.635185718536377,
          -3.6143622398376465,
          -3.1832025051116943,
          -3.3367440700531006,
          -3.5849595069885254,
          -3.4022603034973145,
          -3.235793352127075
         ],
         "yaxis": "y"
        }
       ],
       "layout": {
        "height": 800,
        "legend": {
         "tracegroupgap": 0
        },
        "margin": {
         "t": 60
        },
        "template": {
         "data": {
          "bar": [
           {
            "error_x": {
             "color": "#2a3f5f"
            },
            "error_y": {
             "color": "#2a3f5f"
            },
            "marker": {
             "line": {
              "color": "#E5ECF6",
              "width": 0.5
             },
             "pattern": {
              "fillmode": "overlay",
              "size": 10,
              "solidity": 0.2
             }
            },
            "type": "bar"
           }
          ],
          "barpolar": [
           {
            "marker": {
             "line": {
              "color": "#E5ECF6",
              "width": 0.5
             },
             "pattern": {
              "fillmode": "overlay",
              "size": 10,
              "solidity": 0.2
             }
            },
            "type": "barpolar"
           }
          ],
          "carpet": [
           {
            "aaxis": {
             "endlinecolor": "#2a3f5f",
             "gridcolor": "white",
             "linecolor": "white",
             "minorgridcolor": "white",
             "startlinecolor": "#2a3f5f"
            },
            "baxis": {
             "endlinecolor": "#2a3f5f",
             "gridcolor": "white",
             "linecolor": "white",
             "minorgridcolor": "white",
             "startlinecolor": "#2a3f5f"
            },
            "type": "carpet"
           }
          ],
          "choropleth": [
           {
            "colorbar": {
             "outlinewidth": 0,
             "ticks": ""
            },
            "type": "choropleth"
           }
          ],
          "contour": [
           {
            "colorbar": {
             "outlinewidth": 0,
             "ticks": ""
            },
            "colorscale": [
             [
              0,
              "#0d0887"
             ],
             [
              0.1111111111111111,
              "#46039f"
             ],
             [
              0.2222222222222222,
              "#7201a8"
             ],
             [
              0.3333333333333333,
              "#9c179e"
             ],
             [
              0.4444444444444444,
              "#bd3786"
             ],
             [
              0.5555555555555556,
              "#d8576b"
             ],
             [
              0.6666666666666666,
              "#ed7953"
             ],
             [
              0.7777777777777778,
              "#fb9f3a"
             ],
             [
              0.8888888888888888,
              "#fdca26"
             ],
             [
              1,
              "#f0f921"
             ]
            ],
            "type": "contour"
           }
          ],
          "contourcarpet": [
           {
            "colorbar": {
             "outlinewidth": 0,
             "ticks": ""
            },
            "type": "contourcarpet"
           }
          ],
          "heatmap": [
           {
            "colorbar": {
             "outlinewidth": 0,
             "ticks": ""
            },
            "colorscale": [
             [
              0,
              "#0d0887"
             ],
             [
              0.1111111111111111,
              "#46039f"
             ],
             [
              0.2222222222222222,
              "#7201a8"
             ],
             [
              0.3333333333333333,
              "#9c179e"
             ],
             [
              0.4444444444444444,
              "#bd3786"
             ],
             [
              0.5555555555555556,
              "#d8576b"
             ],
             [
              0.6666666666666666,
              "#ed7953"
             ],
             [
              0.7777777777777778,
              "#fb9f3a"
             ],
             [
              0.8888888888888888,
              "#fdca26"
             ],
             [
              1,
              "#f0f921"
             ]
            ],
            "type": "heatmap"
           }
          ],
          "heatmapgl": [
           {
            "colorbar": {
             "outlinewidth": 0,
             "ticks": ""
            },
            "colorscale": [
             [
              0,
              "#0d0887"
             ],
             [
              0.1111111111111111,
              "#46039f"
             ],
             [
              0.2222222222222222,
              "#7201a8"
             ],
             [
              0.3333333333333333,
              "#9c179e"
             ],
             [
              0.4444444444444444,
              "#bd3786"
             ],
             [
              0.5555555555555556,
              "#d8576b"
             ],
             [
              0.6666666666666666,
              "#ed7953"
             ],
             [
              0.7777777777777778,
              "#fb9f3a"
             ],
             [
              0.8888888888888888,
              "#fdca26"
             ],
             [
              1,
              "#f0f921"
             ]
            ],
            "type": "heatmapgl"
           }
          ],
          "histogram": [
           {
            "marker": {
             "pattern": {
              "fillmode": "overlay",
              "size": 10,
              "solidity": 0.2
             }
            },
            "type": "histogram"
           }
          ],
          "histogram2d": [
           {
            "colorbar": {
             "outlinewidth": 0,
             "ticks": ""
            },
            "colorscale": [
             [
              0,
              "#0d0887"
             ],
             [
              0.1111111111111111,
              "#46039f"
             ],
             [
              0.2222222222222222,
              "#7201a8"
             ],
             [
              0.3333333333333333,
              "#9c179e"
             ],
             [
              0.4444444444444444,
              "#bd3786"
             ],
             [
              0.5555555555555556,
              "#d8576b"
             ],
             [
              0.6666666666666666,
              "#ed7953"
             ],
             [
              0.7777777777777778,
              "#fb9f3a"
             ],
             [
              0.8888888888888888,
              "#fdca26"
             ],
             [
              1,
              "#f0f921"
             ]
            ],
            "type": "histogram2d"
           }
          ],
          "histogram2dcontour": [
           {
            "colorbar": {
             "outlinewidth": 0,
             "ticks": ""
            },
            "colorscale": [
             [
              0,
              "#0d0887"
             ],
             [
              0.1111111111111111,
              "#46039f"
             ],
             [
              0.2222222222222222,
              "#7201a8"
             ],
             [
              0.3333333333333333,
              "#9c179e"
             ],
             [
              0.4444444444444444,
              "#bd3786"
             ],
             [
              0.5555555555555556,
              "#d8576b"
             ],
             [
              0.6666666666666666,
              "#ed7953"
             ],
             [
              0.7777777777777778,
              "#fb9f3a"
             ],
             [
              0.8888888888888888,
              "#fdca26"
             ],
             [
              1,
              "#f0f921"
             ]
            ],
            "type": "histogram2dcontour"
           }
          ],
          "mesh3d": [
           {
            "colorbar": {
             "outlinewidth": 0,
             "ticks": ""
            },
            "type": "mesh3d"
           }
          ],
          "parcoords": [
           {
            "line": {
             "colorbar": {
              "outlinewidth": 0,
              "ticks": ""
             }
            },
            "type": "parcoords"
           }
          ],
          "pie": [
           {
            "automargin": true,
            "type": "pie"
           }
          ],
          "scatter": [
           {
            "fillpattern": {
             "fillmode": "overlay",
             "size": 10,
             "solidity": 0.2
            },
            "type": "scatter"
           }
          ],
          "scatter3d": [
           {
            "line": {
             "colorbar": {
              "outlinewidth": 0,
              "ticks": ""
             }
            },
            "marker": {
             "colorbar": {
              "outlinewidth": 0,
              "ticks": ""
             }
            },
            "type": "scatter3d"
           }
          ],
          "scattercarpet": [
           {
            "marker": {
             "colorbar": {
              "outlinewidth": 0,
              "ticks": ""
             }
            },
            "type": "scattercarpet"
           }
          ],
          "scattergeo": [
           {
            "marker": {
             "colorbar": {
              "outlinewidth": 0,
              "ticks": ""
             }
            },
            "type": "scattergeo"
           }
          ],
          "scattergl": [
           {
            "marker": {
             "colorbar": {
              "outlinewidth": 0,
              "ticks": ""
             }
            },
            "type": "scattergl"
           }
          ],
          "scattermapbox": [
           {
            "marker": {
             "colorbar": {
              "outlinewidth": 0,
              "ticks": ""
             }
            },
            "type": "scattermapbox"
           }
          ],
          "scatterpolar": [
           {
            "marker": {
             "colorbar": {
              "outlinewidth": 0,
              "ticks": ""
             }
            },
            "type": "scatterpolar"
           }
          ],
          "scatterpolargl": [
           {
            "marker": {
             "colorbar": {
              "outlinewidth": 0,
              "ticks": ""
             }
            },
            "type": "scatterpolargl"
           }
          ],
          "scatterternary": [
           {
            "marker": {
             "colorbar": {
              "outlinewidth": 0,
              "ticks": ""
             }
            },
            "type": "scatterternary"
           }
          ],
          "surface": [
           {
            "colorbar": {
             "outlinewidth": 0,
             "ticks": ""
            },
            "colorscale": [
             [
              0,
              "#0d0887"
             ],
             [
              0.1111111111111111,
              "#46039f"
             ],
             [
              0.2222222222222222,
              "#7201a8"
             ],
             [
              0.3333333333333333,
              "#9c179e"
             ],
             [
              0.4444444444444444,
              "#bd3786"
             ],
             [
              0.5555555555555556,
              "#d8576b"
             ],
             [
              0.6666666666666666,
              "#ed7953"
             ],
             [
              0.7777777777777778,
              "#fb9f3a"
             ],
             [
              0.8888888888888888,
              "#fdca26"
             ],
             [
              1,
              "#f0f921"
             ]
            ],
            "type": "surface"
           }
          ],
          "table": [
           {
            "cells": {
             "fill": {
              "color": "#EBF0F8"
             },
             "line": {
              "color": "white"
             }
            },
            "header": {
             "fill": {
              "color": "#C8D4E3"
             },
             "line": {
              "color": "white"
             }
            },
            "type": "table"
           }
          ]
         },
         "layout": {
          "annotationdefaults": {
           "arrowcolor": "#2a3f5f",
           "arrowhead": 0,
           "arrowwidth": 1
          },
          "autotypenumbers": "strict",
          "coloraxis": {
           "colorbar": {
            "outlinewidth": 0,
            "ticks": ""
           }
          },
          "colorscale": {
           "diverging": [
            [
             0,
             "#8e0152"
            ],
            [
             0.1,
             "#c51b7d"
            ],
            [
             0.2,
             "#de77ae"
            ],
            [
             0.3,
             "#f1b6da"
            ],
            [
             0.4,
             "#fde0ef"
            ],
            [
             0.5,
             "#f7f7f7"
            ],
            [
             0.6,
             "#e6f5d0"
            ],
            [
             0.7,
             "#b8e186"
            ],
            [
             0.8,
             "#7fbc41"
            ],
            [
             0.9,
             "#4d9221"
            ],
            [
             1,
             "#276419"
            ]
           ],
           "sequential": [
            [
             0,
             "#0d0887"
            ],
            [
             0.1111111111111111,
             "#46039f"
            ],
            [
             0.2222222222222222,
             "#7201a8"
            ],
            [
             0.3333333333333333,
             "#9c179e"
            ],
            [
             0.4444444444444444,
             "#bd3786"
            ],
            [
             0.5555555555555556,
             "#d8576b"
            ],
            [
             0.6666666666666666,
             "#ed7953"
            ],
            [
             0.7777777777777778,
             "#fb9f3a"
            ],
            [
             0.8888888888888888,
             "#fdca26"
            ],
            [
             1,
             "#f0f921"
            ]
           ],
           "sequentialminus": [
            [
             0,
             "#0d0887"
            ],
            [
             0.1111111111111111,
             "#46039f"
            ],
            [
             0.2222222222222222,
             "#7201a8"
            ],
            [
             0.3333333333333333,
             "#9c179e"
            ],
            [
             0.4444444444444444,
             "#bd3786"
            ],
            [
             0.5555555555555556,
             "#d8576b"
            ],
            [
             0.6666666666666666,
             "#ed7953"
            ],
            [
             0.7777777777777778,
             "#fb9f3a"
            ],
            [
             0.8888888888888888,
             "#fdca26"
            ],
            [
             1,
             "#f0f921"
            ]
           ]
          },
          "colorway": [
           "#636efa",
           "#EF553B",
           "#00cc96",
           "#ab63fa",
           "#FFA15A",
           "#19d3f3",
           "#FF6692",
           "#B6E880",
           "#FF97FF",
           "#FECB52"
          ],
          "font": {
           "color": "#2a3f5f"
          },
          "geo": {
           "bgcolor": "white",
           "lakecolor": "white",
           "landcolor": "#E5ECF6",
           "showlakes": true,
           "showland": true,
           "subunitcolor": "white"
          },
          "hoverlabel": {
           "align": "left"
          },
          "hovermode": "closest",
          "mapbox": {
           "style": "light"
          },
          "paper_bgcolor": "white",
          "plot_bgcolor": "#E5ECF6",
          "polar": {
           "angularaxis": {
            "gridcolor": "white",
            "linecolor": "white",
            "ticks": ""
           },
           "bgcolor": "#E5ECF6",
           "radialaxis": {
            "gridcolor": "white",
            "linecolor": "white",
            "ticks": ""
           }
          },
          "scene": {
           "xaxis": {
            "backgroundcolor": "#E5ECF6",
            "gridcolor": "white",
            "gridwidth": 2,
            "linecolor": "white",
            "showbackground": true,
            "ticks": "",
            "zerolinecolor": "white"
           },
           "yaxis": {
            "backgroundcolor": "#E5ECF6",
            "gridcolor": "white",
            "gridwidth": 2,
            "linecolor": "white",
            "showbackground": true,
            "ticks": "",
            "zerolinecolor": "white"
           },
           "zaxis": {
            "backgroundcolor": "#E5ECF6",
            "gridcolor": "white",
            "gridwidth": 2,
            "linecolor": "white",
            "showbackground": true,
            "ticks": "",
            "zerolinecolor": "white"
           }
          },
          "shapedefaults": {
           "line": {
            "color": "#2a3f5f"
           }
          },
          "ternary": {
           "aaxis": {
            "gridcolor": "white",
            "linecolor": "white",
            "ticks": ""
           },
           "baxis": {
            "gridcolor": "white",
            "linecolor": "white",
            "ticks": ""
           },
           "bgcolor": "#E5ECF6",
           "caxis": {
            "gridcolor": "white",
            "linecolor": "white",
            "ticks": ""
           }
          },
          "title": {
           "x": 0.05
          },
          "xaxis": {
           "automargin": true,
           "gridcolor": "white",
           "linecolor": "white",
           "ticks": "",
           "title": {
            "standoff": 15
           },
           "zerolinecolor": "white",
           "zerolinewidth": 2
          },
          "yaxis": {
           "automargin": true,
           "gridcolor": "white",
           "linecolor": "white",
           "ticks": "",
           "title": {
            "standoff": 15
           },
           "zerolinecolor": "white",
           "zerolinewidth": 2
          }
         }
        },
        "title": {
         "text": "User 33534: Embeddings of TikTok News hashtags"
        },
        "width": 1200,
        "xaxis": {
         "anchor": "y",
         "domain": [
          0,
          1
         ],
         "title": {
          "text": "tsne_1"
         }
        },
        "yaxis": {
         "anchor": "x",
         "domain": [
          0,
          1
         ],
         "title": {
          "text": "tsne_2"
         }
        }
       }
      }
     },
     "metadata": {},
     "output_type": "display_data"
    }
   ],
   "source": [
    "visualize_tsne(\"33534\", \"hashtags\")"
   ]
  },
  {
   "cell_type": "markdown",
   "metadata": {},
   "source": [
    "## Analysis 2: Suggested words for all Users"
   ]
  }
 ],
 "metadata": {
  "kernelspec": {
   "display_name": "Python 3 (ipykernel)",
   "language": "python",
   "name": "python3"
  },
  "language_info": {
   "codemirror_mode": {
    "name": "ipython",
    "version": 3
   },
   "file_extension": ".py",
   "mimetype": "text/x-python",
   "name": "python",
   "nbconvert_exporter": "python",
   "pygments_lexer": "ipython3",
   "version": "3.11.5"
  }
 },
 "nbformat": 4,
 "nbformat_minor": 4
}
