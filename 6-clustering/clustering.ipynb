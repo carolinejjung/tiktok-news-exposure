{
 "cells": [
  {
   "cell_type": "code",
   "execution_count": 2,
   "metadata": {},
   "outputs": [
    {
     "name": "stderr",
     "output_type": "stream",
     "text": [
      "/var/folders/cw/4tmbrj3d1pzd4rhyrm8vnwyc0000gn/T/ipykernel_89658/4080736814.py:1: DeprecationWarning: \n",
      "Pyarrow will become a required dependency of pandas in the next major release of pandas (pandas 3.0),\n",
      "(to allow more performant data types, such as the Arrow string type, and better interoperability with other libraries)\n",
      "but was not found to be installed on your system.\n",
      "If this would cause problems for you,\n",
      "please provide us feedback at https://github.com/pandas-dev/pandas/issues/54466\n",
      "        \n",
      "  import pandas as pd\n"
     ]
    }
   ],
   "source": [
    "import pandas as pd\n",
    "from collections import Counter\n",
    "import plotly.express as px"
   ]
  },
  {
   "cell_type": "code",
   "execution_count": 8,
   "metadata": {},
   "outputs": [
    {
     "name": "stderr",
     "output_type": "stream",
     "text": [
      "2024-03-29 18:37:42.015126: I tensorflow/core/platform/cpu_feature_guard.cc:210] This TensorFlow binary is optimized to use available CPU instructions in performance-critical operations.\n",
      "To enable the following instructions: AVX2 AVX512F AVX512_VNNI FMA, in other operations, rebuild TensorFlow with the appropriate compiler flags.\n"
     ]
    }
   ],
   "source": [
    "# packages for clustering\n",
    "import tensorflow as tf\n",
    "import tensorflow_hub as hub\n",
    "import numpy as np\n",
    "from sklearn.cluster import KMeans # pip install scikit-learn\n",
    "embed = hub.load(\"https://tfhub.dev/google/universal-sentence-encoder/4\")\n",
    "from sklearn.manifold import TSNE"
   ]
  },
  {
   "cell_type": "code",
   "execution_count": 71,
   "metadata": {},
   "outputs": [],
   "source": [
    "dir_path = \"/users/carolinejung/tiktok-news-exposure-1/\" # CHANGE ME!"
   ]
  },
  {
   "cell_type": "markdown",
   "metadata": {},
   "source": [
    "### STEP 1: Clean data"
   ]
  },
  {
   "cell_type": "code",
   "execution_count": 37,
   "metadata": {},
   "outputs": [],
   "source": [
    "hashtag_filter_out = ['fyp', 'foryourpage', 'wow', 'news', 'fypツ', 'fypシ', 'viral'\n",
    "                     'fyi', 'fypシ゚viral', 'foryouuuu', 'trendingtiktok', 'longvideos',\n",
    "                     'fypppp', 'themoreyouknow', 'didyouknow', 'foryoupage', 'foryou', 'tiktok',\n",
    "                     'breakingnews', 'topnews', 'viraltiktok', 'fypシ゚viral', 'catchupnews', 'viralvideo']"
   ]
  },
  {
   "cell_type": "code",
   "execution_count": 66,
   "metadata": {},
   "outputs": [],
   "source": [
    "users = [\"26301\", \"33534\", \"38129\", \"48271\", \"69117\", \"83721\"]\n",
    "\n",
    "def get_hash_or_sugg(user, to_parse): # for one user\n",
    "    \"\"\"Grab either the hashtag or suggested words column and clean data.\"\"\"\n",
    "    data = pd.read_csv(dir_path + f\"3-filter-metadata/news_relevant_videos_{user}.csv\")\n",
    "\n",
    "    if data.empty == False:\n",
    "        nested_hashtags = []\n",
    "        for hashtag_list_as_str in data[to_parse]:\n",
    "            hashtag_list_as_list = hashtag_list_as_str.strip('][').split(\", \")\n",
    "            cleaned_hashtag = [hashtag.strip(\"'\") for hashtag in hashtag_list_as_list]\n",
    "            nested_hashtags.append(cleaned_hashtag)\n",
    "        \n",
    "        flattened_hashtags = [hashtag.strip(\" \").lower() for hashlist in nested_hashtags for hashtag in hashlist]\n",
    "        no_empty_hashtags = list(filter(None, flattened_hashtags))\n",
    "        return no_empty_hashtags"
   ]
  },
  {
   "cell_type": "code",
   "execution_count": 70,
   "metadata": {},
   "outputs": [
    {
     "name": "stdout",
     "output_type": "stream",
     "text": [
      "['economics', 'supertuesday', 'oscars', 'awareness', 'latina', 'parati', 'foxnews', 'bodycam', 'storytime', 'election', 'mystery', 'relatable', 'meme', 'crimejunkie', 'missing', 'medical', 'funny', 'greenscreen', 'movietok', '2024', 'wendys', 'biden', 'nfl', 'truecrimetiktok', 'truecrimecommunity', 'college', 'scary', 'stitch', 'california', 'politicaltiktok', 'law', 'history', 'republican', 'film', 'creepy', 'dark', 'truecrime', 'leftist', 'commentary', 'president', 'scotus', 'nyc', 'education', 'cnn', 'disturbing', 'football', 'usa', 'historytok', 'america', 'nyt', 'criminalminds', 'michigan', 'inflation', 'police', 'surgepricing', 'trending', 'democrat', 'millennials', 'language', 'trump', 'newyork', 'cops', '2024election', 'conservative', 'filmtok', 'learnontiktok', 'donaldtrump', 'bilingual', 'greenscreenvideo', 'liberal', 'finance', 'spanish', 'election2024', 'criminal', 'interpreter', 'florida', 'crime', 'academyawards', 'viral', 'supremecourt', 'politics', 'accessibility', 'trend', 'genz', 'update', 'facts', 'copsoftiktok', 'new', 'twitter', 'translate', 'truecrimetok', 'crimetok']\n"
     ]
    }
   ],
   "source": [
    "def filtering_hashtag(hashtags, threshold):\n",
    "    \"\"\" Threshold: Filters out words that do not appear more than the threshold (exclusive).\"\"\"\n",
    "    # filter out common hashtags\n",
    "    output = [hashtag for hashtag in hashtags if hashtag not in hashtag_filter_out]\n",
    "\n",
    "    # filter by frequency\n",
    "    count = Counter(output)\n",
    "    freq_hash = []\n",
    "    for hashtag in count.items():\n",
    "        if hashtag[1] > threshold:\n",
    "            freq_hash.append(hashtag[0])\n",
    "    return list(set(freq_hash)) # get unique values\n",
    "\n",
    "print(filtering_hashtag(get_hash_or_sugg(\"26301\", \"hashtags\"),2))"
   ]
  },
  {
   "cell_type": "markdown",
   "metadata": {},
   "source": [
    "### STEP 2: Clustering"
   ]
  },
  {
   "cell_type": "code",
   "execution_count": 77,
   "metadata": {},
   "outputs": [],
   "source": [
    "def get_embeddings(to_parse, threshold): #for all users\n",
    "    \"\"\"Parameter to_parse should either take a value of 'hashtags' or 'suggested_words'.\"\"\"\n",
    "    embedding = {}\n",
    "    for user in users:\n",
    "        if get_hash_or_sugg(user, to_parse) != None: # if empty file, don't get embeddings\n",
    "            hash_or_sugg = filtering_hashtag(get_hash_or_sugg(user, to_parse), threshold)\n",
    "            embedding[user] = embed(hash_or_sugg)\n",
    "    return embedding\n",
    "#get_embeddings(\"hashtags\")[\"26301\"]"
   ]
  },
  {
   "cell_type": "code",
   "execution_count": 83,
   "metadata": {},
   "outputs": [],
   "source": [
    "def create_clusters(user, to_parse, k, threshold):\n",
    "    kmeans = KMeans(n_clusters=k, random_state=42)\n",
    "    clusters = kmeans.fit_predict(get_embeddings(to_parse, threshold)[user])\n",
    "    final_clusters = {}\n",
    "    for i in range(k):\n",
    "        data = filtering_hashtag(get_hash_or_sugg(user, to_parse), threshold)\n",
    "        cluster_words = [data[j] for j in range(len(data)) if clusters[j]==i]\n",
    "        final_clusters[f\"cluster{i}\"] = cluster_words\n",
    "    return final_clusters\n",
    "#create_clusters(\"26301\", \"hashtags\", 20, 1)[\"cluster1\"] # to see the individual words"
   ]
  },
  {
   "cell_type": "markdown",
   "metadata": {},
   "source": [
    "### STEP 3: Compare K-Means Clustering to Graphical Representation of Words"
   ]
  },
  {
   "cell_type": "code",
   "execution_count": 84,
   "metadata": {},
   "outputs": [
    {
     "data": {
      "text/html": [
       "<div>\n",
       "<style scoped>\n",
       "    .dataframe tbody tr th:only-of-type {\n",
       "        vertical-align: middle;\n",
       "    }\n",
       "\n",
       "    .dataframe tbody tr th {\n",
       "        vertical-align: top;\n",
       "    }\n",
       "\n",
       "    .dataframe thead th {\n",
       "        text-align: right;\n",
       "    }\n",
       "</style>\n",
       "<table border=\"1\" class=\"dataframe\">\n",
       "  <thead>\n",
       "    <tr style=\"text-align: right;\">\n",
       "      <th></th>\n",
       "      <th>tsne_1</th>\n",
       "      <th>tsne_2</th>\n",
       "      <th>hashtags</th>\n",
       "      <th>cluster_hashtags</th>\n",
       "    </tr>\n",
       "  </thead>\n",
       "  <tbody>\n",
       "    <tr>\n",
       "      <th>0</th>\n",
       "      <td>0.701737</td>\n",
       "      <td>-1.497256</td>\n",
       "      <td>economics</td>\n",
       "      <td>cluster14</td>\n",
       "    </tr>\n",
       "    <tr>\n",
       "      <th>1</th>\n",
       "      <td>-5.612346</td>\n",
       "      <td>5.950376</td>\n",
       "      <td>supertuesday</td>\n",
       "      <td>cluster3</td>\n",
       "    </tr>\n",
       "    <tr>\n",
       "      <th>2</th>\n",
       "      <td>0.281676</td>\n",
       "      <td>5.414684</td>\n",
       "      <td>oscars</td>\n",
       "      <td>cluster10</td>\n",
       "    </tr>\n",
       "    <tr>\n",
       "      <th>3</th>\n",
       "      <td>-1.244491</td>\n",
       "      <td>2.120918</td>\n",
       "      <td>awareness</td>\n",
       "      <td>cluster6</td>\n",
       "    </tr>\n",
       "    <tr>\n",
       "      <th>4</th>\n",
       "      <td>4.848599</td>\n",
       "      <td>5.305988</td>\n",
       "      <td>latina</td>\n",
       "      <td>cluster15</td>\n",
       "    </tr>\n",
       "    <tr>\n",
       "      <th>...</th>\n",
       "      <td>...</td>\n",
       "      <td>...</td>\n",
       "      <td>...</td>\n",
       "      <td>...</td>\n",
       "    </tr>\n",
       "    <tr>\n",
       "      <th>87</th>\n",
       "      <td>5.663321</td>\n",
       "      <td>0.653138</td>\n",
       "      <td>new</td>\n",
       "      <td>cluster1</td>\n",
       "    </tr>\n",
       "    <tr>\n",
       "      <th>88</th>\n",
       "      <td>-1.350715</td>\n",
       "      <td>-2.912508</td>\n",
       "      <td>twitter</td>\n",
       "      <td>cluster7</td>\n",
       "    </tr>\n",
       "    <tr>\n",
       "      <th>89</th>\n",
       "      <td>5.450714</td>\n",
       "      <td>3.254547</td>\n",
       "      <td>translate</td>\n",
       "      <td>cluster9</td>\n",
       "    </tr>\n",
       "    <tr>\n",
       "      <th>90</th>\n",
       "      <td>-5.684354</td>\n",
       "      <td>6.629288</td>\n",
       "      <td>truecrimetok</td>\n",
       "      <td>cluster3</td>\n",
       "    </tr>\n",
       "    <tr>\n",
       "      <th>91</th>\n",
       "      <td>-3.572406</td>\n",
       "      <td>3.318766</td>\n",
       "      <td>crimetok</td>\n",
       "      <td>cluster18</td>\n",
       "    </tr>\n",
       "  </tbody>\n",
       "</table>\n",
       "<p>92 rows × 4 columns</p>\n",
       "</div>"
      ],
      "text/plain": [
       "      tsne_1    tsne_2      hashtags cluster_hashtags\n",
       "0   0.701737 -1.497256     economics        cluster14\n",
       "1  -5.612346  5.950376  supertuesday         cluster3\n",
       "2   0.281676  5.414684        oscars        cluster10\n",
       "3  -1.244491  2.120918     awareness         cluster6\n",
       "4   4.848599  5.305988        latina        cluster15\n",
       "..       ...       ...           ...              ...\n",
       "87  5.663321  0.653138           new         cluster1\n",
       "88 -1.350715 -2.912508       twitter         cluster7\n",
       "89  5.450714  3.254547     translate         cluster9\n",
       "90 -5.684354  6.629288  truecrimetok         cluster3\n",
       "91 -3.572406  3.318766      crimetok        cluster18\n",
       "\n",
       "[92 rows x 4 columns]"
      ]
     },
     "execution_count": 84,
     "metadata": {},
     "output_type": "execute_result"
    }
   ],
   "source": [
    "def calculate_tsne(user, to_parse, k, threshold):\n",
    "    tsne = TSNE(n_components=2, random_state=42)  \n",
    "    tsne_results = tsne.fit_transform(get_embeddings(to_parse, threshold)[user])\n",
    " \n",
    "    embed_tsne = pd.DataFrame(tsne_results, columns=['tsne_1', 'tsne_2'])\n",
    "    embed_tsne[to_parse] = filtering_hashtag(get_hash_or_sugg(user, to_parse), threshold)\n",
    "\n",
    "    # restructure storage of cluster assignments\n",
    "    cluster_dict = create_clusters(user, to_parse, k, threshold)\n",
    "    cluster_assignment = {}\n",
    "    for hashtag in embed_tsne[to_parse]:\n",
    "        for cluster in cluster_dict.items():\n",
    "            if hashtag in cluster[1]:\n",
    "                cluster_assignment[hashtag] = cluster[0]\n",
    "                \n",
    "    # assign hashtags to their respective cluster groups\n",
    "    embed_tsne[f\"cluster_{to_parse}\"] = \"\" \n",
    "    for row in range(embed_tsne.shape[0]):\n",
    "        hashtag = embed_tsne[to_parse][row]\n",
    "        embed_tsne.loc[row, f'cluster_{to_parse}'] = cluster_assignment[hashtag]\n",
    "    return embed_tsne\n",
    "\n",
    "calculate_tsne(\"26301\", \"hashtags\", k=20, threshold=2)\n",
    "#calculate_tsne(\"26301\", \"suggested_words\", k=20, threshold=2)"
   ]
  },
  {
   "cell_type": "code",
   "execution_count": 85,
   "metadata": {},
   "outputs": [],
   "source": [
    "def visualize_tsne(user, to_parse, k, threshold):\n",
    "    data = calculate_tsne(user, to_parse, k, threshold)\n",
    "    fig = px.scatter(data, x='tsne_1', y='tsne_2', text=to_parse, color=\"cluster_hashtags\")\n",
    "    fig.update_traces(textposition='top center', mode='markers+text', textfont=dict(size=8))\n",
    "    fig.update_layout(title=f'User {user}: Embeddings of TikTok News {to_parse.capitalize()}',\n",
    "                      width=1100,  # Set the width of the figure\n",
    "                      height=700)  # Set the height of the figure\n",
    "                    # slightly decrease to see it in one screen\n",
    "    fig.show()"
   ]
  },
  {
   "cell_type": "markdown",
   "metadata": {},
   "source": [
    "## Analysis 1: Hashtags for all Users"
   ]
  },
  {
   "cell_type": "code",
   "execution_count": 89,
   "metadata": {},
   "outputs": [
    {
     "data": {
      "application/vnd.plotly.v1+json": {
       "config": {
        "plotlyServerURL": "https://plot.ly"
       },
       "data": [
        {
         "hovertemplate": "cluster_hashtags=cluster6<br>tsne_1=%{x}<br>tsne_2=%{y}<br>hashtags=%{text}<extra></extra>",
         "legendgroup": "cluster6",
         "marker": {
          "color": "#636efa",
          "symbol": "circle"
         },
         "mode": "markers+text",
         "name": "cluster6",
         "orientation": "v",
         "showlegend": true,
         "text": [
          "economics",
          "awareness",
          "medical",
          "college",
          "law",
          "education",
          "football",
          "finance",
          "accessibility"
         ],
         "textfont": {
          "size": 8
         },
         "textposition": "top center",
         "type": "scatter",
         "x": [
          0.7017374634742737,
          -1.2444905042648315,
          0.15684211254119873,
          -0.878485381603241,
          1.0059404373168945,
          -0.6197441220283508,
          -1.5044128894805908,
          0.22620552778244019,
          -1.871914029121399
         ],
         "xaxis": "x",
         "y": [
          -1.4972559213638306,
          2.120917797088623,
          2.7763028144836426,
          0.10831618309020996,
          1.4973385334014893,
          1.7648382186889648,
          -0.6824535131454468,
          1.7771953344345093,
          3.0497493743896484
         ],
         "yaxis": "y"
        },
        {
         "hovertemplate": "cluster_hashtags=cluster3<br>tsne_1=%{x}<br>tsne_2=%{y}<br>hashtags=%{text}<extra></extra>",
         "legendgroup": "cluster3",
         "marker": {
          "color": "#EF553B",
          "symbol": "circle"
         },
         "mode": "markers+text",
         "name": "cluster3",
         "orientation": "v",
         "showlegend": true,
         "text": [
          "supertuesday",
          "parati",
          "bodycam",
          "meme",
          "greenscreen",
          "movietok",
          "2024",
          "truecrimecommunity",
          "stitch",
          "politicaltiktok",
          "truecrime",
          "historytok",
          "surgepricing",
          "2024election",
          "learnontiktok",
          "donaldtrump",
          "greenscreenvideo",
          "election2024",
          "supremecourt",
          "genz",
          "copsoftiktok",
          "truecrimetok"
         ],
         "textfont": {
          "size": 8
         },
         "textposition": "top center",
         "type": "scatter",
         "x": [
          -5.612346172332764,
          -4.288835048675537,
          -2.5010173320770264,
          -2.209758758544922,
          -0.9181801676750183,
          -7.354968070983887,
          -8.026978492736816,
          -3.2210094928741455,
          7.367496490478516,
          -6.692263603210449,
          -4.944777011871338,
          -5.46801233291626,
          -7.072779655456543,
          -3.515951633453369,
          -6.594395160675049,
          -6.014286041259766,
          -6.708038806915283,
          -3.331995964050293,
          -3.7816522121429443,
          -4.3448286056518555,
          -4.751613140106201,
          -5.684354305267334
         ],
         "xaxis": "x",
         "y": [
          5.950376033782959,
          5.491334438323975,
          4.7348527908325195,
          7.49933385848999,
          4.8423075675964355,
          2.4402031898498535,
          6.968912124633789,
          6.067506790161133,
          -1.2805854082107544,
          5.035740852355957,
          5.343643665313721,
          2.6308157444000244,
          3.6577014923095703,
          5.155459880828857,
          5.77461051940918,
          4.4824910163879395,
          6.834033012390137,
          6.676163196563721,
          4.240214824676514,
          4.950342178344727,
          4.05361270904541,
          6.629288196563721
         ],
         "yaxis": "y"
        },
        {
         "hovertemplate": "cluster_hashtags=cluster5<br>tsne_1=%{x}<br>tsne_2=%{y}<br>hashtags=%{text}<extra></extra>",
         "legendgroup": "cluster5",
         "marker": {
          "color": "#00cc96",
          "symbol": "circle"
         },
         "mode": "markers+text",
         "name": "cluster5",
         "orientation": "v",
         "showlegend": true,
         "text": [
          "oscars",
          "election",
          "wendys",
          "biden",
          "republican",
          "leftist",
          "president",
          "nyt",
          "police",
          "democrat",
          "trump",
          "cops",
          "conservative",
          "liberal",
          "criminal",
          "crime",
          "politics"
         ],
         "textfont": {
          "size": 8
         },
         "textposition": "top center",
         "type": "scatter",
         "x": [
          0.2816756069660187,
          2.2747063636779785,
          -6.310133457183838,
          -5.47407865524292,
          -4.815479755401611,
          -3.8565521240234375,
          1.8010435104370117,
          -6.763785362243652,
          0.8742126822471619,
          -4.770491123199463,
          1.8685014247894287,
          0.7826123237609863,
          -4.548398971557617,
          -4.493943691253662,
          1.9462151527404785,
          1.8814486265182495,
          1.774305820465088
         ],
         "xaxis": "x",
         "y": [
          5.414684295654297,
          2.2466866970062256,
          -2.5711863040924072,
          -1.0249186754226685,
          -2.8396058082580566,
          -3.738955497741699,
          3.5575850009918213,
          -0.6354959607124329,
          0.4271688759326935,
          -2.8619320392608643,
          3.7760865688323975,
          0.21106623113155365,
          -4.40885066986084,
          -4.291283130645752,
          -0.5367269515991211,
          -0.44846659898757935,
          1.784178614616394
         ],
         "yaxis": "y"
        },
        {
         "hovertemplate": "cluster_hashtags=cluster4<br>tsne_1=%{x}<br>tsne_2=%{y}<br>hashtags=%{text}<extra></extra>",
         "legendgroup": "cluster4",
         "marker": {
          "color": "#ab63fa",
          "symbol": "circle"
         },
         "mode": "markers+text",
         "name": "cluster4",
         "orientation": "v",
         "showlegend": true,
         "text": [
          "latina",
          "california",
          "nyc",
          "usa",
          "america",
          "michigan",
          "newyork",
          "florida"
         ],
         "textfont": {
          "size": 8
         },
         "textposition": "top center",
         "type": "scatter",
         "x": [
          4.848598957061768,
          3.199723720550537,
          2.5983896255493164,
          1.6070917844772339,
          1.5457600355148315,
          3.2571380138397217,
          2.4976158142089844,
          3.299067258834839
         ],
         "xaxis": "x",
         "y": [
          5.30598783493042,
          7.397047996520996,
          6.346699237823486,
          7.763760089874268,
          7.639518737792969,
          8.299273490905762,
          6.166455268859863,
          7.848687648773193
         ],
         "yaxis": "y"
        },
        {
         "hovertemplate": "cluster_hashtags=cluster8<br>tsne_1=%{x}<br>tsne_2=%{y}<br>hashtags=%{text}<extra></extra>",
         "legendgroup": "cluster8",
         "marker": {
          "color": "#FFA15A",
          "symbol": "circle"
         },
         "mode": "markers+text",
         "name": "cluster8",
         "orientation": "v",
         "showlegend": true,
         "text": [
          "foxnews",
          "nfl",
          "film",
          "commentary",
          "cnn",
          "viral"
         ],
         "textfont": {
          "size": 8
         },
         "textposition": "top center",
         "type": "scatter",
         "x": [
          -3.091799020767212,
          -1.5553960800170898,
          -0.17425554990768433,
          4.252837657928467,
          -3.112727642059326,
          -4.324781894683838
         ],
         "xaxis": "x",
         "y": [
          -1.9814116954803467,
          -0.7157268524169922,
          5.026671409606934,
          2.0640218257904053,
          -2.028888463973999,
          1.422330379486084
         ],
         "yaxis": "y"
        },
        {
         "hovertemplate": "cluster_hashtags=cluster0<br>tsne_1=%{x}<br>tsne_2=%{y}<br>hashtags=%{text}<extra></extra>",
         "legendgroup": "cluster0",
         "marker": {
          "color": "#19d3f3",
          "symbol": "circle"
         },
         "mode": "markers+text",
         "name": "cluster0",
         "orientation": "v",
         "showlegend": true,
         "text": [
          "storytime",
          "mystery",
          "relatable",
          "missing",
          "funny",
          "scary",
          "creepy",
          "dark",
          "disturbing"
         ],
         "textfont": {
          "size": 8
         },
         "textposition": "top center",
         "type": "scatter",
         "x": [
          4.340579986572266,
          4.8910746574401855,
          -2.5604248046875,
          5.819347858428955,
          3.396510124206543,
          3.532870292663574,
          3.6087398529052734,
          2.650749683380127,
          3.8686180114746094
         ],
         "xaxis": "x",
         "y": [
          -0.5296952724456787,
          -1.7472113370895386,
          1.1774051189422607,
          -1.9149513244628906,
          -2.2401363849639893,
          -3.2961788177490234,
          -3.418353319168091,
          -3.594916582107544,
          -3.901820182800293
         ],
         "yaxis": "y"
        },
        {
         "hovertemplate": "cluster_hashtags=cluster2<br>tsne_1=%{x}<br>tsne_2=%{y}<br>hashtags=%{text}<extra></extra>",
         "legendgroup": "cluster2",
         "marker": {
          "color": "#FF6692",
          "symbol": "circle"
         },
         "mode": "markers+text",
         "name": "cluster2",
         "orientation": "v",
         "showlegend": true,
         "text": [
          "crimejunkie",
          "truecrimetiktok",
          "criminalminds",
          "filmtok",
          "academyawards",
          "crimetok"
         ],
         "textfont": {
          "size": 8
         },
         "textposition": "top center",
         "type": "scatter",
         "x": [
          -4.4574151039123535,
          -4.774649143218994,
          -5.249123573303223,
          -2.4599664211273193,
          -4.3445868492126465,
          -3.5724058151245117
         ],
         "xaxis": "x",
         "y": [
          7.441425323486328,
          6.907529354095459,
          3.976367473602295,
          5.8396406173706055,
          3.32766056060791,
          3.318765640258789
         ],
         "yaxis": "y"
        },
        {
         "hovertemplate": "cluster_hashtags=cluster1<br>tsne_1=%{x}<br>tsne_2=%{y}<br>hashtags=%{text}<extra></extra>",
         "legendgroup": "cluster1",
         "marker": {
          "color": "#B6E880",
          "symbol": "circle"
         },
         "mode": "markers+text",
         "name": "cluster1",
         "orientation": "v",
         "showlegend": true,
         "text": [
          "history",
          "update",
          "facts",
          "new"
         ],
         "textfont": {
          "size": 8
         },
         "textposition": "top center",
         "type": "scatter",
         "x": [
          3.7324647903442383,
          5.582522392272949,
          3.8898212909698486,
          5.663320541381836
         ],
         "xaxis": "x",
         "y": [
          0.7875692248344421,
          0.5684718489646912,
          1.0094093084335327,
          0.6531379222869873
         ],
         "yaxis": "y"
        },
        {
         "hovertemplate": "cluster_hashtags=cluster7<br>tsne_1=%{x}<br>tsne_2=%{y}<br>hashtags=%{text}<extra></extra>",
         "legendgroup": "cluster7",
         "marker": {
          "color": "#FF97FF",
          "symbol": "circle"
         },
         "mode": "markers+text",
         "name": "cluster7",
         "orientation": "v",
         "showlegend": true,
         "text": [
          "scotus",
          "inflation",
          "trending",
          "millennials",
          "trend",
          "twitter"
         ],
         "textfont": {
          "size": 8
         },
         "textposition": "top center",
         "type": "scatter",
         "x": [
          -3.588036298751831,
          0.4292982220649719,
          -0.9191627502441406,
          -1.7454731464385986,
          -0.7108908295631409,
          -1.3507146835327148
         ],
         "xaxis": "x",
         "y": [
          -0.5536700487136841,
          -2.4023830890655518,
          -3.9465110301971436,
          -5.054267883300781,
          -4.0263543128967285,
          -2.912508010864258
         ],
         "yaxis": "y"
        },
        {
         "hovertemplate": "cluster_hashtags=cluster9<br>tsne_1=%{x}<br>tsne_2=%{y}<br>hashtags=%{text}<extra></extra>",
         "legendgroup": "cluster9",
         "marker": {
          "color": "#FECB52",
          "symbol": "circle"
         },
         "mode": "markers+text",
         "name": "cluster9",
         "orientation": "v",
         "showlegend": true,
         "text": [
          "language",
          "bilingual",
          "spanish",
          "interpreter",
          "translate"
         ],
         "textfont": {
          "size": 8
         },
         "textposition": "top center",
         "type": "scatter",
         "x": [
          5.647422790527344,
          6.151047706604004,
          5.189973831176758,
          6.332176208496094,
          5.450713634490967
         ],
         "xaxis": "x",
         "y": [
          3.6642308235168457,
          4.3343939781188965,
          4.598961353302002,
          3.7877755165100098,
          3.254547119140625
         ],
         "yaxis": "y"
        }
       ],
       "layout": {
        "height": 700,
        "legend": {
         "title": {
          "text": "cluster_hashtags"
         },
         "tracegroupgap": 0
        },
        "margin": {
         "t": 60
        },
        "template": {
         "data": {
          "bar": [
           {
            "error_x": {
             "color": "#2a3f5f"
            },
            "error_y": {
             "color": "#2a3f5f"
            },
            "marker": {
             "line": {
              "color": "#E5ECF6",
              "width": 0.5
             },
             "pattern": {
              "fillmode": "overlay",
              "size": 10,
              "solidity": 0.2
             }
            },
            "type": "bar"
           }
          ],
          "barpolar": [
           {
            "marker": {
             "line": {
              "color": "#E5ECF6",
              "width": 0.5
             },
             "pattern": {
              "fillmode": "overlay",
              "size": 10,
              "solidity": 0.2
             }
            },
            "type": "barpolar"
           }
          ],
          "carpet": [
           {
            "aaxis": {
             "endlinecolor": "#2a3f5f",
             "gridcolor": "white",
             "linecolor": "white",
             "minorgridcolor": "white",
             "startlinecolor": "#2a3f5f"
            },
            "baxis": {
             "endlinecolor": "#2a3f5f",
             "gridcolor": "white",
             "linecolor": "white",
             "minorgridcolor": "white",
             "startlinecolor": "#2a3f5f"
            },
            "type": "carpet"
           }
          ],
          "choropleth": [
           {
            "colorbar": {
             "outlinewidth": 0,
             "ticks": ""
            },
            "type": "choropleth"
           }
          ],
          "contour": [
           {
            "colorbar": {
             "outlinewidth": 0,
             "ticks": ""
            },
            "colorscale": [
             [
              0,
              "#0d0887"
             ],
             [
              0.1111111111111111,
              "#46039f"
             ],
             [
              0.2222222222222222,
              "#7201a8"
             ],
             [
              0.3333333333333333,
              "#9c179e"
             ],
             [
              0.4444444444444444,
              "#bd3786"
             ],
             [
              0.5555555555555556,
              "#d8576b"
             ],
             [
              0.6666666666666666,
              "#ed7953"
             ],
             [
              0.7777777777777778,
              "#fb9f3a"
             ],
             [
              0.8888888888888888,
              "#fdca26"
             ],
             [
              1,
              "#f0f921"
             ]
            ],
            "type": "contour"
           }
          ],
          "contourcarpet": [
           {
            "colorbar": {
             "outlinewidth": 0,
             "ticks": ""
            },
            "type": "contourcarpet"
           }
          ],
          "heatmap": [
           {
            "colorbar": {
             "outlinewidth": 0,
             "ticks": ""
            },
            "colorscale": [
             [
              0,
              "#0d0887"
             ],
             [
              0.1111111111111111,
              "#46039f"
             ],
             [
              0.2222222222222222,
              "#7201a8"
             ],
             [
              0.3333333333333333,
              "#9c179e"
             ],
             [
              0.4444444444444444,
              "#bd3786"
             ],
             [
              0.5555555555555556,
              "#d8576b"
             ],
             [
              0.6666666666666666,
              "#ed7953"
             ],
             [
              0.7777777777777778,
              "#fb9f3a"
             ],
             [
              0.8888888888888888,
              "#fdca26"
             ],
             [
              1,
              "#f0f921"
             ]
            ],
            "type": "heatmap"
           }
          ],
          "heatmapgl": [
           {
            "colorbar": {
             "outlinewidth": 0,
             "ticks": ""
            },
            "colorscale": [
             [
              0,
              "#0d0887"
             ],
             [
              0.1111111111111111,
              "#46039f"
             ],
             [
              0.2222222222222222,
              "#7201a8"
             ],
             [
              0.3333333333333333,
              "#9c179e"
             ],
             [
              0.4444444444444444,
              "#bd3786"
             ],
             [
              0.5555555555555556,
              "#d8576b"
             ],
             [
              0.6666666666666666,
              "#ed7953"
             ],
             [
              0.7777777777777778,
              "#fb9f3a"
             ],
             [
              0.8888888888888888,
              "#fdca26"
             ],
             [
              1,
              "#f0f921"
             ]
            ],
            "type": "heatmapgl"
           }
          ],
          "histogram": [
           {
            "marker": {
             "pattern": {
              "fillmode": "overlay",
              "size": 10,
              "solidity": 0.2
             }
            },
            "type": "histogram"
           }
          ],
          "histogram2d": [
           {
            "colorbar": {
             "outlinewidth": 0,
             "ticks": ""
            },
            "colorscale": [
             [
              0,
              "#0d0887"
             ],
             [
              0.1111111111111111,
              "#46039f"
             ],
             [
              0.2222222222222222,
              "#7201a8"
             ],
             [
              0.3333333333333333,
              "#9c179e"
             ],
             [
              0.4444444444444444,
              "#bd3786"
             ],
             [
              0.5555555555555556,
              "#d8576b"
             ],
             [
              0.6666666666666666,
              "#ed7953"
             ],
             [
              0.7777777777777778,
              "#fb9f3a"
             ],
             [
              0.8888888888888888,
              "#fdca26"
             ],
             [
              1,
              "#f0f921"
             ]
            ],
            "type": "histogram2d"
           }
          ],
          "histogram2dcontour": [
           {
            "colorbar": {
             "outlinewidth": 0,
             "ticks": ""
            },
            "colorscale": [
             [
              0,
              "#0d0887"
             ],
             [
              0.1111111111111111,
              "#46039f"
             ],
             [
              0.2222222222222222,
              "#7201a8"
             ],
             [
              0.3333333333333333,
              "#9c179e"
             ],
             [
              0.4444444444444444,
              "#bd3786"
             ],
             [
              0.5555555555555556,
              "#d8576b"
             ],
             [
              0.6666666666666666,
              "#ed7953"
             ],
             [
              0.7777777777777778,
              "#fb9f3a"
             ],
             [
              0.8888888888888888,
              "#fdca26"
             ],
             [
              1,
              "#f0f921"
             ]
            ],
            "type": "histogram2dcontour"
           }
          ],
          "mesh3d": [
           {
            "colorbar": {
             "outlinewidth": 0,
             "ticks": ""
            },
            "type": "mesh3d"
           }
          ],
          "parcoords": [
           {
            "line": {
             "colorbar": {
              "outlinewidth": 0,
              "ticks": ""
             }
            },
            "type": "parcoords"
           }
          ],
          "pie": [
           {
            "automargin": true,
            "type": "pie"
           }
          ],
          "scatter": [
           {
            "fillpattern": {
             "fillmode": "overlay",
             "size": 10,
             "solidity": 0.2
            },
            "type": "scatter"
           }
          ],
          "scatter3d": [
           {
            "line": {
             "colorbar": {
              "outlinewidth": 0,
              "ticks": ""
             }
            },
            "marker": {
             "colorbar": {
              "outlinewidth": 0,
              "ticks": ""
             }
            },
            "type": "scatter3d"
           }
          ],
          "scattercarpet": [
           {
            "marker": {
             "colorbar": {
              "outlinewidth": 0,
              "ticks": ""
             }
            },
            "type": "scattercarpet"
           }
          ],
          "scattergeo": [
           {
            "marker": {
             "colorbar": {
              "outlinewidth": 0,
              "ticks": ""
             }
            },
            "type": "scattergeo"
           }
          ],
          "scattergl": [
           {
            "marker": {
             "colorbar": {
              "outlinewidth": 0,
              "ticks": ""
             }
            },
            "type": "scattergl"
           }
          ],
          "scattermapbox": [
           {
            "marker": {
             "colorbar": {
              "outlinewidth": 0,
              "ticks": ""
             }
            },
            "type": "scattermapbox"
           }
          ],
          "scatterpolar": [
           {
            "marker": {
             "colorbar": {
              "outlinewidth": 0,
              "ticks": ""
             }
            },
            "type": "scatterpolar"
           }
          ],
          "scatterpolargl": [
           {
            "marker": {
             "colorbar": {
              "outlinewidth": 0,
              "ticks": ""
             }
            },
            "type": "scatterpolargl"
           }
          ],
          "scatterternary": [
           {
            "marker": {
             "colorbar": {
              "outlinewidth": 0,
              "ticks": ""
             }
            },
            "type": "scatterternary"
           }
          ],
          "surface": [
           {
            "colorbar": {
             "outlinewidth": 0,
             "ticks": ""
            },
            "colorscale": [
             [
              0,
              "#0d0887"
             ],
             [
              0.1111111111111111,
              "#46039f"
             ],
             [
              0.2222222222222222,
              "#7201a8"
             ],
             [
              0.3333333333333333,
              "#9c179e"
             ],
             [
              0.4444444444444444,
              "#bd3786"
             ],
             [
              0.5555555555555556,
              "#d8576b"
             ],
             [
              0.6666666666666666,
              "#ed7953"
             ],
             [
              0.7777777777777778,
              "#fb9f3a"
             ],
             [
              0.8888888888888888,
              "#fdca26"
             ],
             [
              1,
              "#f0f921"
             ]
            ],
            "type": "surface"
           }
          ],
          "table": [
           {
            "cells": {
             "fill": {
              "color": "#EBF0F8"
             },
             "line": {
              "color": "white"
             }
            },
            "header": {
             "fill": {
              "color": "#C8D4E3"
             },
             "line": {
              "color": "white"
             }
            },
            "type": "table"
           }
          ]
         },
         "layout": {
          "annotationdefaults": {
           "arrowcolor": "#2a3f5f",
           "arrowhead": 0,
           "arrowwidth": 1
          },
          "autotypenumbers": "strict",
          "coloraxis": {
           "colorbar": {
            "outlinewidth": 0,
            "ticks": ""
           }
          },
          "colorscale": {
           "diverging": [
            [
             0,
             "#8e0152"
            ],
            [
             0.1,
             "#c51b7d"
            ],
            [
             0.2,
             "#de77ae"
            ],
            [
             0.3,
             "#f1b6da"
            ],
            [
             0.4,
             "#fde0ef"
            ],
            [
             0.5,
             "#f7f7f7"
            ],
            [
             0.6,
             "#e6f5d0"
            ],
            [
             0.7,
             "#b8e186"
            ],
            [
             0.8,
             "#7fbc41"
            ],
            [
             0.9,
             "#4d9221"
            ],
            [
             1,
             "#276419"
            ]
           ],
           "sequential": [
            [
             0,
             "#0d0887"
            ],
            [
             0.1111111111111111,
             "#46039f"
            ],
            [
             0.2222222222222222,
             "#7201a8"
            ],
            [
             0.3333333333333333,
             "#9c179e"
            ],
            [
             0.4444444444444444,
             "#bd3786"
            ],
            [
             0.5555555555555556,
             "#d8576b"
            ],
            [
             0.6666666666666666,
             "#ed7953"
            ],
            [
             0.7777777777777778,
             "#fb9f3a"
            ],
            [
             0.8888888888888888,
             "#fdca26"
            ],
            [
             1,
             "#f0f921"
            ]
           ],
           "sequentialminus": [
            [
             0,
             "#0d0887"
            ],
            [
             0.1111111111111111,
             "#46039f"
            ],
            [
             0.2222222222222222,
             "#7201a8"
            ],
            [
             0.3333333333333333,
             "#9c179e"
            ],
            [
             0.4444444444444444,
             "#bd3786"
            ],
            [
             0.5555555555555556,
             "#d8576b"
            ],
            [
             0.6666666666666666,
             "#ed7953"
            ],
            [
             0.7777777777777778,
             "#fb9f3a"
            ],
            [
             0.8888888888888888,
             "#fdca26"
            ],
            [
             1,
             "#f0f921"
            ]
           ]
          },
          "colorway": [
           "#636efa",
           "#EF553B",
           "#00cc96",
           "#ab63fa",
           "#FFA15A",
           "#19d3f3",
           "#FF6692",
           "#B6E880",
           "#FF97FF",
           "#FECB52"
          ],
          "font": {
           "color": "#2a3f5f"
          },
          "geo": {
           "bgcolor": "white",
           "lakecolor": "white",
           "landcolor": "#E5ECF6",
           "showlakes": true,
           "showland": true,
           "subunitcolor": "white"
          },
          "hoverlabel": {
           "align": "left"
          },
          "hovermode": "closest",
          "mapbox": {
           "style": "light"
          },
          "paper_bgcolor": "white",
          "plot_bgcolor": "#E5ECF6",
          "polar": {
           "angularaxis": {
            "gridcolor": "white",
            "linecolor": "white",
            "ticks": ""
           },
           "bgcolor": "#E5ECF6",
           "radialaxis": {
            "gridcolor": "white",
            "linecolor": "white",
            "ticks": ""
           }
          },
          "scene": {
           "xaxis": {
            "backgroundcolor": "#E5ECF6",
            "gridcolor": "white",
            "gridwidth": 2,
            "linecolor": "white",
            "showbackground": true,
            "ticks": "",
            "zerolinecolor": "white"
           },
           "yaxis": {
            "backgroundcolor": "#E5ECF6",
            "gridcolor": "white",
            "gridwidth": 2,
            "linecolor": "white",
            "showbackground": true,
            "ticks": "",
            "zerolinecolor": "white"
           },
           "zaxis": {
            "backgroundcolor": "#E5ECF6",
            "gridcolor": "white",
            "gridwidth": 2,
            "linecolor": "white",
            "showbackground": true,
            "ticks": "",
            "zerolinecolor": "white"
           }
          },
          "shapedefaults": {
           "line": {
            "color": "#2a3f5f"
           }
          },
          "ternary": {
           "aaxis": {
            "gridcolor": "white",
            "linecolor": "white",
            "ticks": ""
           },
           "baxis": {
            "gridcolor": "white",
            "linecolor": "white",
            "ticks": ""
           },
           "bgcolor": "#E5ECF6",
           "caxis": {
            "gridcolor": "white",
            "linecolor": "white",
            "ticks": ""
           }
          },
          "title": {
           "x": 0.05
          },
          "xaxis": {
           "automargin": true,
           "gridcolor": "white",
           "linecolor": "white",
           "ticks": "",
           "title": {
            "standoff": 15
           },
           "zerolinecolor": "white",
           "zerolinewidth": 2
          },
          "yaxis": {
           "automargin": true,
           "gridcolor": "white",
           "linecolor": "white",
           "ticks": "",
           "title": {
            "standoff": 15
           },
           "zerolinecolor": "white",
           "zerolinewidth": 2
          }
         }
        },
        "title": {
         "text": "User 26301: Embeddings of TikTok News Hashtags"
        },
        "width": 1100,
        "xaxis": {
         "anchor": "y",
         "domain": [
          0,
          1
         ],
         "title": {
          "text": "tsne_1"
         }
        },
        "yaxis": {
         "anchor": "x",
         "domain": [
          0,
          1
         ],
         "title": {
          "text": "tsne_2"
         }
        }
       }
      }
     },
     "metadata": {},
     "output_type": "display_data"
    }
   ],
   "source": [
    "visualize_tsne(\"26301\", \"hashtags\", 10, 2)"
   ]
  },
  {
   "cell_type": "code",
   "execution_count": 90,
   "metadata": {},
   "outputs": [
    {
     "data": {
      "application/vnd.plotly.v1+json": {
       "config": {
        "plotlyServerURL": "https://plot.ly"
       },
       "data": [
        {
         "hovertemplate": "cluster_hashtags=cluster0<br>tsne_1=%{x}<br>tsne_2=%{y}<br>hashtags=%{text}<extra></extra>",
         "legendgroup": "cluster0",
         "marker": {
          "color": "#636efa",
          "symbol": "circle"
         },
         "mode": "markers+text",
         "name": "cluster0",
         "orientation": "v",
         "showlegend": true,
         "text": [
          "joebiden",
          "funny"
         ],
         "textfont": {
          "size": 8
         },
         "textposition": "top center",
         "type": "scatter",
         "x": [
          -1.2610753774642944,
          0.11987857520580292
         ],
         "xaxis": "x",
         "y": [
          -0.0735548660159111,
          1.0688107013702393
         ],
         "yaxis": "y"
        },
        {
         "hovertemplate": "cluster_hashtags=cluster5<br>tsne_1=%{x}<br>tsne_2=%{y}<br>hashtags=%{text}<extra></extra>",
         "legendgroup": "cluster5",
         "marker": {
          "color": "#EF553B",
          "symbol": "circle"
         },
         "mode": "markers+text",
         "name": "cluster5",
         "orientation": "v",
         "showlegend": true,
         "text": [
          "oscars",
          "worldnews",
          "palestine"
         ],
         "textfont": {
          "size": 8
         },
         "textposition": "top center",
         "type": "scatter",
         "x": [
          -0.8034693002700806,
          -0.704728901386261,
          -0.9479503631591797
         ],
         "xaxis": "x",
         "y": [
          0.8303007483482361,
          0.8597384691238403,
          0.7637593746185303
         ],
         "yaxis": "y"
        },
        {
         "hovertemplate": "cluster_hashtags=cluster2<br>tsne_1=%{x}<br>tsne_2=%{y}<br>hashtags=%{text}<extra></extra>",
         "legendgroup": "cluster2",
         "marker": {
          "color": "#00cc96",
          "symbol": "circle"
         },
         "mode": "markers+text",
         "name": "cluster2",
         "orientation": "v",
         "showlegend": true,
         "text": [
          "basketball",
          "barbie",
          "sports",
          "nfl",
          "football",
          "nba"
         ],
         "textfont": {
          "size": 8
         },
         "textposition": "top center",
         "type": "scatter",
         "x": [
          0.3723923861980438,
          -0.10693693906068802,
          0.2990618646144867,
          0.4210255742073059,
          0.3475186824798584,
          0.2726568281650543
         ],
         "xaxis": "x",
         "y": [
          0.6147628426551819,
          1.347177505493164,
          0.5847105383872986,
          0.6161457896232605,
          0.614769458770752,
          0.5492619872093201
         ],
         "yaxis": "y"
        },
        {
         "hovertemplate": "cluster_hashtags=cluster6<br>tsne_1=%{x}<br>tsne_2=%{y}<br>hashtags=%{text}<extra></extra>",
         "legendgroup": "cluster6",
         "marker": {
          "color": "#ab63fa",
          "symbol": "circle"
         },
         "mode": "markers+text",
         "name": "cluster6",
         "orientation": "v",
         "showlegend": true,
         "text": [
          "police",
          "politics",
          "feminism",
          "indian",
          "business"
         ],
         "textfont": {
          "size": 8
         },
         "textposition": "top center",
         "type": "scatter",
         "x": [
          -0.22604604065418243,
          -0.2696872055530548,
          -0.5173149108886719,
          -0.16684791445732117,
          -0.24069452285766602
         ],
         "xaxis": "x",
         "y": [
          0.4830561578273773,
          0.5964607000350952,
          1.1492079496383667,
          0.37319478392601013,
          0.05802954360842705
         ],
         "yaxis": "y"
        },
        {
         "hovertemplate": "cluster_hashtags=cluster1<br>tsne_1=%{x}<br>tsne_2=%{y}<br>hashtags=%{text}<extra></extra>",
         "legendgroup": "cluster1",
         "marker": {
          "color": "#FFA15A",
          "symbol": "circle"
         },
         "mode": "markers+text",
         "name": "cluster1",
         "orientation": "v",
         "showlegend": true,
         "text": [
          "republican",
          "trump",
          "vote",
          "president"
         ],
         "textfont": {
          "size": 8
         },
         "textposition": "top center",
         "type": "scatter",
         "x": [
          0.049162816256284714,
          0.3177964389324188,
          -0.7006813883781433,
          0.04986238479614258
         ],
         "xaxis": "x",
         "y": [
          0.6598533987998962,
          0.0513724721968174,
          0.4670940637588501,
          0.022494828328490257
         ],
         "yaxis": "y"
        },
        {
         "hovertemplate": "cluster_hashtags=cluster3<br>tsne_1=%{x}<br>tsne_2=%{y}<br>hashtags=%{text}<extra></extra>",
         "legendgroup": "cluster3",
         "marker": {
          "color": "#19d3f3",
          "symbol": "circle"
         },
         "mode": "markers+text",
         "name": "cluster3",
         "orientation": "v",
         "showlegend": true,
         "text": [
          "us",
          "usa",
          "michigan"
         ],
         "textfont": {
          "size": 8
         },
         "textposition": "top center",
         "type": "scatter",
         "x": [
          -0.06278209388256073,
          0.03509737178683281,
          0.18071061372756958
         ],
         "xaxis": "x",
         "y": [
          -0.463435560464859,
          -0.5683364272117615,
          -0.7224039435386658
         ],
         "yaxis": "y"
        },
        {
         "hovertemplate": "cluster_hashtags=cluster9<br>tsne_1=%{x}<br>tsne_2=%{y}<br>hashtags=%{text}<extra></extra>",
         "legendgroup": "cluster9",
         "marker": {
          "color": "#FF6692",
          "symbol": "circle"
         },
         "mode": "markers+text",
         "name": "cluster9",
         "orientation": "v",
         "showlegend": true,
         "text": [
          "dc",
          "freepalestine",
          "barbiemovie",
          "2024",
          "today",
          "kingabdullah",
          "nikkihaley",
          "washingtondc"
         ],
         "textfont": {
          "size": 8
         },
         "textposition": "top center",
         "type": "scatter",
         "x": [
          0.02236981876194477,
          -0.9108988046646118,
          -0.8501798510551453,
          -0.3729742169380188,
          -0.18141601979732513,
          -1.0123869180679321,
          -1.1334540843963623,
          -0.43592724204063416
         ],
         "xaxis": "x",
         "y": [
          -0.6889427304267883,
          -0.5822968482971191,
          -0.4684647023677826,
          -0.9964290261268616,
          -0.7301238775253296,
          -0.008246423676609993,
          -0.3193083703517914,
          -0.7497284412384033
         ],
         "yaxis": "y"
        },
        {
         "hovertemplate": "cluster_hashtags=cluster8<br>tsne_1=%{x}<br>tsne_2=%{y}<br>hashtags=%{text}<extra></extra>",
         "legendgroup": "cluster8",
         "marker": {
          "color": "#B6E880",
          "symbol": "circle"
         },
         "mode": "markers+text",
         "name": "cluster8",
         "orientation": "v",
         "showlegend": true,
         "text": [
          "superbowl",
          "snl"
         ],
         "textfont": {
          "size": 8
         },
         "textposition": "top center",
         "type": "scatter",
         "x": [
          0.8080772161483765,
          1.0608937740325928
         ],
         "xaxis": "x",
         "y": [
          0.6600401401519775,
          0.5836833119392395
         ],
         "yaxis": "y"
        },
        {
         "hovertemplate": "cluster_hashtags=cluster4<br>tsne_1=%{x}<br>tsne_2=%{y}<br>hashtags=%{text}<extra></extra>",
         "legendgroup": "cluster4",
         "marker": {
          "color": "#FF97FF",
          "symbol": "circle"
         },
         "mode": "markers+text",
         "name": "cluster4",
         "orientation": "v",
         "showlegend": true,
         "text": [
          "snow",
          "education",
          "ryangosling",
          "cold"
         ],
         "textfont": {
          "size": 8
         },
         "textposition": "top center",
         "type": "scatter",
         "x": [
          0.5313072800636292,
          -0.4765514135360718,
          -1.0158421993255615,
          0.6647496223449707
         ],
         "xaxis": "x",
         "y": [
          -0.2217179536819458,
          0.21070513129234314,
          0.02006673812866211,
          -0.2886691689491272
         ],
         "yaxis": "y"
        },
        {
         "hovertemplate": "cluster_hashtags=cluster7<br>tsne_1=%{x}<br>tsne_2=%{y}<br>hashtags=%{text}<extra></extra>",
         "legendgroup": "cluster7",
         "marker": {
          "color": "#FECB52",
          "symbol": "circle"
         },
         "mode": "markers+text",
         "name": "cluster7",
         "orientation": "v",
         "showlegend": true,
         "text": [
          "biden"
         ],
         "textfont": {
          "size": 8
         },
         "textposition": "top center",
         "type": "scatter",
         "x": [
          1.0631471872329712
         ],
         "xaxis": "x",
         "y": [
          -0.15774421393871307
         ],
         "yaxis": "y"
        }
       ],
       "layout": {
        "height": 700,
        "legend": {
         "title": {
          "text": "cluster_hashtags"
         },
         "tracegroupgap": 0
        },
        "margin": {
         "t": 60
        },
        "template": {
         "data": {
          "bar": [
           {
            "error_x": {
             "color": "#2a3f5f"
            },
            "error_y": {
             "color": "#2a3f5f"
            },
            "marker": {
             "line": {
              "color": "#E5ECF6",
              "width": 0.5
             },
             "pattern": {
              "fillmode": "overlay",
              "size": 10,
              "solidity": 0.2
             }
            },
            "type": "bar"
           }
          ],
          "barpolar": [
           {
            "marker": {
             "line": {
              "color": "#E5ECF6",
              "width": 0.5
             },
             "pattern": {
              "fillmode": "overlay",
              "size": 10,
              "solidity": 0.2
             }
            },
            "type": "barpolar"
           }
          ],
          "carpet": [
           {
            "aaxis": {
             "endlinecolor": "#2a3f5f",
             "gridcolor": "white",
             "linecolor": "white",
             "minorgridcolor": "white",
             "startlinecolor": "#2a3f5f"
            },
            "baxis": {
             "endlinecolor": "#2a3f5f",
             "gridcolor": "white",
             "linecolor": "white",
             "minorgridcolor": "white",
             "startlinecolor": "#2a3f5f"
            },
            "type": "carpet"
           }
          ],
          "choropleth": [
           {
            "colorbar": {
             "outlinewidth": 0,
             "ticks": ""
            },
            "type": "choropleth"
           }
          ],
          "contour": [
           {
            "colorbar": {
             "outlinewidth": 0,
             "ticks": ""
            },
            "colorscale": [
             [
              0,
              "#0d0887"
             ],
             [
              0.1111111111111111,
              "#46039f"
             ],
             [
              0.2222222222222222,
              "#7201a8"
             ],
             [
              0.3333333333333333,
              "#9c179e"
             ],
             [
              0.4444444444444444,
              "#bd3786"
             ],
             [
              0.5555555555555556,
              "#d8576b"
             ],
             [
              0.6666666666666666,
              "#ed7953"
             ],
             [
              0.7777777777777778,
              "#fb9f3a"
             ],
             [
              0.8888888888888888,
              "#fdca26"
             ],
             [
              1,
              "#f0f921"
             ]
            ],
            "type": "contour"
           }
          ],
          "contourcarpet": [
           {
            "colorbar": {
             "outlinewidth": 0,
             "ticks": ""
            },
            "type": "contourcarpet"
           }
          ],
          "heatmap": [
           {
            "colorbar": {
             "outlinewidth": 0,
             "ticks": ""
            },
            "colorscale": [
             [
              0,
              "#0d0887"
             ],
             [
              0.1111111111111111,
              "#46039f"
             ],
             [
              0.2222222222222222,
              "#7201a8"
             ],
             [
              0.3333333333333333,
              "#9c179e"
             ],
             [
              0.4444444444444444,
              "#bd3786"
             ],
             [
              0.5555555555555556,
              "#d8576b"
             ],
             [
              0.6666666666666666,
              "#ed7953"
             ],
             [
              0.7777777777777778,
              "#fb9f3a"
             ],
             [
              0.8888888888888888,
              "#fdca26"
             ],
             [
              1,
              "#f0f921"
             ]
            ],
            "type": "heatmap"
           }
          ],
          "heatmapgl": [
           {
            "colorbar": {
             "outlinewidth": 0,
             "ticks": ""
            },
            "colorscale": [
             [
              0,
              "#0d0887"
             ],
             [
              0.1111111111111111,
              "#46039f"
             ],
             [
              0.2222222222222222,
              "#7201a8"
             ],
             [
              0.3333333333333333,
              "#9c179e"
             ],
             [
              0.4444444444444444,
              "#bd3786"
             ],
             [
              0.5555555555555556,
              "#d8576b"
             ],
             [
              0.6666666666666666,
              "#ed7953"
             ],
             [
              0.7777777777777778,
              "#fb9f3a"
             ],
             [
              0.8888888888888888,
              "#fdca26"
             ],
             [
              1,
              "#f0f921"
             ]
            ],
            "type": "heatmapgl"
           }
          ],
          "histogram": [
           {
            "marker": {
             "pattern": {
              "fillmode": "overlay",
              "size": 10,
              "solidity": 0.2
             }
            },
            "type": "histogram"
           }
          ],
          "histogram2d": [
           {
            "colorbar": {
             "outlinewidth": 0,
             "ticks": ""
            },
            "colorscale": [
             [
              0,
              "#0d0887"
             ],
             [
              0.1111111111111111,
              "#46039f"
             ],
             [
              0.2222222222222222,
              "#7201a8"
             ],
             [
              0.3333333333333333,
              "#9c179e"
             ],
             [
              0.4444444444444444,
              "#bd3786"
             ],
             [
              0.5555555555555556,
              "#d8576b"
             ],
             [
              0.6666666666666666,
              "#ed7953"
             ],
             [
              0.7777777777777778,
              "#fb9f3a"
             ],
             [
              0.8888888888888888,
              "#fdca26"
             ],
             [
              1,
              "#f0f921"
             ]
            ],
            "type": "histogram2d"
           }
          ],
          "histogram2dcontour": [
           {
            "colorbar": {
             "outlinewidth": 0,
             "ticks": ""
            },
            "colorscale": [
             [
              0,
              "#0d0887"
             ],
             [
              0.1111111111111111,
              "#46039f"
             ],
             [
              0.2222222222222222,
              "#7201a8"
             ],
             [
              0.3333333333333333,
              "#9c179e"
             ],
             [
              0.4444444444444444,
              "#bd3786"
             ],
             [
              0.5555555555555556,
              "#d8576b"
             ],
             [
              0.6666666666666666,
              "#ed7953"
             ],
             [
              0.7777777777777778,
              "#fb9f3a"
             ],
             [
              0.8888888888888888,
              "#fdca26"
             ],
             [
              1,
              "#f0f921"
             ]
            ],
            "type": "histogram2dcontour"
           }
          ],
          "mesh3d": [
           {
            "colorbar": {
             "outlinewidth": 0,
             "ticks": ""
            },
            "type": "mesh3d"
           }
          ],
          "parcoords": [
           {
            "line": {
             "colorbar": {
              "outlinewidth": 0,
              "ticks": ""
             }
            },
            "type": "parcoords"
           }
          ],
          "pie": [
           {
            "automargin": true,
            "type": "pie"
           }
          ],
          "scatter": [
           {
            "fillpattern": {
             "fillmode": "overlay",
             "size": 10,
             "solidity": 0.2
            },
            "type": "scatter"
           }
          ],
          "scatter3d": [
           {
            "line": {
             "colorbar": {
              "outlinewidth": 0,
              "ticks": ""
             }
            },
            "marker": {
             "colorbar": {
              "outlinewidth": 0,
              "ticks": ""
             }
            },
            "type": "scatter3d"
           }
          ],
          "scattercarpet": [
           {
            "marker": {
             "colorbar": {
              "outlinewidth": 0,
              "ticks": ""
             }
            },
            "type": "scattercarpet"
           }
          ],
          "scattergeo": [
           {
            "marker": {
             "colorbar": {
              "outlinewidth": 0,
              "ticks": ""
             }
            },
            "type": "scattergeo"
           }
          ],
          "scattergl": [
           {
            "marker": {
             "colorbar": {
              "outlinewidth": 0,
              "ticks": ""
             }
            },
            "type": "scattergl"
           }
          ],
          "scattermapbox": [
           {
            "marker": {
             "colorbar": {
              "outlinewidth": 0,
              "ticks": ""
             }
            },
            "type": "scattermapbox"
           }
          ],
          "scatterpolar": [
           {
            "marker": {
             "colorbar": {
              "outlinewidth": 0,
              "ticks": ""
             }
            },
            "type": "scatterpolar"
           }
          ],
          "scatterpolargl": [
           {
            "marker": {
             "colorbar": {
              "outlinewidth": 0,
              "ticks": ""
             }
            },
            "type": "scatterpolargl"
           }
          ],
          "scatterternary": [
           {
            "marker": {
             "colorbar": {
              "outlinewidth": 0,
              "ticks": ""
             }
            },
            "type": "scatterternary"
           }
          ],
          "surface": [
           {
            "colorbar": {
             "outlinewidth": 0,
             "ticks": ""
            },
            "colorscale": [
             [
              0,
              "#0d0887"
             ],
             [
              0.1111111111111111,
              "#46039f"
             ],
             [
              0.2222222222222222,
              "#7201a8"
             ],
             [
              0.3333333333333333,
              "#9c179e"
             ],
             [
              0.4444444444444444,
              "#bd3786"
             ],
             [
              0.5555555555555556,
              "#d8576b"
             ],
             [
              0.6666666666666666,
              "#ed7953"
             ],
             [
              0.7777777777777778,
              "#fb9f3a"
             ],
             [
              0.8888888888888888,
              "#fdca26"
             ],
             [
              1,
              "#f0f921"
             ]
            ],
            "type": "surface"
           }
          ],
          "table": [
           {
            "cells": {
             "fill": {
              "color": "#EBF0F8"
             },
             "line": {
              "color": "white"
             }
            },
            "header": {
             "fill": {
              "color": "#C8D4E3"
             },
             "line": {
              "color": "white"
             }
            },
            "type": "table"
           }
          ]
         },
         "layout": {
          "annotationdefaults": {
           "arrowcolor": "#2a3f5f",
           "arrowhead": 0,
           "arrowwidth": 1
          },
          "autotypenumbers": "strict",
          "coloraxis": {
           "colorbar": {
            "outlinewidth": 0,
            "ticks": ""
           }
          },
          "colorscale": {
           "diverging": [
            [
             0,
             "#8e0152"
            ],
            [
             0.1,
             "#c51b7d"
            ],
            [
             0.2,
             "#de77ae"
            ],
            [
             0.3,
             "#f1b6da"
            ],
            [
             0.4,
             "#fde0ef"
            ],
            [
             0.5,
             "#f7f7f7"
            ],
            [
             0.6,
             "#e6f5d0"
            ],
            [
             0.7,
             "#b8e186"
            ],
            [
             0.8,
             "#7fbc41"
            ],
            [
             0.9,
             "#4d9221"
            ],
            [
             1,
             "#276419"
            ]
           ],
           "sequential": [
            [
             0,
             "#0d0887"
            ],
            [
             0.1111111111111111,
             "#46039f"
            ],
            [
             0.2222222222222222,
             "#7201a8"
            ],
            [
             0.3333333333333333,
             "#9c179e"
            ],
            [
             0.4444444444444444,
             "#bd3786"
            ],
            [
             0.5555555555555556,
             "#d8576b"
            ],
            [
             0.6666666666666666,
             "#ed7953"
            ],
            [
             0.7777777777777778,
             "#fb9f3a"
            ],
            [
             0.8888888888888888,
             "#fdca26"
            ],
            [
             1,
             "#f0f921"
            ]
           ],
           "sequentialminus": [
            [
             0,
             "#0d0887"
            ],
            [
             0.1111111111111111,
             "#46039f"
            ],
            [
             0.2222222222222222,
             "#7201a8"
            ],
            [
             0.3333333333333333,
             "#9c179e"
            ],
            [
             0.4444444444444444,
             "#bd3786"
            ],
            [
             0.5555555555555556,
             "#d8576b"
            ],
            [
             0.6666666666666666,
             "#ed7953"
            ],
            [
             0.7777777777777778,
             "#fb9f3a"
            ],
            [
             0.8888888888888888,
             "#fdca26"
            ],
            [
             1,
             "#f0f921"
            ]
           ]
          },
          "colorway": [
           "#636efa",
           "#EF553B",
           "#00cc96",
           "#ab63fa",
           "#FFA15A",
           "#19d3f3",
           "#FF6692",
           "#B6E880",
           "#FF97FF",
           "#FECB52"
          ],
          "font": {
           "color": "#2a3f5f"
          },
          "geo": {
           "bgcolor": "white",
           "lakecolor": "white",
           "landcolor": "#E5ECF6",
           "showlakes": true,
           "showland": true,
           "subunitcolor": "white"
          },
          "hoverlabel": {
           "align": "left"
          },
          "hovermode": "closest",
          "mapbox": {
           "style": "light"
          },
          "paper_bgcolor": "white",
          "plot_bgcolor": "#E5ECF6",
          "polar": {
           "angularaxis": {
            "gridcolor": "white",
            "linecolor": "white",
            "ticks": ""
           },
           "bgcolor": "#E5ECF6",
           "radialaxis": {
            "gridcolor": "white",
            "linecolor": "white",
            "ticks": ""
           }
          },
          "scene": {
           "xaxis": {
            "backgroundcolor": "#E5ECF6",
            "gridcolor": "white",
            "gridwidth": 2,
            "linecolor": "white",
            "showbackground": true,
            "ticks": "",
            "zerolinecolor": "white"
           },
           "yaxis": {
            "backgroundcolor": "#E5ECF6",
            "gridcolor": "white",
            "gridwidth": 2,
            "linecolor": "white",
            "showbackground": true,
            "ticks": "",
            "zerolinecolor": "white"
           },
           "zaxis": {
            "backgroundcolor": "#E5ECF6",
            "gridcolor": "white",
            "gridwidth": 2,
            "linecolor": "white",
            "showbackground": true,
            "ticks": "",
            "zerolinecolor": "white"
           }
          },
          "shapedefaults": {
           "line": {
            "color": "#2a3f5f"
           }
          },
          "ternary": {
           "aaxis": {
            "gridcolor": "white",
            "linecolor": "white",
            "ticks": ""
           },
           "baxis": {
            "gridcolor": "white",
            "linecolor": "white",
            "ticks": ""
           },
           "bgcolor": "#E5ECF6",
           "caxis": {
            "gridcolor": "white",
            "linecolor": "white",
            "ticks": ""
           }
          },
          "title": {
           "x": 0.05
          },
          "xaxis": {
           "automargin": true,
           "gridcolor": "white",
           "linecolor": "white",
           "ticks": "",
           "title": {
            "standoff": 15
           },
           "zerolinecolor": "white",
           "zerolinewidth": 2
          },
          "yaxis": {
           "automargin": true,
           "gridcolor": "white",
           "linecolor": "white",
           "ticks": "",
           "title": {
            "standoff": 15
           },
           "zerolinecolor": "white",
           "zerolinewidth": 2
          }
         }
        },
        "title": {
         "text": "User 33534: Embeddings of TikTok News Hashtags"
        },
        "width": 1100,
        "xaxis": {
         "anchor": "y",
         "domain": [
          0,
          1
         ],
         "title": {
          "text": "tsne_1"
         }
        },
        "yaxis": {
         "anchor": "x",
         "domain": [
          0,
          1
         ],
         "title": {
          "text": "tsne_2"
         }
        }
       }
      }
     },
     "metadata": {},
     "output_type": "display_data"
    }
   ],
   "source": [
    "visualize_tsne(\"33534\", \"hashtags\", 10,1)"
   ]
  },
  {
   "cell_type": "code",
   "execution_count": 92,
   "metadata": {},
   "outputs": [
    {
     "data": {
      "application/vnd.plotly.v1+json": {
       "config": {
        "plotlyServerURL": "https://plot.ly"
       },
       "data": [
        {
         "hovertemplate": "cluster_hashtags=cluster1<br>tsne_1=%{x}<br>tsne_2=%{y}<br>hashtags=%{text}<extra></extra>",
         "legendgroup": "cluster1",
         "marker": {
          "color": "#636efa",
          "symbol": "circle"
         },
         "mode": "markers+text",
         "name": "cluster1",
         "orientation": "v",
         "showlegend": true,
         "text": [
          "randomfacts",
          "saveyourlife",
          "learnontiktok",
          "novavirginia",
          "washingtondc"
         ],
         "textfont": {
          "size": 8
         },
         "textposition": "top center",
         "type": "scatter",
         "x": [
          -0.6132611632347107,
          -0.8045030236244202,
          -0.7510315179824829,
          -0.79117351770401,
          -0.6870675086975098
         ],
         "xaxis": "x",
         "y": [
          0.058792464435100555,
          -0.011584121733903885,
          0.11375852674245834,
          -0.017918352037668228,
          0.3270404636859894
         ],
         "yaxis": "y"
        },
        {
         "hovertemplate": "cluster_hashtags=cluster7<br>tsne_1=%{x}<br>tsne_2=%{y}<br>hashtags=%{text}<extra></extra>",
         "legendgroup": "cluster7",
         "marker": {
          "color": "#EF553B",
          "symbol": "circle"
         },
         "mode": "markers+text",
         "name": "cluster7",
         "orientation": "v",
         "showlegend": true,
         "text": [
          "911",
          "police",
          "cops"
         ],
         "textfont": {
          "size": 8
         },
         "textposition": "top center",
         "type": "scatter",
         "x": [
          -0.4009612798690796,
          -0.12902961671352386,
          -0.14988288283348083
         ],
         "xaxis": "x",
         "y": [
          -0.6418202519416809,
          -0.440897673368454,
          -0.47136610746383667
         ],
         "yaxis": "y"
        },
        {
         "hovertemplate": "cluster_hashtags=cluster2<br>tsne_1=%{x}<br>tsne_2=%{y}<br>hashtags=%{text}<extra></extra>",
         "legendgroup": "cluster2",
         "marker": {
          "color": "#00cc96",
          "symbol": "circle"
         },
         "mode": "markers+text",
         "name": "cluster2",
         "orientation": "v",
         "showlegend": true,
         "text": [
          "dmvnews",
          "school",
          "newhampshire",
          "classifiedgoons",
          "mathteacher",
          "districtofcolumbia",
          "stem"
         ],
         "textfont": {
          "size": 8
         },
         "textposition": "top center",
         "type": "scatter",
         "x": [
          -0.38971373438835144,
          0.028275232762098312,
          -0.4300249218940735,
          -0.774377167224884,
          -0.2912209630012512,
          -0.37849828600883484,
          0.06604839861392975
         ],
         "xaxis": "x",
         "y": [
          -0.039010751992464066,
          -0.3122737407684326,
          -0.15238063037395477,
          -0.02696581557393074,
          0.027320576831698418,
          -0.007778640370815992,
          0.3531895875930786
         ],
         "yaxis": "y"
        },
        {
         "hovertemplate": "cluster_hashtags=cluster8<br>tsne_1=%{x}<br>tsne_2=%{y}<br>hashtags=%{text}<extra></extra>",
         "legendgroup": "cluster8",
         "marker": {
          "color": "#ab63fa",
          "symbol": "circle"
         },
         "mode": "markers+text",
         "name": "cluster8",
         "orientation": "v",
         "showlegend": true,
         "text": [
          "quicksort",
          "sorting",
          "mergesort"
         ],
         "textfont": {
          "size": 8
         },
         "textposition": "top center",
         "type": "scatter",
         "x": [
          0.2968544363975525,
          0.2647406756877899,
          0.22620874643325806
         ],
         "xaxis": "x",
         "y": [
          0.5335995554924011,
          0.41820478439331055,
          0.5004509091377258
         ],
         "yaxis": "y"
        },
        {
         "hovertemplate": "cluster_hashtags=cluster6<br>tsne_1=%{x}<br>tsne_2=%{y}<br>hashtags=%{text}<extra></extra>",
         "legendgroup": "cluster6",
         "marker": {
          "color": "#FFA15A",
          "symbol": "circle"
         },
         "mode": "markers+text",
         "name": "cluster6",
         "orientation": "v",
         "showlegend": true,
         "text": [
          "cps"
         ],
         "textfont": {
          "size": 8
         },
         "textposition": "top center",
         "type": "scatter",
         "x": [
          -0.43481725454330444
         ],
         "xaxis": "x",
         "y": [
          -0.6478523015975952
         ],
         "yaxis": "y"
        },
        {
         "hovertemplate": "cluster_hashtags=cluster4<br>tsne_1=%{x}<br>tsne_2=%{y}<br>hashtags=%{text}<extra></extra>",
         "legendgroup": "cluster4",
         "marker": {
          "color": "#19d3f3",
          "symbol": "circle"
         },
         "mode": "markers+text",
         "name": "cluster4",
         "orientation": "v",
         "showlegend": true,
         "text": [
          "maryland",
          "dc",
          "virginia"
         ],
         "textfont": {
          "size": 8
         },
         "textposition": "top center",
         "type": "scatter",
         "x": [
          -0.28811636567115784,
          -0.3638612627983093,
          -0.2804799973964691
         ],
         "xaxis": "x",
         "y": [
          0.6374644637107849,
          0.5575793981552124,
          0.5528409481048584
         ],
         "yaxis": "y"
        },
        {
         "hovertemplate": "cluster_hashtags=cluster9<br>tsne_1=%{x}<br>tsne_2=%{y}<br>hashtags=%{text}<extra></extra>",
         "legendgroup": "cluster9",
         "marker": {
          "color": "#FF6692",
          "symbol": "circle"
         },
         "mode": "markers+text",
         "name": "cluster9",
         "orientation": "v",
         "showlegend": true,
         "text": [
          "novanews",
          "factsyoudidntknow"
         ],
         "textfont": {
          "size": 8
         },
         "textposition": "top center",
         "type": "scatter",
         "x": [
          -0.4558669328689575,
          -0.5211500525474548
         ],
         "xaxis": "x",
         "y": [
          0.028121434152126312,
          0.06704052537679672
         ],
         "yaxis": "y"
        },
        {
         "hovertemplate": "cluster_hashtags=cluster5<br>tsne_1=%{x}<br>tsne_2=%{y}<br>hashtags=%{text}<extra></extra>",
         "legendgroup": "cluster5",
         "marker": {
          "color": "#B6E880",
          "symbol": "circle"
         },
         "mode": "markers+text",
         "name": "cluster5",
         "orientation": "v",
         "showlegend": true,
         "text": [
          "math",
          "visualization",
          "video",
          "facts",
          "new",
          "science",
          "curiosity"
         ],
         "textfont": {
          "size": 8
         },
         "textposition": "top center",
         "type": "scatter",
         "x": [
          0.3458833694458008,
          0.35451582074165344,
          0.16967962682247162,
          0.3740769028663635,
          0.2277165800333023,
          0.34817102551460266,
          0.40436679124832153
         ],
         "xaxis": "x",
         "y": [
          -0.21659259498119354,
          0.0037230553571134806,
          -0.19376549124717712,
          -0.25447767972946167,
          -0.043051909655332565,
          -0.20627722144126892,
          -0.2052469104528427
         ],
         "yaxis": "y"
        },
        {
         "hovertemplate": "cluster_hashtags=cluster0<br>tsne_1=%{x}<br>tsne_2=%{y}<br>hashtags=%{text}<extra></extra>",
         "legendgroup": "cluster0",
         "marker": {
          "color": "#FF97FF",
          "symbol": "circle"
         },
         "mode": "markers+text",
         "name": "cluster0",
         "orientation": "v",
         "showlegend": true,
         "text": [
          "pranks"
         ],
         "textfont": {
          "size": 8
         },
         "textposition": "top center",
         "type": "scatter",
         "x": [
          0.1498880386352539
         ],
         "xaxis": "x",
         "y": [
          -0.6220054626464844
         ],
         "yaxis": "y"
        },
        {
         "hovertemplate": "cluster_hashtags=cluster3<br>tsne_1=%{x}<br>tsne_2=%{y}<br>hashtags=%{text}<extra></extra>",
         "legendgroup": "cluster3",
         "marker": {
          "color": "#FECB52",
          "symbol": "circle"
         },
         "mode": "markers+text",
         "name": "cluster3",
         "orientation": "v",
         "showlegend": true,
         "text": [
          "algorithms"
         ],
         "textfont": {
          "size": 8
         },
         "textposition": "top center",
         "type": "scatter",
         "x": [
          0.28199389576911926
         ],
         "xaxis": "x",
         "y": [
          0.4082651138305664
         ],
         "yaxis": "y"
        }
       ],
       "layout": {
        "height": 700,
        "legend": {
         "title": {
          "text": "cluster_hashtags"
         },
         "tracegroupgap": 0
        },
        "margin": {
         "t": 60
        },
        "template": {
         "data": {
          "bar": [
           {
            "error_x": {
             "color": "#2a3f5f"
            },
            "error_y": {
             "color": "#2a3f5f"
            },
            "marker": {
             "line": {
              "color": "#E5ECF6",
              "width": 0.5
             },
             "pattern": {
              "fillmode": "overlay",
              "size": 10,
              "solidity": 0.2
             }
            },
            "type": "bar"
           }
          ],
          "barpolar": [
           {
            "marker": {
             "line": {
              "color": "#E5ECF6",
              "width": 0.5
             },
             "pattern": {
              "fillmode": "overlay",
              "size": 10,
              "solidity": 0.2
             }
            },
            "type": "barpolar"
           }
          ],
          "carpet": [
           {
            "aaxis": {
             "endlinecolor": "#2a3f5f",
             "gridcolor": "white",
             "linecolor": "white",
             "minorgridcolor": "white",
             "startlinecolor": "#2a3f5f"
            },
            "baxis": {
             "endlinecolor": "#2a3f5f",
             "gridcolor": "white",
             "linecolor": "white",
             "minorgridcolor": "white",
             "startlinecolor": "#2a3f5f"
            },
            "type": "carpet"
           }
          ],
          "choropleth": [
           {
            "colorbar": {
             "outlinewidth": 0,
             "ticks": ""
            },
            "type": "choropleth"
           }
          ],
          "contour": [
           {
            "colorbar": {
             "outlinewidth": 0,
             "ticks": ""
            },
            "colorscale": [
             [
              0,
              "#0d0887"
             ],
             [
              0.1111111111111111,
              "#46039f"
             ],
             [
              0.2222222222222222,
              "#7201a8"
             ],
             [
              0.3333333333333333,
              "#9c179e"
             ],
             [
              0.4444444444444444,
              "#bd3786"
             ],
             [
              0.5555555555555556,
              "#d8576b"
             ],
             [
              0.6666666666666666,
              "#ed7953"
             ],
             [
              0.7777777777777778,
              "#fb9f3a"
             ],
             [
              0.8888888888888888,
              "#fdca26"
             ],
             [
              1,
              "#f0f921"
             ]
            ],
            "type": "contour"
           }
          ],
          "contourcarpet": [
           {
            "colorbar": {
             "outlinewidth": 0,
             "ticks": ""
            },
            "type": "contourcarpet"
           }
          ],
          "heatmap": [
           {
            "colorbar": {
             "outlinewidth": 0,
             "ticks": ""
            },
            "colorscale": [
             [
              0,
              "#0d0887"
             ],
             [
              0.1111111111111111,
              "#46039f"
             ],
             [
              0.2222222222222222,
              "#7201a8"
             ],
             [
              0.3333333333333333,
              "#9c179e"
             ],
             [
              0.4444444444444444,
              "#bd3786"
             ],
             [
              0.5555555555555556,
              "#d8576b"
             ],
             [
              0.6666666666666666,
              "#ed7953"
             ],
             [
              0.7777777777777778,
              "#fb9f3a"
             ],
             [
              0.8888888888888888,
              "#fdca26"
             ],
             [
              1,
              "#f0f921"
             ]
            ],
            "type": "heatmap"
           }
          ],
          "heatmapgl": [
           {
            "colorbar": {
             "outlinewidth": 0,
             "ticks": ""
            },
            "colorscale": [
             [
              0,
              "#0d0887"
             ],
             [
              0.1111111111111111,
              "#46039f"
             ],
             [
              0.2222222222222222,
              "#7201a8"
             ],
             [
              0.3333333333333333,
              "#9c179e"
             ],
             [
              0.4444444444444444,
              "#bd3786"
             ],
             [
              0.5555555555555556,
              "#d8576b"
             ],
             [
              0.6666666666666666,
              "#ed7953"
             ],
             [
              0.7777777777777778,
              "#fb9f3a"
             ],
             [
              0.8888888888888888,
              "#fdca26"
             ],
             [
              1,
              "#f0f921"
             ]
            ],
            "type": "heatmapgl"
           }
          ],
          "histogram": [
           {
            "marker": {
             "pattern": {
              "fillmode": "overlay",
              "size": 10,
              "solidity": 0.2
             }
            },
            "type": "histogram"
           }
          ],
          "histogram2d": [
           {
            "colorbar": {
             "outlinewidth": 0,
             "ticks": ""
            },
            "colorscale": [
             [
              0,
              "#0d0887"
             ],
             [
              0.1111111111111111,
              "#46039f"
             ],
             [
              0.2222222222222222,
              "#7201a8"
             ],
             [
              0.3333333333333333,
              "#9c179e"
             ],
             [
              0.4444444444444444,
              "#bd3786"
             ],
             [
              0.5555555555555556,
              "#d8576b"
             ],
             [
              0.6666666666666666,
              "#ed7953"
             ],
             [
              0.7777777777777778,
              "#fb9f3a"
             ],
             [
              0.8888888888888888,
              "#fdca26"
             ],
             [
              1,
              "#f0f921"
             ]
            ],
            "type": "histogram2d"
           }
          ],
          "histogram2dcontour": [
           {
            "colorbar": {
             "outlinewidth": 0,
             "ticks": ""
            },
            "colorscale": [
             [
              0,
              "#0d0887"
             ],
             [
              0.1111111111111111,
              "#46039f"
             ],
             [
              0.2222222222222222,
              "#7201a8"
             ],
             [
              0.3333333333333333,
              "#9c179e"
             ],
             [
              0.4444444444444444,
              "#bd3786"
             ],
             [
              0.5555555555555556,
              "#d8576b"
             ],
             [
              0.6666666666666666,
              "#ed7953"
             ],
             [
              0.7777777777777778,
              "#fb9f3a"
             ],
             [
              0.8888888888888888,
              "#fdca26"
             ],
             [
              1,
              "#f0f921"
             ]
            ],
            "type": "histogram2dcontour"
           }
          ],
          "mesh3d": [
           {
            "colorbar": {
             "outlinewidth": 0,
             "ticks": ""
            },
            "type": "mesh3d"
           }
          ],
          "parcoords": [
           {
            "line": {
             "colorbar": {
              "outlinewidth": 0,
              "ticks": ""
             }
            },
            "type": "parcoords"
           }
          ],
          "pie": [
           {
            "automargin": true,
            "type": "pie"
           }
          ],
          "scatter": [
           {
            "fillpattern": {
             "fillmode": "overlay",
             "size": 10,
             "solidity": 0.2
            },
            "type": "scatter"
           }
          ],
          "scatter3d": [
           {
            "line": {
             "colorbar": {
              "outlinewidth": 0,
              "ticks": ""
             }
            },
            "marker": {
             "colorbar": {
              "outlinewidth": 0,
              "ticks": ""
             }
            },
            "type": "scatter3d"
           }
          ],
          "scattercarpet": [
           {
            "marker": {
             "colorbar": {
              "outlinewidth": 0,
              "ticks": ""
             }
            },
            "type": "scattercarpet"
           }
          ],
          "scattergeo": [
           {
            "marker": {
             "colorbar": {
              "outlinewidth": 0,
              "ticks": ""
             }
            },
            "type": "scattergeo"
           }
          ],
          "scattergl": [
           {
            "marker": {
             "colorbar": {
              "outlinewidth": 0,
              "ticks": ""
             }
            },
            "type": "scattergl"
           }
          ],
          "scattermapbox": [
           {
            "marker": {
             "colorbar": {
              "outlinewidth": 0,
              "ticks": ""
             }
            },
            "type": "scattermapbox"
           }
          ],
          "scatterpolar": [
           {
            "marker": {
             "colorbar": {
              "outlinewidth": 0,
              "ticks": ""
             }
            },
            "type": "scatterpolar"
           }
          ],
          "scatterpolargl": [
           {
            "marker": {
             "colorbar": {
              "outlinewidth": 0,
              "ticks": ""
             }
            },
            "type": "scatterpolargl"
           }
          ],
          "scatterternary": [
           {
            "marker": {
             "colorbar": {
              "outlinewidth": 0,
              "ticks": ""
             }
            },
            "type": "scatterternary"
           }
          ],
          "surface": [
           {
            "colorbar": {
             "outlinewidth": 0,
             "ticks": ""
            },
            "colorscale": [
             [
              0,
              "#0d0887"
             ],
             [
              0.1111111111111111,
              "#46039f"
             ],
             [
              0.2222222222222222,
              "#7201a8"
             ],
             [
              0.3333333333333333,
              "#9c179e"
             ],
             [
              0.4444444444444444,
              "#bd3786"
             ],
             [
              0.5555555555555556,
              "#d8576b"
             ],
             [
              0.6666666666666666,
              "#ed7953"
             ],
             [
              0.7777777777777778,
              "#fb9f3a"
             ],
             [
              0.8888888888888888,
              "#fdca26"
             ],
             [
              1,
              "#f0f921"
             ]
            ],
            "type": "surface"
           }
          ],
          "table": [
           {
            "cells": {
             "fill": {
              "color": "#EBF0F8"
             },
             "line": {
              "color": "white"
             }
            },
            "header": {
             "fill": {
              "color": "#C8D4E3"
             },
             "line": {
              "color": "white"
             }
            },
            "type": "table"
           }
          ]
         },
         "layout": {
          "annotationdefaults": {
           "arrowcolor": "#2a3f5f",
           "arrowhead": 0,
           "arrowwidth": 1
          },
          "autotypenumbers": "strict",
          "coloraxis": {
           "colorbar": {
            "outlinewidth": 0,
            "ticks": ""
           }
          },
          "colorscale": {
           "diverging": [
            [
             0,
             "#8e0152"
            ],
            [
             0.1,
             "#c51b7d"
            ],
            [
             0.2,
             "#de77ae"
            ],
            [
             0.3,
             "#f1b6da"
            ],
            [
             0.4,
             "#fde0ef"
            ],
            [
             0.5,
             "#f7f7f7"
            ],
            [
             0.6,
             "#e6f5d0"
            ],
            [
             0.7,
             "#b8e186"
            ],
            [
             0.8,
             "#7fbc41"
            ],
            [
             0.9,
             "#4d9221"
            ],
            [
             1,
             "#276419"
            ]
           ],
           "sequential": [
            [
             0,
             "#0d0887"
            ],
            [
             0.1111111111111111,
             "#46039f"
            ],
            [
             0.2222222222222222,
             "#7201a8"
            ],
            [
             0.3333333333333333,
             "#9c179e"
            ],
            [
             0.4444444444444444,
             "#bd3786"
            ],
            [
             0.5555555555555556,
             "#d8576b"
            ],
            [
             0.6666666666666666,
             "#ed7953"
            ],
            [
             0.7777777777777778,
             "#fb9f3a"
            ],
            [
             0.8888888888888888,
             "#fdca26"
            ],
            [
             1,
             "#f0f921"
            ]
           ],
           "sequentialminus": [
            [
             0,
             "#0d0887"
            ],
            [
             0.1111111111111111,
             "#46039f"
            ],
            [
             0.2222222222222222,
             "#7201a8"
            ],
            [
             0.3333333333333333,
             "#9c179e"
            ],
            [
             0.4444444444444444,
             "#bd3786"
            ],
            [
             0.5555555555555556,
             "#d8576b"
            ],
            [
             0.6666666666666666,
             "#ed7953"
            ],
            [
             0.7777777777777778,
             "#fb9f3a"
            ],
            [
             0.8888888888888888,
             "#fdca26"
            ],
            [
             1,
             "#f0f921"
            ]
           ]
          },
          "colorway": [
           "#636efa",
           "#EF553B",
           "#00cc96",
           "#ab63fa",
           "#FFA15A",
           "#19d3f3",
           "#FF6692",
           "#B6E880",
           "#FF97FF",
           "#FECB52"
          ],
          "font": {
           "color": "#2a3f5f"
          },
          "geo": {
           "bgcolor": "white",
           "lakecolor": "white",
           "landcolor": "#E5ECF6",
           "showlakes": true,
           "showland": true,
           "subunitcolor": "white"
          },
          "hoverlabel": {
           "align": "left"
          },
          "hovermode": "closest",
          "mapbox": {
           "style": "light"
          },
          "paper_bgcolor": "white",
          "plot_bgcolor": "#E5ECF6",
          "polar": {
           "angularaxis": {
            "gridcolor": "white",
            "linecolor": "white",
            "ticks": ""
           },
           "bgcolor": "#E5ECF6",
           "radialaxis": {
            "gridcolor": "white",
            "linecolor": "white",
            "ticks": ""
           }
          },
          "scene": {
           "xaxis": {
            "backgroundcolor": "#E5ECF6",
            "gridcolor": "white",
            "gridwidth": 2,
            "linecolor": "white",
            "showbackground": true,
            "ticks": "",
            "zerolinecolor": "white"
           },
           "yaxis": {
            "backgroundcolor": "#E5ECF6",
            "gridcolor": "white",
            "gridwidth": 2,
            "linecolor": "white",
            "showbackground": true,
            "ticks": "",
            "zerolinecolor": "white"
           },
           "zaxis": {
            "backgroundcolor": "#E5ECF6",
            "gridcolor": "white",
            "gridwidth": 2,
            "linecolor": "white",
            "showbackground": true,
            "ticks": "",
            "zerolinecolor": "white"
           }
          },
          "shapedefaults": {
           "line": {
            "color": "#2a3f5f"
           }
          },
          "ternary": {
           "aaxis": {
            "gridcolor": "white",
            "linecolor": "white",
            "ticks": ""
           },
           "baxis": {
            "gridcolor": "white",
            "linecolor": "white",
            "ticks": ""
           },
           "bgcolor": "#E5ECF6",
           "caxis": {
            "gridcolor": "white",
            "linecolor": "white",
            "ticks": ""
           }
          },
          "title": {
           "x": 0.05
          },
          "xaxis": {
           "automargin": true,
           "gridcolor": "white",
           "linecolor": "white",
           "ticks": "",
           "title": {
            "standoff": 15
           },
           "zerolinecolor": "white",
           "zerolinewidth": 2
          },
          "yaxis": {
           "automargin": true,
           "gridcolor": "white",
           "linecolor": "white",
           "ticks": "",
           "title": {
            "standoff": 15
           },
           "zerolinecolor": "white",
           "zerolinewidth": 2
          }
         }
        },
        "title": {
         "text": "User 48271: Embeddings of TikTok News Hashtags"
        },
        "width": 1100,
        "xaxis": {
         "anchor": "y",
         "domain": [
          0,
          1
         ],
         "title": {
          "text": "tsne_1"
         }
        },
        "yaxis": {
         "anchor": "x",
         "domain": [
          0,
          1
         ],
         "title": {
          "text": "tsne_2"
         }
        }
       }
      }
     },
     "metadata": {},
     "output_type": "display_data"
    }
   ],
   "source": [
    "visualize_tsne(\"48271\", \"hashtags\", 10, 0) # hashtags only have frequency of 1"
   ]
  },
  {
   "cell_type": "code",
   "execution_count": 96,
   "metadata": {},
   "outputs": [
    {
     "data": {
      "application/vnd.plotly.v1+json": {
       "config": {
        "plotlyServerURL": "https://plot.ly"
       },
       "data": [
        {
         "hovertemplate": "cluster_hashtags=cluster3<br>tsne_1=%{x}<br>tsne_2=%{y}<br>hashtags=%{text}<extra></extra>",
         "legendgroup": "cluster3",
         "marker": {
          "color": "#636efa",
          "symbol": "circle"
         },
         "mode": "markers+text",
         "name": "cluster3",
         "orientation": "v",
         "showlegend": true,
         "text": [
          "economics",
          "awareness",
          "mystery",
          "medical",
          "tech",
          "law",
          "history",
          "president",
          "education",
          "police",
          "language",
          "business",
          "bilingual",
          "finance",
          "spanish",
          "criminal",
          "interpreter",
          "crime",
          "debate",
          "politics",
          "trend",
          "facts"
         ],
         "textfont": {
          "size": 8
         },
         "textposition": "top center",
         "type": "scatter",
         "x": [
          -0.2525622844696045,
          -2.1005759239196777,
          3.3498599529266357,
          -3.391479253768921,
          -3.8483357429504395,
          -1.529471516609192,
          1.036630630493164,
          -7.764987945556641,
          -2.4130499362945557,
          -1.216317892074585,
          -5.565018653869629,
          -1.4567216634750366,
          -6.433999061584473,
          -2.271705389022827,
          -6.388339519500732,
          0.912726640701294,
          -5.84597635269165,
          0.7807150483131409,
          -0.04085574299097061,
          -1.710167646408081,
          -0.6336442232131958,
          1.3107378482818604
         ],
         "xaxis": "x",
         "y": [
          3.9273788928985596,
          6.687615871429443,
          3.333787441253662,
          3.2522478103637695,
          4.489342212677002,
          3.4266371726989746,
          4.923779010772705,
          -1.2870655059814453,
          5.7388081550598145,
          1.119302749633789,
          7.340296745300293,
          4.130489826202393,
          7.65717887878418,
          4.585836887359619,
          6.386904716491699,
          1.6321654319763184,
          8.172636032104492,
          1.5681627988815308,
          6.174065589904785,
          2.336756467819214,
          -2.3534152507781982,
          5.368624210357666
         ],
         "yaxis": "y"
        },
        {
         "hovertemplate": "cluster_hashtags=cluster6<br>tsne_1=%{x}<br>tsne_2=%{y}<br>hashtags=%{text}<extra></extra>",
         "legendgroup": "cluster6",
         "marker": {
          "color": "#EF553B",
          "symbol": "circle"
         },
         "mode": "markers+text",
         "name": "cluster6",
         "orientation": "v",
         "showlegend": true,
         "text": [
          "supertuesday",
          "freepalestine",
          "barbiemovie",
          "2024",
          "washingtondc",
          "learnontiktok",
          "greenscreenvideo",
          "viral",
          "truecrimetok"
         ],
         "textfont": {
          "size": 8
         },
         "textposition": "top center",
         "type": "scatter",
         "x": [
          8.651972770690918,
          9.614112854003906,
          7.920953750610352,
          10.734025001525879,
          9.624954223632812,
          8.50461483001709,
          10.32259464263916,
          1.7152073383331299,
          8.817004203796387
         ],
         "xaxis": "x",
         "y": [
          -3.940783739089966,
          -4.0724334716796875,
          -4.5066070556640625,
          -6.943204879760742,
          -6.3576507568359375,
          -5.943816661834717,
          -4.708995819091797,
          -1.5309196710586548,
          -4.813507080078125
         ],
         "yaxis": "y"
        },
        {
         "hovertemplate": "cluster_hashtags=cluster4<br>tsne_1=%{x}<br>tsne_2=%{y}<br>hashtags=%{text}<extra></extra>",
         "legendgroup": "cluster4",
         "marker": {
          "color": "#00cc96",
          "symbol": "circle"
         },
         "mode": "markers+text",
         "name": "cluster4",
         "orientation": "v",
         "showlegend": true,
         "text": [
          "oscars",
          "basketball",
          "latina",
          "us",
          "indian",
          "nfl",
          "nba",
          "college",
          "film",
          "sports",
          "nyc",
          "football",
          "usa",
          "america",
          "dc",
          "superbowl",
          "cops",
          "military",
          "india"
         ],
         "textfont": {
          "size": 8
         },
         "textposition": "top center",
         "type": "scatter",
         "x": [
          -1.3375080823898315,
          -4.291666030883789,
          -7.160830497741699,
          -8.957674980163574,
          -6.936716556549072,
          -4.591798782348633,
          -4.604002952575684,
          -4.408137798309326,
          -0.8865565657615662,
          -3.1780149936676025,
          -10.711493492126465,
          -3.982400417327881,
          -9.120882987976074,
          -8.905064582824707,
          -10.404129028320312,
          -4.857626438140869,
          -1.089238166809082,
          -3.9415841102600098,
          -7.129515171051025
         ],
         "xaxis": "x",
         "y": [
          -7.8249192237854,
          0.1674252301454544,
          5.387266635894775,
          2.405148506164551,
          2.8896124362945557,
          -0.8806421756744385,
          0.23495721817016602,
          2.030365228652954,
          -6.940793514251709,
          -0.03740205243229866,
          -0.2731916308403015,
          -0.6620745062828064,
          1.91351318359375,
          1.4885228872299194,
          3.262183666229248,
          -1.681899905204773,
          0.8487827181816101,
          2.211690664291382,
          2.724036693572998
         ],
         "yaxis": "y"
        },
        {
         "hovertemplate": "cluster_hashtags=cluster1<br>tsne_1=%{x}<br>tsne_2=%{y}<br>hashtags=%{text}<extra></extra>",
         "legendgroup": "cluster1",
         "marker": {
          "color": "#ab63fa",
          "symbol": "circle"
         },
         "mode": "markers+text",
         "name": "cluster1",
         "orientation": "v",
         "showlegend": true,
         "text": [
          "zerocon24",
          "unitednations",
          "greenscreen",
          "techforgood",
          "nikkihaley",
          "stitch",
          "politicaltiktok",
          "criminalminds",
          "donaldtrump",
          "todayshow",
          "academyawards",
          "accessibility",
          "copsoftiktok",
          "crimetok"
         ],
         "textfont": {
          "size": 8
         },
         "textposition": "top center",
         "type": "scatter",
         "x": [
          4.371295928955078,
          3.186795711517334,
          1.3327733278274536,
          5.706840515136719,
          5.895357131958008,
          3.100325584411621,
          7.643432140350342,
          5.455300807952881,
          6.505922794342041,
          6.6230998039245605,
          3.568521738052368,
          -1.1725780963897705,
          4.63261079788208,
          4.783303260803223
         ],
         "xaxis": "x",
         "y": [
          -2.8843185901641846,
          -5.865625381469727,
          -6.378459453582764,
          -3.579535484313965,
          -3.667886734008789,
          -7.010598659515381,
          -6.353601455688477,
          -5.084001064300537,
          -5.704909324645996,
          -4.404445648193359,
          -4.273219108581543,
          7.827892303466797,
          -5.20841646194458,
          -4.013460159301758
         ],
         "yaxis": "y"
        },
        {
         "hovertemplate": "cluster_hashtags=cluster8<br>tsne_1=%{x}<br>tsne_2=%{y}<br>hashtags=%{text}<extra></extra>",
         "legendgroup": "cluster8",
         "marker": {
          "color": "#FFA15A",
          "symbol": "circle"
         },
         "mode": "markers+text",
         "name": "cluster8",
         "orientation": "v",
         "showlegend": true,
         "text": [
          "parati",
          "bodycam",
          "meme",
          "crimejunkie",
          "missing",
          "truecrimetiktok",
          "truecrimecommunity",
          "dark",
          "truecrime",
          "historytok",
          "2024election",
          "filmtok",
          "joebiden",
          "election2024",
          "supremecourt",
          "genz"
         ],
         "textfont": {
          "size": 8
         },
         "textposition": "top center",
         "type": "scatter",
         "x": [
          5.688882827758789,
          6.599355220794678,
          8.413812637329102,
          7.308847904205322,
          3.860776662826538,
          8.87967300415039,
          7.724105358123779,
          4.928808689117432,
          4.563202857971191,
          3.4181289672851562,
          6.705768585205078,
          7.722445964813232,
          3.588249921798706,
          8.20519733428955,
          5.669875144958496,
          5.321009635925293
         ],
         "xaxis": "x",
         "y": [
          -0.9889355897903442,
          -0.0316544733941555,
          1.2101982831954956,
          -3.0295941829681396,
          1.941760778427124,
          -2.5301735401153564,
          -1.0972779989242554,
          3.487739324569702,
          -1.4165645837783813,
          -2.4757890701293945,
          -1.654134750366211,
          -1.8879706859588623,
          -0.8907077312469482,
          -0.34700843691825867,
          -2.061204433441162,
          -0.4501884877681732
         ],
         "yaxis": "y"
        },
        {
         "hovertemplate": "cluster_hashtags=cluster0<br>tsne_1=%{x}<br>tsne_2=%{y}<br>hashtags=%{text}<extra></extra>",
         "legendgroup": "cluster0",
         "marker": {
          "color": "#19d3f3",
          "symbol": "circle"
         },
         "mode": "markers+text",
         "name": "cluster0",
         "orientation": "v",
         "showlegend": true,
         "text": [
          "foxnews",
          "wendys",
          "biden",
          "california",
          "republican",
          "leftist",
          "scotus",
          "michigan",
          "democrat",
          "trump",
          "conservative",
          "liberal",
          "barbie",
          "florida"
         ],
         "textfont": {
          "size": 8
         },
         "textposition": "top center",
         "type": "scatter",
         "x": [
          -8.129093170166016,
          -6.116791725158691,
          -8.62700080871582,
          -10.952174186706543,
          -5.318151950836182,
          -6.031497478485107,
          -6.541220188140869,
          -11.871042251586914,
          -5.303676128387451,
          -7.967594623565674,
          -4.956390857696533,
          -5.057000160217285,
          1.6851248741149902,
          -11.464312553405762
         ],
         "xaxis": "x",
         "y": [
          -5.188387870788574,
          -2.966482400894165,
          -3.1339714527130127,
          1.0999265909194946,
          -4.740092754364014,
          -6.222095966339111,
          0.05211791768670082,
          1.769268274307251,
          -4.83568811416626,
          -1.5228517055511475,
          -6.699036598205566,
          -6.600771427154541,
          -4.239542484283447,
          1.3815490007400513
         ],
         "yaxis": "y"
        },
        {
         "hovertemplate": "cluster_hashtags=cluster5<br>tsne_1=%{x}<br>tsne_2=%{y}<br>hashtags=%{text}<extra></extra>",
         "legendgroup": "cluster5",
         "marker": {
          "color": "#FF6692",
          "symbol": "circle"
         },
         "mode": "markers+text",
         "name": "cluster5",
         "orientation": "v",
         "showlegend": true,
         "text": [
          "election",
          "vote",
          "commentary",
          "inflation",
          "palestine",
          "update"
         ],
         "textfont": {
          "size": 8
         },
         "textposition": "top center",
         "type": "scatter",
         "x": [
          -3.027832508087158,
          -2.8850533962249756,
          0.8655992150306702,
          1.0785887241363525,
          -9.676127433776855,
          3.12898588180542
         ],
         "xaxis": "x",
         "y": [
          -3.8742117881774902,
          -4.017707824707031,
          7.0049920082092285,
          -9.052568435668945,
          -6.517801761627197,
          7.042375564575195
         ],
         "yaxis": "y"
        },
        {
         "hovertemplate": "cluster_hashtags=cluster7<br>tsne_1=%{x}<br>tsne_2=%{y}<br>hashtags=%{text}<extra></extra>",
         "legendgroup": "cluster7",
         "marker": {
          "color": "#B6E880",
          "symbol": "circle"
         },
         "mode": "markers+text",
         "name": "cluster7",
         "orientation": "v",
         "showlegend": true,
         "text": [
          "storytime",
          "relatable",
          "funny",
          "scary",
          "creepy",
          "disturbing",
          "new",
          "translate"
         ],
         "textfont": {
          "size": 8
         },
         "textposition": "top center",
         "type": "scatter",
         "x": [
          3.852738618850708,
          7.943758487701416,
          6.910530090332031,
          5.98403263092041,
          5.834028720855713,
          6.192747592926025,
          3.069854259490967,
          -4.998635292053223
         ],
         "xaxis": "x",
         "y": [
          5.382044792175293,
          2.8416621685028076,
          3.6664044857025146,
          4.2301154136657715,
          4.420261383056641,
          5.0407490730285645,
          7.237117767333984,
          7.204018592834473
         ],
         "yaxis": "y"
        },
        {
         "hovertemplate": "cluster_hashtags=cluster9<br>tsne_1=%{x}<br>tsne_2=%{y}<br>hashtags=%{text}<extra></extra>",
         "legendgroup": "cluster9",
         "marker": {
          "color": "#FF97FF",
          "symbol": "circle"
         },
         "mode": "markers+text",
         "name": "cluster9",
         "orientation": "v",
         "showlegend": true,
         "text": [
          "netflix",
          "cnn",
          "nyt",
          "trending",
          "worldnews",
          "twitter"
         ],
         "textfont": {
          "size": 8
         },
         "textposition": "top center",
         "type": "scatter",
         "x": [
          -1.246002197265625,
          -7.976658821105957,
          -10.456158638000488,
          -0.8837617635726929,
          -8.732690811157227,
          -2.214482307434082
         ],
         "xaxis": "x",
         "y": [
          -6.6293816566467285,
          -4.844344615936279,
          -3.6374824047088623,
          -2.430310010910034,
          -5.890725612640381,
          -1.8258711099624634
         ],
         "yaxis": "y"
        },
        {
         "hovertemplate": "cluster_hashtags=cluster2<br>tsne_1=%{x}<br>tsne_2=%{y}<br>hashtags=%{text}<extra></extra>",
         "legendgroup": "cluster2",
         "marker": {
          "color": "#FECB52",
          "symbol": "circle"
         },
         "mode": "markers+text",
         "name": "cluster2",
         "orientation": "v",
         "showlegend": true,
         "text": [
          "movietok",
          "surgepricing",
          "millennials",
          "newyork"
         ],
         "textfont": {
          "size": 8
         },
         "textposition": "top center",
         "type": "scatter",
         "x": [
          5.189697265625,
          6.184266567230225,
          -0.6813268065452576,
          -10.721319198608398
         ],
         "xaxis": "x",
         "y": [
          -8.203834533691406,
          -7.350898265838623,
          -3.986416816711426,
          -0.6441994905471802
         ],
         "yaxis": "y"
        }
       ],
       "layout": {
        "height": 700,
        "legend": {
         "title": {
          "text": "cluster_hashtags"
         },
         "tracegroupgap": 0
        },
        "margin": {
         "t": 60
        },
        "template": {
         "data": {
          "bar": [
           {
            "error_x": {
             "color": "#2a3f5f"
            },
            "error_y": {
             "color": "#2a3f5f"
            },
            "marker": {
             "line": {
              "color": "#E5ECF6",
              "width": 0.5
             },
             "pattern": {
              "fillmode": "overlay",
              "size": 10,
              "solidity": 0.2
             }
            },
            "type": "bar"
           }
          ],
          "barpolar": [
           {
            "marker": {
             "line": {
              "color": "#E5ECF6",
              "width": 0.5
             },
             "pattern": {
              "fillmode": "overlay",
              "size": 10,
              "solidity": 0.2
             }
            },
            "type": "barpolar"
           }
          ],
          "carpet": [
           {
            "aaxis": {
             "endlinecolor": "#2a3f5f",
             "gridcolor": "white",
             "linecolor": "white",
             "minorgridcolor": "white",
             "startlinecolor": "#2a3f5f"
            },
            "baxis": {
             "endlinecolor": "#2a3f5f",
             "gridcolor": "white",
             "linecolor": "white",
             "minorgridcolor": "white",
             "startlinecolor": "#2a3f5f"
            },
            "type": "carpet"
           }
          ],
          "choropleth": [
           {
            "colorbar": {
             "outlinewidth": 0,
             "ticks": ""
            },
            "type": "choropleth"
           }
          ],
          "contour": [
           {
            "colorbar": {
             "outlinewidth": 0,
             "ticks": ""
            },
            "colorscale": [
             [
              0,
              "#0d0887"
             ],
             [
              0.1111111111111111,
              "#46039f"
             ],
             [
              0.2222222222222222,
              "#7201a8"
             ],
             [
              0.3333333333333333,
              "#9c179e"
             ],
             [
              0.4444444444444444,
              "#bd3786"
             ],
             [
              0.5555555555555556,
              "#d8576b"
             ],
             [
              0.6666666666666666,
              "#ed7953"
             ],
             [
              0.7777777777777778,
              "#fb9f3a"
             ],
             [
              0.8888888888888888,
              "#fdca26"
             ],
             [
              1,
              "#f0f921"
             ]
            ],
            "type": "contour"
           }
          ],
          "contourcarpet": [
           {
            "colorbar": {
             "outlinewidth": 0,
             "ticks": ""
            },
            "type": "contourcarpet"
           }
          ],
          "heatmap": [
           {
            "colorbar": {
             "outlinewidth": 0,
             "ticks": ""
            },
            "colorscale": [
             [
              0,
              "#0d0887"
             ],
             [
              0.1111111111111111,
              "#46039f"
             ],
             [
              0.2222222222222222,
              "#7201a8"
             ],
             [
              0.3333333333333333,
              "#9c179e"
             ],
             [
              0.4444444444444444,
              "#bd3786"
             ],
             [
              0.5555555555555556,
              "#d8576b"
             ],
             [
              0.6666666666666666,
              "#ed7953"
             ],
             [
              0.7777777777777778,
              "#fb9f3a"
             ],
             [
              0.8888888888888888,
              "#fdca26"
             ],
             [
              1,
              "#f0f921"
             ]
            ],
            "type": "heatmap"
           }
          ],
          "heatmapgl": [
           {
            "colorbar": {
             "outlinewidth": 0,
             "ticks": ""
            },
            "colorscale": [
             [
              0,
              "#0d0887"
             ],
             [
              0.1111111111111111,
              "#46039f"
             ],
             [
              0.2222222222222222,
              "#7201a8"
             ],
             [
              0.3333333333333333,
              "#9c179e"
             ],
             [
              0.4444444444444444,
              "#bd3786"
             ],
             [
              0.5555555555555556,
              "#d8576b"
             ],
             [
              0.6666666666666666,
              "#ed7953"
             ],
             [
              0.7777777777777778,
              "#fb9f3a"
             ],
             [
              0.8888888888888888,
              "#fdca26"
             ],
             [
              1,
              "#f0f921"
             ]
            ],
            "type": "heatmapgl"
           }
          ],
          "histogram": [
           {
            "marker": {
             "pattern": {
              "fillmode": "overlay",
              "size": 10,
              "solidity": 0.2
             }
            },
            "type": "histogram"
           }
          ],
          "histogram2d": [
           {
            "colorbar": {
             "outlinewidth": 0,
             "ticks": ""
            },
            "colorscale": [
             [
              0,
              "#0d0887"
             ],
             [
              0.1111111111111111,
              "#46039f"
             ],
             [
              0.2222222222222222,
              "#7201a8"
             ],
             [
              0.3333333333333333,
              "#9c179e"
             ],
             [
              0.4444444444444444,
              "#bd3786"
             ],
             [
              0.5555555555555556,
              "#d8576b"
             ],
             [
              0.6666666666666666,
              "#ed7953"
             ],
             [
              0.7777777777777778,
              "#fb9f3a"
             ],
             [
              0.8888888888888888,
              "#fdca26"
             ],
             [
              1,
              "#f0f921"
             ]
            ],
            "type": "histogram2d"
           }
          ],
          "histogram2dcontour": [
           {
            "colorbar": {
             "outlinewidth": 0,
             "ticks": ""
            },
            "colorscale": [
             [
              0,
              "#0d0887"
             ],
             [
              0.1111111111111111,
              "#46039f"
             ],
             [
              0.2222222222222222,
              "#7201a8"
             ],
             [
              0.3333333333333333,
              "#9c179e"
             ],
             [
              0.4444444444444444,
              "#bd3786"
             ],
             [
              0.5555555555555556,
              "#d8576b"
             ],
             [
              0.6666666666666666,
              "#ed7953"
             ],
             [
              0.7777777777777778,
              "#fb9f3a"
             ],
             [
              0.8888888888888888,
              "#fdca26"
             ],
             [
              1,
              "#f0f921"
             ]
            ],
            "type": "histogram2dcontour"
           }
          ],
          "mesh3d": [
           {
            "colorbar": {
             "outlinewidth": 0,
             "ticks": ""
            },
            "type": "mesh3d"
           }
          ],
          "parcoords": [
           {
            "line": {
             "colorbar": {
              "outlinewidth": 0,
              "ticks": ""
             }
            },
            "type": "parcoords"
           }
          ],
          "pie": [
           {
            "automargin": true,
            "type": "pie"
           }
          ],
          "scatter": [
           {
            "fillpattern": {
             "fillmode": "overlay",
             "size": 10,
             "solidity": 0.2
            },
            "type": "scatter"
           }
          ],
          "scatter3d": [
           {
            "line": {
             "colorbar": {
              "outlinewidth": 0,
              "ticks": ""
             }
            },
            "marker": {
             "colorbar": {
              "outlinewidth": 0,
              "ticks": ""
             }
            },
            "type": "scatter3d"
           }
          ],
          "scattercarpet": [
           {
            "marker": {
             "colorbar": {
              "outlinewidth": 0,
              "ticks": ""
             }
            },
            "type": "scattercarpet"
           }
          ],
          "scattergeo": [
           {
            "marker": {
             "colorbar": {
              "outlinewidth": 0,
              "ticks": ""
             }
            },
            "type": "scattergeo"
           }
          ],
          "scattergl": [
           {
            "marker": {
             "colorbar": {
              "outlinewidth": 0,
              "ticks": ""
             }
            },
            "type": "scattergl"
           }
          ],
          "scattermapbox": [
           {
            "marker": {
             "colorbar": {
              "outlinewidth": 0,
              "ticks": ""
             }
            },
            "type": "scattermapbox"
           }
          ],
          "scatterpolar": [
           {
            "marker": {
             "colorbar": {
              "outlinewidth": 0,
              "ticks": ""
             }
            },
            "type": "scatterpolar"
           }
          ],
          "scatterpolargl": [
           {
            "marker": {
             "colorbar": {
              "outlinewidth": 0,
              "ticks": ""
             }
            },
            "type": "scatterpolargl"
           }
          ],
          "scatterternary": [
           {
            "marker": {
             "colorbar": {
              "outlinewidth": 0,
              "ticks": ""
             }
            },
            "type": "scatterternary"
           }
          ],
          "surface": [
           {
            "colorbar": {
             "outlinewidth": 0,
             "ticks": ""
            },
            "colorscale": [
             [
              0,
              "#0d0887"
             ],
             [
              0.1111111111111111,
              "#46039f"
             ],
             [
              0.2222222222222222,
              "#7201a8"
             ],
             [
              0.3333333333333333,
              "#9c179e"
             ],
             [
              0.4444444444444444,
              "#bd3786"
             ],
             [
              0.5555555555555556,
              "#d8576b"
             ],
             [
              0.6666666666666666,
              "#ed7953"
             ],
             [
              0.7777777777777778,
              "#fb9f3a"
             ],
             [
              0.8888888888888888,
              "#fdca26"
             ],
             [
              1,
              "#f0f921"
             ]
            ],
            "type": "surface"
           }
          ],
          "table": [
           {
            "cells": {
             "fill": {
              "color": "#EBF0F8"
             },
             "line": {
              "color": "white"
             }
            },
            "header": {
             "fill": {
              "color": "#C8D4E3"
             },
             "line": {
              "color": "white"
             }
            },
            "type": "table"
           }
          ]
         },
         "layout": {
          "annotationdefaults": {
           "arrowcolor": "#2a3f5f",
           "arrowhead": 0,
           "arrowwidth": 1
          },
          "autotypenumbers": "strict",
          "coloraxis": {
           "colorbar": {
            "outlinewidth": 0,
            "ticks": ""
           }
          },
          "colorscale": {
           "diverging": [
            [
             0,
             "#8e0152"
            ],
            [
             0.1,
             "#c51b7d"
            ],
            [
             0.2,
             "#de77ae"
            ],
            [
             0.3,
             "#f1b6da"
            ],
            [
             0.4,
             "#fde0ef"
            ],
            [
             0.5,
             "#f7f7f7"
            ],
            [
             0.6,
             "#e6f5d0"
            ],
            [
             0.7,
             "#b8e186"
            ],
            [
             0.8,
             "#7fbc41"
            ],
            [
             0.9,
             "#4d9221"
            ],
            [
             1,
             "#276419"
            ]
           ],
           "sequential": [
            [
             0,
             "#0d0887"
            ],
            [
             0.1111111111111111,
             "#46039f"
            ],
            [
             0.2222222222222222,
             "#7201a8"
            ],
            [
             0.3333333333333333,
             "#9c179e"
            ],
            [
             0.4444444444444444,
             "#bd3786"
            ],
            [
             0.5555555555555556,
             "#d8576b"
            ],
            [
             0.6666666666666666,
             "#ed7953"
            ],
            [
             0.7777777777777778,
             "#fb9f3a"
            ],
            [
             0.8888888888888888,
             "#fdca26"
            ],
            [
             1,
             "#f0f921"
            ]
           ],
           "sequentialminus": [
            [
             0,
             "#0d0887"
            ],
            [
             0.1111111111111111,
             "#46039f"
            ],
            [
             0.2222222222222222,
             "#7201a8"
            ],
            [
             0.3333333333333333,
             "#9c179e"
            ],
            [
             0.4444444444444444,
             "#bd3786"
            ],
            [
             0.5555555555555556,
             "#d8576b"
            ],
            [
             0.6666666666666666,
             "#ed7953"
            ],
            [
             0.7777777777777778,
             "#fb9f3a"
            ],
            [
             0.8888888888888888,
             "#fdca26"
            ],
            [
             1,
             "#f0f921"
            ]
           ]
          },
          "colorway": [
           "#636efa",
           "#EF553B",
           "#00cc96",
           "#ab63fa",
           "#FFA15A",
           "#19d3f3",
           "#FF6692",
           "#B6E880",
           "#FF97FF",
           "#FECB52"
          ],
          "font": {
           "color": "#2a3f5f"
          },
          "geo": {
           "bgcolor": "white",
           "lakecolor": "white",
           "landcolor": "#E5ECF6",
           "showlakes": true,
           "showland": true,
           "subunitcolor": "white"
          },
          "hoverlabel": {
           "align": "left"
          },
          "hovermode": "closest",
          "mapbox": {
           "style": "light"
          },
          "paper_bgcolor": "white",
          "plot_bgcolor": "#E5ECF6",
          "polar": {
           "angularaxis": {
            "gridcolor": "white",
            "linecolor": "white",
            "ticks": ""
           },
           "bgcolor": "#E5ECF6",
           "radialaxis": {
            "gridcolor": "white",
            "linecolor": "white",
            "ticks": ""
           }
          },
          "scene": {
           "xaxis": {
            "backgroundcolor": "#E5ECF6",
            "gridcolor": "white",
            "gridwidth": 2,
            "linecolor": "white",
            "showbackground": true,
            "ticks": "",
            "zerolinecolor": "white"
           },
           "yaxis": {
            "backgroundcolor": "#E5ECF6",
            "gridcolor": "white",
            "gridwidth": 2,
            "linecolor": "white",
            "showbackground": true,
            "ticks": "",
            "zerolinecolor": "white"
           },
           "zaxis": {
            "backgroundcolor": "#E5ECF6",
            "gridcolor": "white",
            "gridwidth": 2,
            "linecolor": "white",
            "showbackground": true,
            "ticks": "",
            "zerolinecolor": "white"
           }
          },
          "shapedefaults": {
           "line": {
            "color": "#2a3f5f"
           }
          },
          "ternary": {
           "aaxis": {
            "gridcolor": "white",
            "linecolor": "white",
            "ticks": ""
           },
           "baxis": {
            "gridcolor": "white",
            "linecolor": "white",
            "ticks": ""
           },
           "bgcolor": "#E5ECF6",
           "caxis": {
            "gridcolor": "white",
            "linecolor": "white",
            "ticks": ""
           }
          },
          "title": {
           "x": 0.05
          },
          "xaxis": {
           "automargin": true,
           "gridcolor": "white",
           "linecolor": "white",
           "ticks": "",
           "title": {
            "standoff": 15
           },
           "zerolinecolor": "white",
           "zerolinewidth": 2
          },
          "yaxis": {
           "automargin": true,
           "gridcolor": "white",
           "linecolor": "white",
           "ticks": "",
           "title": {
            "standoff": 15
           },
           "zerolinecolor": "white",
           "zerolinewidth": 2
          }
         }
        },
        "title": {
         "text": "User 69117: Embeddings of TikTok News Hashtags"
        },
        "width": 1100,
        "xaxis": {
         "anchor": "y",
         "domain": [
          0,
          1
         ],
         "title": {
          "text": "tsne_1"
         }
        },
        "yaxis": {
         "anchor": "x",
         "domain": [
          0,
          1
         ],
         "title": {
          "text": "tsne_2"
         }
        }
       }
      }
     },
     "metadata": {},
     "output_type": "display_data"
    }
   ],
   "source": [
    "visualize_tsne(\"69117\", \"hashtags\", 10, 2)"
   ]
  },
  {
   "cell_type": "code",
   "execution_count": 103,
   "metadata": {},
   "outputs": [
    {
     "data": {
      "application/vnd.plotly.v1+json": {
       "config": {
        "plotlyServerURL": "https://plot.ly"
       },
       "data": [
        {
         "hovertemplate": "cluster_hashtags=cluster4<br>tsne_1=%{x}<br>tsne_2=%{y}<br>hashtags=%{text}<extra></extra>",
         "legendgroup": "cluster4",
         "marker": {
          "color": "#636efa",
          "symbol": "circle"
         },
         "mode": "markers+text",
         "name": "cluster4",
         "orientation": "v",
         "showlegend": true,
         "text": [
          "giannisantetokounmpo",
          "kansascitychiefs",
          "lukadoncic",
          "michaelpenixjr",
          "dallascowboys",
          "worldnewstonight",
          "truecrime",
          "basketballchallenge",
          "buffalobills",
          "deionsanders",
          "lasvegas",
          "dakprescott",
          "cruiselife",
          "houstontexans",
          "todayshow",
          "grouptravel",
          "criticschoiceawards",
          "torontoraptors",
          "saltburn",
          "tua",
          "allinclusiveresort",
          "explorepage",
          "buzzerbeater",
          "shannonsharpe",
          "xybca",
          "bookyourtravelwithme",
          "billsmafia",
          "swiftie",
          "joeburrow",
          "miamidolphins",
          "lamarjackson",
          "travelingwiththefinneysllc",
          "philadelphiaeagles",
          "familyvacation",
          "michaeljordan",
          "victorwembanyama",
          "dogsoftiktok",
          "donaldtrump",
          "footballvideo",
          "jordanlove",
          "footballedit",
          "davidmuir",
          "brockpurdy",
          "nfltiktok",
          "probowlgames",
          "nbafinals",
          "fypp",
          "adventuretravel",
          "travellifestyle",
          "nflplayoffs",
          "goldenglobes",
          "detroitpistons",
          "billbelichick",
          "universityofmichigan",
          "australianopen",
          "trendingreels",
          "newengland",
          "governorsawards",
          "matthewstafford",
          "jasonkelce",
          "espnplus",
          "goldenglobes.",
          "footballtok",
          "beachvibes",
          "nbachampion"
         ],
         "textfont": {
          "size": 8
         },
         "textposition": "top center",
         "type": "scatter",
         "x": [
          -13.974190711975098,
          -12.9657564163208,
          1.8929895162582397,
          -7.596045017242432,
          -10.705855369567871,
          -12.547870635986328,
          0.32495400309562683,
          -9.831875801086426,
          -17.223684310913086,
          0.7247089147567749,
          -1.272415041923523,
          -0.7355433106422424,
          -14.51329517364502,
          -13.932095527648926,
          4.584115982055664,
          -13.407392501831055,
          -10.086353302001953,
          -17.278728485107422,
          -14.78588581085205,
          9.701027870178223,
          6.302425384521484,
          -8.893575668334961,
          -13.110756874084473,
          -12.094043731689453,
          6.041439056396484,
          -13.854616165161133,
          -19.14790153503418,
          -8.230527877807617,
          2.723569869995117,
          -11.94682502746582,
          -7.734846115112305,
          -16.041650772094727,
          -1.7242001295089722,
          3.1291182041168213,
          -11.346671104431152,
          -1.8836851119995117,
          -10.900774002075195,
          -10.760988235473633,
          1.151153564453125,
          -15.189401626586914,
          -14.024622917175293,
          -13.096954345703125,
          -18.183935165405273,
          -6.754817008972168,
          -10.385701179504395,
          2.1576974391937256,
          3.247288703918457,
          -2.141902208328247,
          -13.284966468811035,
          -15.543368339538574,
          0.7911545038223267,
          -16.095687866210938,
          -20.029111862182617,
          -1.1605854034423828,
          -5.8018999099731445,
          -14.940871238708496,
          -11.4988431930542,
          -2.0295886993408203,
          -7.779146194458008,
          4.51638650894165,
          0.04002328962087631,
          0.7911545038223267,
          -18.63509750366211,
          -8.793097496032715,
          -14.964374542236328
         ],
         "xaxis": "x",
         "y": [
          -2.9412431716918945,
          1.1104635000228882,
          5.448936462402344,
          17.83452606201172,
          1.127471923828125,
          -0.2719915509223938,
          3.4863786697387695,
          -1.205798864364624,
          3.0206892490386963,
          1.8852312564849854,
          -3.313771963119507,
          1.517652988433838,
          0.04684406891465187,
          13.036919593811035,
          15.807326316833496,
          -1.2718803882598877,
          1.2882176637649536,
          0.6100496053695679,
          -3.3988819122314453,
          15.668196678161621,
          2.6278390884399414,
          9.85531234741211,
          7.968297004699707,
          -3.942502021789551,
          13.84984302520752,
          8.35124683380127,
          -1.5288195610046387,
          12.554832458496094,
          2.799495220184326,
          8.322060585021973,
          17.618165969848633,
          -1.2202178239822388,
          10.87123966217041,
          6.311341285705566,
          2.6150877475738525,
          17.32708168029785,
          10.970137596130371,
          3.6828114986419678,
          -0.6911427974700928,
          4.48726224899292,
          -1.0321561098098755,
          1.3938127756118774,
          6.587428092956543,
          4.716019630432129,
          9.717303276062012,
          4.032263278961182,
          -0.6299974918365479,
          7.335695743560791,
          3.475917100906372,
          6.764901161193848,
          22.0745792388916,
          8.3828763961792,
          3.1465399265289307,
          7.634638786315918,
          15.931181907653809,
          0.9340463876724243,
          -0.05536304786801338,
          11.832592964172363,
          12.004443168640137,
          15.77842903137207,
          17.564985275268555,
          22.0745792388916,
          -0.6364977359771729,
          14.2509183883667,
          13.220988273620605
         ],
         "yaxis": "y"
        },
        {
         "hovertemplate": "cluster_hashtags=cluster0<br>tsne_1=%{x}<br>tsne_2=%{y}<br>hashtags=%{text}<extra></extra>",
         "legendgroup": "cluster0",
         "marker": {
          "color": "#EF553B",
          "symbol": "circle"
         },
         "mode": "markers+text",
         "name": "cluster0",
         "orientation": "v",
         "showlegend": true,
         "text": [
          "kevindurant",
          "tombrady",
          "greenbaypackers",
          "joshallen",
          "nicksaban",
          "goldenglobes2024",
          "tyreekhill",
          "doyoutravel",
          "travelworld",
          "kyliekelce",
          "islandvibes",
          "tuatagovailoa",
          "ryangosling",
          "poorthings",
          "truecrimestory",
          "viral",
          "travelphotography",
          "crimetok",
          "makemefamous",
          "travelindustry",
          "4upage",
          "surroundsound",
          "sportstiktok",
          "nbabasketball",
          "ausopen",
          "pukanacua",
          "familyfun",
          "solotravel",
          "jjmccarthy",
          "quiscapalot",
          "viralvideos",
          "christianmccaffrey",
          "baltimoreravens",
          "businesstravel",
          "gypsy",
          "nickbosa",
          "xybcafypforyou",
          "blakecorum",
          "theaguilars",
          "vacationvibes",
          "alabamafootball",
          "blowthisup",
          "justintucker",
          "awardseason",
          "jaredgoff",
          "dinnertime",
          "stephenasmith",
          "gypsyroseblanchard",
          "draymondgreen",
          "footballtiktok",
          "georgekittle",
          "filmtok",
          "fy",
          "goblue",
          "joelembiid",
          "jimharbaugh",
          "academyawards",
          "allinclusive",
          "boatcruise",
          "cfbplayoff",
          "bradleycooper",
          "crimejunkie",
          "robertdowneyjr",
          "movietok",
          "abcnews",
          "traviskelce",
          "patrickmahomes",
          "missinggirl",
          "truecrimecommunity",
          "goldenstatewarriors",
          "travelblogging",
          "christophernolan",
          "travelagent",
          "fypage",
          "detroitlions",
          "justinbieber",
          "jalenhurts",
          "truecrimeanytime",
          "nfldraft",
          "offscript",
          "jacobelordi",
          "bronny",
          "jairealexander",
          "truecrimetiktoks",
          "jaysontatum",
          "scarytok",
          "wonderfulplaces",
          "nflmemes",
          "margotrobbie",
          "swimmingpool"
         ],
         "textfont": {
          "size": 8
         },
         "textposition": "top center",
         "type": "scatter",
         "x": [
          1.646546721458435,
          -0.19395464658737183,
          6.725129127502441,
          -1.1347428560256958,
          -4.637762069702148,
          -3.353529214859009,
          2.567058801651001,
          -3.759735107421875,
          -5.0908379554748535,
          5.33568811416626,
          -1.9356335401535034,
          3.446643114089966,
          4.326533794403076,
          -3.7731773853302,
          15.169204711914062,
          5.582973957061768,
          -6.3522562980651855,
          0.8907834887504578,
          -2.8672571182250977,
          -1.3775382041931152,
          -3.1281752586364746,
          1.4266574382781982,
          -5.5431742668151855,
          -8.067768096923828,
          3.015002727508545,
          -0.233023539185524,
          2.2841479778289795,
          -2.3707008361816406,
          0.5896037817001343,
          -4.477631092071533,
          -6.026189804077148,
          -3.8557851314544678,
          -0.8721798658370972,
          -3.416598320007324,
          3.451794147491455,
          -3.258620023727417,
          1.5019035339355469,
          4.531652927398682,
          -1.7383629083633423,
          8.856748580932617,
          1.604338526725769,
          3.5194363594055176,
          -1.304947018623352,
          2.588207960128784,
          -4.842046737670898,
          7.035157680511475,
          -5.577648639678955,
          0.952372670173645,
          -4.536557674407959,
          -1.9165709018707275,
          -3.915109872817993,
          2.028258800506592,
          -12.909367561340332,
          0.8087836503982544,
          -0.2536950707435608,
          4.077617645263672,
          5.035533905029297,
          6.99765157699585,
          0.18929913640022278,
          -5.1010966300964355,
          -2.149202823638916,
          2.101667642593384,
          0.7377961874008179,
          -18.674007415771484,
          -1.2192434072494507,
          -1.2692227363586426,
          4.311501502990723,
          -5.9323248863220215,
          0.0945386290550232,
          -0.43861421942710876,
          -2.692814350128174,
          5.566771507263184,
          -3.4414291381835938,
          -3.1899192333221436,
          -7.6349358558654785,
          -5.76416015625,
          0.5153684616088867,
          7.536700248718262,
          -1.6170917749404907,
          4.656965255737305,
          -3.655731201171875,
          -5.751293659210205,
          1.939422369003296,
          -3.131810188293457,
          0.3589586019515991,
          5.086719512939453,
          0.2351810485124588,
          8.31855297088623,
          -6.577474117279053,
          2.546424627304077
         ],
         "xaxis": "x",
         "y": [
          6.800329208374023,
          9.798235893249512,
          3.9013471603393555,
          3.535439968109131,
          8.078123092651367,
          13.2116117477417,
          17.95330810546875,
          10.652137756347656,
          12.37575912475586,
          5.593714714050293,
          12.773399353027344,
          4.902985572814941,
          2.3694393634796143,
          12.976031303405762,
          -0.6475282907485962,
          8.038277626037598,
          0.8814852833747864,
          15.156416893005371,
          5.975922584533691,
          4.425036430358887,
          4.126787185668945,
          14.972823143005371,
          14.98843765258789,
          15.47672176361084,
          12.385077476501465,
          4.6075849533081055,
          10.776440620422363,
          3.607029914855957,
          11.017633438110352,
          9.862871170043945,
          8.796708106994629,
          3.999117612838745,
          6.475696086883545,
          15.492411613464355,
          13.425261497497559,
          6.985902786254883,
          6.345980644226074,
          7.80308723449707,
          9.282227516174316,
          7.845562934875488,
          9.498185157775879,
          8.922507286071777,
          2.494755744934082,
          7.483526706695557,
          6.820356845855713,
          -1.0291638374328613,
          14.258877754211426,
          15.751944541931152,
          17.680908203125,
          14.088732719421387,
          3.1471052169799805,
          0.9816444516181946,
          10.562019348144531,
          9.548199653625488,
          13.76655387878418,
          10.756068229675293,
          -0.8223087787628174,
          6.258315563201904,
          -0.46565961837768555,
          4.8997392654418945,
          4.654293060302734,
          8.062155723571777,
          4.742672920227051,
          6.997527599334717,
          5.899475574493408,
          15.395920753479004,
          5.9804606437683105,
          9.66950511932373,
          0.5995076894760132,
          -5.780832290649414,
          8.807374000549316,
          9.717687606811523,
          8.411840438842773,
          10.675832748413086,
          10.179409980773926,
          5.6058735847473145,
          12.315239906311035,
          10.093954086303711,
          -1.2065564393997192,
          1.0821573734283447,
          6.3713250160217285,
          11.354475021362305,
          12.360973358154297,
          19.68723487854004,
          6.479184150695801,
          12.141264915466309,
          7.972402095794678,
          12.37800407409668,
          13.770791053771973,
          -2.558242082595825
         ],
         "yaxis": "y"
        },
        {
         "hovertemplate": "cluster_hashtags=cluster6<br>tsne_1=%{x}<br>tsne_2=%{y}<br>hashtags=%{text}<extra></extra>",
         "legendgroup": "cluster6",
         "marker": {
          "color": "#00cc96",
          "symbol": "circle"
         },
         "mode": "markers+text",
         "name": "cluster6",
         "orientation": "v",
         "showlegend": true,
         "text": [
          "jokic",
          "kd",
          "packers",
          "49ers",
          "lions",
          "bills",
          "mahomes",
          "courtside",
          "greenbay",
          "kat",
          "spurs",
          "colts",
          "kelce",
          "lebron",
          "dolphins",
          "buffalo",
          "bucks",
          "steelers",
          "seahawks",
          "clippers",
          "raptors",
          "saints",
          "knicks",
          "suns",
          "texans",
          "saban",
          "nets",
          "giannis",
          "patriots",
          "lakers",
          "ravens",
          "cowboys",
          "nuggets",
          "pistons",
          "timberwolves",
          "celtics",
          "warriors",
          "chargers",
          "niners",
          "harbaugh",
          "chiefs",
          "rams",
          "eagles",
          "probowl"
         ],
         "textfont": {
          "size": 8
         },
         "textposition": "top center",
         "type": "scatter",
         "x": [
          -4.394904613494873,
          1.794815182685852,
          5.1359686851501465,
          2.847475051879883,
          2.3296499252319336,
          -0.06088872253894806,
          4.721573352813721,
          0.4526313543319702,
          5.453227996826172,
          -5.2448506355285645,
          0.7386300563812256,
          5.271247863769531,
          0.047586433589458466,
          1.8659874200820923,
          2.6780753135681152,
          0.35257306694984436,
          -0.4549603760242462,
          4.70132303237915,
          4.00751256942749,
          0.2496722936630249,
          -1.5063859224319458,
          3.1298530101776123,
          -0.8853002190589905,
          -2.4811151027679443,
          5.839181900024414,
          10.097221374511719,
          -1.7112222909927368,
          -4.301692485809326,
          3.9788339138031006,
          -0.4099952280521393,
          3.6060802936553955,
          4.334657669067383,
          -3.554306745529175,
          -1.8557153940200806,
          -3.6532909870147705,
          -0.4430786669254303,
          1.1601898670196533,
          1.5159920454025269,
          2.9357476234436035,
          2.947350263595581,
          1.018477439880371,
          2.0605995655059814,
          3.1674981117248535,
          7.166240692138672
         ],
         "xaxis": "x",
         "y": [
          -17.00314712524414,
          -17.48947525024414,
          -23.306371688842773,
          -22.806581497192383,
          -26.551897048950195,
          -26.744783401489258,
          -19.54767608642578,
          -16.270336151123047,
          -22.930978775024414,
          -18.186655044555664,
          -19.67881965637207,
          -25.059974670410156,
          -23.52877426147461,
          -16.85476303100586,
          -27.580280303955078,
          -26.782257080078125,
          -16.51242446899414,
          -24.513431549072266,
          -22.973825454711914,
          -20.287208557128906,
          -19.748586654663086,
          -24.001447677612305,
          -18.055559158325195,
          -19.084224700927734,
          -26.171527862548828,
          -24.327407836914062,
          -18.101552963256836,
          -16.807456970214844,
          -25.068086624145508,
          -18.91301155090332,
          -27.17562484741211,
          -25.99740982055664,
          -18.935087203979492,
          -20.918903350830078,
          -18.344161987304688,
          -18.84620475769043,
          -18.88170051574707,
          -24.314350128173828,
          -22.811569213867188,
          -21.732566833496094,
          -23.767898559570312,
          -24.655282974243164,
          -25.70092010498047,
          -21.435758590698242
         ],
         "yaxis": "y"
        },
        {
         "hovertemplate": "cluster_hashtags=cluster2<br>tsne_1=%{x}<br>tsne_2=%{y}<br>hashtags=%{text}<extra></extra>",
         "legendgroup": "cluster2",
         "marker": {
          "color": "#ab63fa",
          "symbol": "circle"
         },
         "mode": "markers+text",
         "name": "cluster2",
         "orientation": "v",
         "showlegend": true,
         "text": [
          "bama",
          "2023",
          "baltimore",
          "nyc",
          "usa",
          "newyork",
          "sec",
          "brooklyn",
          "tennessee",
          "2024",
          "houston",
          "sanfrancisco",
          "michigan",
          "alabama",
          "georgia",
          "detroit",
          "washington",
          "lsu",
          "usc",
          "uofm",
          "umich",
          "philadelphia",
          "philly"
         ],
         "textfont": {
          "size": 8
         },
         "textposition": "top center",
         "type": "scatter",
         "x": [
          10.63988971710205,
          -13.907747268676758,
          5.880925178527832,
          7.463580131530762,
          8.714437484741211,
          7.421806335449219,
          11.955347061157227,
          7.054057598114014,
          9.659712791442871,
          -13.910439491271973,
          6.433201789855957,
          -0.03181752562522888,
          7.800113677978516,
          10.193713188171387,
          10.345544815063477,
          6.8208208084106445,
          8.636467933654785,
          11.097620964050293,
          11.27655029296875,
          -3.9999630451202393,
          -4.0311713218688965,
          4.981749534606934,
          4.863739490509033
         ],
         "xaxis": "x",
         "y": [
          -24.947744369506836,
          -7.665154457092285,
          -28.344026565551758,
          -31.16007423400879,
          -29.811748504638672,
          -31.27489471435547,
          -25.01400375366211,
          -31.834735870361328,
          -26.74280548095703,
          -7.67195987701416,
          -26.643478393554688,
          -3.2318601608276367,
          -28.58366584777832,
          -25.923736572265625,
          -26.732927322387695,
          -28.591609954833984,
          -27.575258255004883,
          -24.099143981933594,
          -22.912799835205078,
          -12.420183181762695,
          -12.39254379272461,
          -29.487010955810547,
          -29.4289493560791
         ],
         "yaxis": "y"
        },
        {
         "hovertemplate": "cluster_hashtags=cluster3<br>tsne_1=%{x}<br>tsne_2=%{y}<br>hashtags=%{text}<extra></extra>",
         "legendgroup": "cluster3",
         "marker": {
          "color": "#FFA15A",
          "symbol": "circle"
         },
         "mode": "markers+text",
         "name": "cluster3",
         "orientation": "v",
         "showlegend": true,
         "text": [
          "netflix",
          "traveling",
          "airlines",
          "cruising",
          "documentary",
          "comedy",
          "edit",
          "sing",
          "politics",
          "airport",
          "hiphop",
          "stitch",
          "history",
          "investigate",
          "cnn",
          "parents",
          "trending",
          "rnb",
          "fashion",
          "barbie",
          "emmys",
          "trend",
          "murder",
          "oscars",
          "documentaries",
          "mixtape",
          "highlights",
          "police",
          "dog",
          "podcast",
          "ocean",
          "dance",
          "sundance",
          "eminem",
          "greenscreen",
          "investigation",
          "movies",
          "explore",
          "interview",
          "coach",
          "film",
          "cbb",
          "movie",
          "celebrity",
          "photography",
          "crime",
          "music"
         ],
         "textfont": {
          "size": 8
         },
         "textposition": "top center",
         "type": "scatter",
         "x": [
          15.027535438537598,
          6.012714862823486,
          14.84050464630127,
          6.49871826171875,
          18.227371215820312,
          12.980392456054688,
          10.764531135559082,
          10.370640754699707,
          17.92643165588379,
          14.83723258972168,
          12.989157676696777,
          -5.055469512939453,
          17.14961051940918,
          14.178359031677246,
          11.526315689086914,
          9.73098087310791,
          19.01749038696289,
          12.884542465209961,
          18.478723526000977,
          -2.3277082443237305,
          15.132497787475586,
          18.92879295349121,
          19.163955688476562,
          15.043604850769043,
          17.947450637817383,
          11.963472366333008,
          8.460243225097656,
          18.31879425048828,
          7.795921802520752,
          19.394298553466797,
          2.608342170715332,
          10.554774284362793,
          15.926557540893555,
          14.02154541015625,
          -1.0049962997436523,
          14.139263153076172,
          14.283170700073242,
          5.839667320251465,
          19.237638473510742,
          4.32781457901001,
          13.645172119140625,
          12.1428861618042,
          13.94526481628418,
          11.486663818359375,
          11.278971672058105,
          19.05135726928711,
          12.458223342895508
         ],
         "xaxis": "x",
         "y": [
          -11.735450744628906,
          -5.5064520835876465,
          11.742682456970215,
          -5.745275974273682,
          -9.351553916931152,
          -5.122785568237305,
          9.709014892578125,
          -8.565436363220215,
          -4.837331771850586,
          11.75485897064209,
          -8.218523979187012,
          -2.139691114425659,
          -5.578562259674072,
          6.756873607635498,
          -16.76894187927246,
          -4.272909641265869,
          2.6855967044830322,
          -7.660680770874023,
          1.5120660066604614,
          -8.727322578430176,
          -15.492044448852539,
          2.4877514839172363,
          -2.8820066452026367,
          -15.45335865020752,
          -9.434110641479492,
          -9.126340866088867,
          3.8757317066192627,
          -4.264583587646484,
          -1.7726823091506958,
          -9.437675476074219,
          -3.7543156147003174,
          -8.732815742492676,
          -16.103328704833984,
          -8.272804260253906,
          -6.259810924530029,
          6.773265361785889,
          -11.197056770324707,
          -3.1340203285217285,
          -8.650288581848145,
          -12.648825645446777,
          -11.109807014465332,
          -13.802252769470215,
          -11.104514122009277,
          -13.581687927246094,
          -10.581300735473633,
          -3.0624921321868896,
          -9.527167320251465
         ],
         "yaxis": "y"
        },
        {
         "hovertemplate": "cluster_hashtags=cluster1<br>tsne_1=%{x}<br>tsne_2=%{y}<br>hashtags=%{text}<extra></extra>",
         "legendgroup": "cluster1",
         "marker": {
          "color": "#19d3f3",
          "symbol": "circle"
         },
         "mode": "markers+text",
         "name": "cluster1",
         "orientation": "v",
         "showlegend": true,
         "text": [
          "kobebryant",
          "truecrimetiktok",
          "nationalchampionship",
          "collegebasketball",
          "doitforthebay",
          "adventuretime",
          "virall",
          "trendingvideo",
          "oppenheimer",
          "traveladvisor",
          "islandlife",
          "andrewscott",
          "vacationmode",
          "f",
          "michiganfootball",
          "travelmore",
          "emmastone",
          "patmcafee",
          "isiahpacheco",
          "cjstroud",
          "wemby",
          "kieranculkin",
          "nbaplayoffs",
          "luxurytravel",
          "missingmom",
          "beachlife",
          "hodaandjenna",
          "dreambig",
          "rolltide",
          "lebronjames",
          "nikolajokic",
          "kansascity",
          "sanfrancisco49ers",
          "lovetotravel",
          "firsttake",
          "latestnews",
          "ceilingchallenge",
          "johnharbaugh",
          "losangeles",
          "murdermystery",
          "truecrimetok",
          "nygiants",
          "d1athlete",
          "charlottehornets",
          "jamorant",
          "hotelsandresorts",
          "nflfootball",
          "thrroundtable",
          "stephcurry",
          "learnontiktok",
          "ballislife",
          "michiganwolverines",
          "karlanthonytowns",
          "collegefootball",
          "micdup",
          "fttb",
          "taylorswift"
         ],
         "textfont": {
          "size": 8
         },
         "textposition": "top center",
         "type": "scatter",
         "x": [
          -7.282845497131348,
          -0.18297643959522247,
          -7.9053425788879395,
          -10.127854347229004,
          -8.455923080444336,
          -7.13501501083374,
          -3.2790043354034424,
          -15.565167427062988,
          -15.96349048614502,
          -5.464595794677734,
          -9.103296279907227,
          -6.827169418334961,
          -9.701287269592285,
          -4.903879642486572,
          -8.28703498840332,
          -8.820663452148438,
          -5.846806526184082,
          -6.396989822387695,
          -7.906454563140869,
          -3.6062307357788086,
          -6.5115532875061035,
          -11.1635160446167,
          -4.18381929397583,
          -9.273399353027344,
          -10.879379272460938,
          -8.773269653320312,
          -9.245888710021973,
          -7.199790000915527,
          -2.7925562858581543,
          -9.776479721069336,
          -15.715235710144043,
          -2.2269318103790283,
          -12.591644287109375,
          -9.11635971069336,
          -10.952510833740234,
          -7.5634002685546875,
          -12.125024795532227,
          -10.977822303771973,
          -0.18762704730033875,
          -7.085625171661377,
          -9.707594871520996,
          -4.0915679931640625,
          -16.08854866027832,
          -12.590924263000488,
          7.988514423370361,
          -6.3169355392456055,
          -13.307348251342773,
          -18.08915138244629,
          -11.652569770812988,
          -14.053157806396484,
          -4.021335601806641,
          -2.786522150039673,
          -10.083515167236328,
          -12.622932434082031,
          -8.347497940063477,
          -5.245344161987305,
          -15.905170440673828
         ],
         "xaxis": "x",
         "y": [
          0.09027732163667679,
          12.058527946472168,
          8.629701614379883,
          4.876546859741211,
          4.879495143890381,
          -4.0395121574401855,
          -2.6407630443573,
          2.9235928058624268,
          10.743083000183105,
          -0.7799456119537354,
          1.129692554473877,
          7.45730447769165,
          3.9315450191497803,
          -5.094593524932861,
          3.391069173812866,
          7.302752494812012,
          10.891079902648926,
          3.3846282958984375,
          6.240865707397461,
          0.03419621288776398,
          -3.6907341480255127,
          13.77220630645752,
          2.3617382049560547,
          6.067963600158691,
          6.332368850708008,
          6.539634704589844,
          2.919217824935913,
          6.289750576019287,
          -0.5338778495788574,
          11.962471961975098,
          1.3109427690505981,
          0.989527702331543,
          16.917682647705078,
          -0.20661981403827667,
          7.548560619354248,
          2.7266032695770264,
          13.46904182434082,
          -2.913425922393799,
          -2.685767412185669,
          -1.434363842010498,
          8.798758506774902,
          0.3909173011779785,
          2.3117334842681885,
          16.922452926635742,
          8.094799995422363,
          8.549467086791992,
          3.2311809062957764,
          3.3593130111694336,
          4.498719215393066,
          5.737131595611572,
          5.616124153137207,
          2.31152081489563,
          8.157621383666992,
          5.711144924163818,
          1.1462407112121582,
          2.5644516944885254,
          4.460718631744385
         ],
         "yaxis": "y"
        },
        {
         "hovertemplate": "cluster_hashtags=cluster5<br>tsne_1=%{x}<br>tsne_2=%{y}<br>hashtags=%{text}<extra></extra>",
         "legendgroup": "cluster5",
         "marker": {
          "color": "#FF6692",
          "symbol": "circle"
         },
         "mode": "markers+text",
         "name": "cluster5",
         "orientation": "v",
         "showlegend": true,
         "text": [
          "snow",
          "goat",
          "vacation",
          "amazing",
          "cold",
          "family",
          "unreal",
          "weather",
          "memes",
          "breaking:",
          "creepy",
          "wholesome",
          "dad",
          "insane",
          "money",
          "complex",
          "new",
          "getaways",
          "storytime",
          "missing",
          "class",
          "beautiful",
          "funny",
          "love",
          "scary",
          "sad",
          "ball"
         ],
         "textfont": {
          "size": 8
         },
         "textposition": "top center",
         "type": "scatter",
         "x": [
          3.850771427154541,
          9.42000675201416,
          5.689026355743408,
          12.098834991455078,
          3.6651666164398193,
          9.587794303894043,
          11.393189430236816,
          4.5232253074646,
          12.822059631347656,
          10.95019817352295,
          14.026793479919434,
          12.356941223144531,
          9.947732925415039,
          11.035907745361328,
          14.622949600219727,
          10.410774230957031,
          15.300835609436035,
          5.335855484008789,
          11.694023132324219,
          12.490325927734375,
          15.219876289367676,
          12.332645416259766,
          13.306121826171875,
          14.296897888183594,
          13.894247055053711,
          12.820752143859863,
          4.93337345123291
         ],
         "xaxis": "x",
         "y": [
          -8.637561798095703,
          -0.4245850145816803,
          -5.260706424713135,
          -0.19789808988571167,
          -7.615440368652344,
          -4.4560112953186035,
          0.38359740376472473,
          -7.910187244415283,
          -3.11855411529541,
          4.493031978607178,
          1.874371886253357,
          -1.6477906703948975,
          -3.686927080154419,
          0.7700992226600647,
          -1.9580892324447632,
          1.4850071668624878,
          -4.468376159667969,
          -4.704543113708496,
          7.450503826141357,
          3.6392295360565186,
          -4.483015060424805,
          -0.46060115098953247,
          0.6149765253067017,
          -1.2410563230514526,
          1.872862696647644,
          2.452216625213623,
          -14.800448417663574
         ],
         "yaxis": "y"
        },
        {
         "hovertemplate": "cluster_hashtags=cluster7<br>tsne_1=%{x}<br>tsne_2=%{y}<br>hashtags=%{text}<extra></extra>",
         "legendgroup": "cluster7",
         "marker": {
          "color": "#B6E880",
          "symbol": "circle"
         },
         "mode": "markers+text",
         "name": "cluster7",
         "orientation": "v",
         "showlegend": true,
         "text": [
          "winter",
          "athlete",
          "autumn",
          "lacrosse",
          "quarterback",
          "wrestling",
          "fall",
          "sports",
          "cfb",
          "tennis",
          "baseball",
          "nhl",
          "cfp",
          "olympics",
          "basketball",
          "nfl",
          "football",
          "superbowl",
          "playoffs",
          "ncaa",
          "d1",
          "hockey",
          "nba",
          "college",
          "hoops",
          "allstar",
          "espn",
          "mlb",
          "wwe"
         ],
         "textfont": {
          "size": 8
         },
         "textposition": "top center",
         "type": "scatter",
         "x": [
          3.609710693359375,
          7.613847255706787,
          1.7150098085403442,
          8.056886672973633,
          5.361631393432617,
          9.167923927307129,
          1.707820177078247,
          7.569468021392822,
          11.41694164276123,
          6.550477981567383,
          6.8409905433654785,
          8.289446830749512,
          11.780020713806152,
          7.605230331420898,
          5.471369743347168,
          7.277573108673096,
          6.467780113220215,
          6.671120643615723,
          7.72587776184082,
          9.441723823547363,
          4.254878997802734,
          7.663459777832031,
          4.065568923950195,
          10.25411319732666,
          3.2430624961853027,
          8.447026252746582,
          10.591629028320312,
          7.735058784484863,
          9.615354537963867
         ],
         "xaxis": "x",
         "y": [
          -8.46902084350586,
          -13.487202644348145,
          -9.185127258300781,
          -15.817218780517578,
          -18.662866592407227,
          -14.310626983642578,
          -9.178318977355957,
          -14.462181091308594,
          -21.84279441833496,
          -15.01651668548584,
          -16.454578399658203,
          -17.85265350341797,
          -21.62757110595703,
          -12.986153602600098,
          -15.945107460021973,
          -18.247600555419922,
          -17.077800750732422,
          -19.624752044677734,
          -19.273447036743164,
          -18.724170684814453,
          4.156108856201172,
          -16.354995727539062,
          -16.874906539916992,
          -18.89958953857422,
          -15.0593900680542,
          -20.757722854614258,
          -17.029264450073242,
          -17.602876663208008,
          -14.344523429870605
         ],
         "yaxis": "y"
        }
       ],
       "layout": {
        "height": 700,
        "legend": {
         "title": {
          "text": "cluster_hashtags"
         },
         "tracegroupgap": 0
        },
        "margin": {
         "t": 60
        },
        "template": {
         "data": {
          "bar": [
           {
            "error_x": {
             "color": "#2a3f5f"
            },
            "error_y": {
             "color": "#2a3f5f"
            },
            "marker": {
             "line": {
              "color": "#E5ECF6",
              "width": 0.5
             },
             "pattern": {
              "fillmode": "overlay",
              "size": 10,
              "solidity": 0.2
             }
            },
            "type": "bar"
           }
          ],
          "barpolar": [
           {
            "marker": {
             "line": {
              "color": "#E5ECF6",
              "width": 0.5
             },
             "pattern": {
              "fillmode": "overlay",
              "size": 10,
              "solidity": 0.2
             }
            },
            "type": "barpolar"
           }
          ],
          "carpet": [
           {
            "aaxis": {
             "endlinecolor": "#2a3f5f",
             "gridcolor": "white",
             "linecolor": "white",
             "minorgridcolor": "white",
             "startlinecolor": "#2a3f5f"
            },
            "baxis": {
             "endlinecolor": "#2a3f5f",
             "gridcolor": "white",
             "linecolor": "white",
             "minorgridcolor": "white",
             "startlinecolor": "#2a3f5f"
            },
            "type": "carpet"
           }
          ],
          "choropleth": [
           {
            "colorbar": {
             "outlinewidth": 0,
             "ticks": ""
            },
            "type": "choropleth"
           }
          ],
          "contour": [
           {
            "colorbar": {
             "outlinewidth": 0,
             "ticks": ""
            },
            "colorscale": [
             [
              0,
              "#0d0887"
             ],
             [
              0.1111111111111111,
              "#46039f"
             ],
             [
              0.2222222222222222,
              "#7201a8"
             ],
             [
              0.3333333333333333,
              "#9c179e"
             ],
             [
              0.4444444444444444,
              "#bd3786"
             ],
             [
              0.5555555555555556,
              "#d8576b"
             ],
             [
              0.6666666666666666,
              "#ed7953"
             ],
             [
              0.7777777777777778,
              "#fb9f3a"
             ],
             [
              0.8888888888888888,
              "#fdca26"
             ],
             [
              1,
              "#f0f921"
             ]
            ],
            "type": "contour"
           }
          ],
          "contourcarpet": [
           {
            "colorbar": {
             "outlinewidth": 0,
             "ticks": ""
            },
            "type": "contourcarpet"
           }
          ],
          "heatmap": [
           {
            "colorbar": {
             "outlinewidth": 0,
             "ticks": ""
            },
            "colorscale": [
             [
              0,
              "#0d0887"
             ],
             [
              0.1111111111111111,
              "#46039f"
             ],
             [
              0.2222222222222222,
              "#7201a8"
             ],
             [
              0.3333333333333333,
              "#9c179e"
             ],
             [
              0.4444444444444444,
              "#bd3786"
             ],
             [
              0.5555555555555556,
              "#d8576b"
             ],
             [
              0.6666666666666666,
              "#ed7953"
             ],
             [
              0.7777777777777778,
              "#fb9f3a"
             ],
             [
              0.8888888888888888,
              "#fdca26"
             ],
             [
              1,
              "#f0f921"
             ]
            ],
            "type": "heatmap"
           }
          ],
          "heatmapgl": [
           {
            "colorbar": {
             "outlinewidth": 0,
             "ticks": ""
            },
            "colorscale": [
             [
              0,
              "#0d0887"
             ],
             [
              0.1111111111111111,
              "#46039f"
             ],
             [
              0.2222222222222222,
              "#7201a8"
             ],
             [
              0.3333333333333333,
              "#9c179e"
             ],
             [
              0.4444444444444444,
              "#bd3786"
             ],
             [
              0.5555555555555556,
              "#d8576b"
             ],
             [
              0.6666666666666666,
              "#ed7953"
             ],
             [
              0.7777777777777778,
              "#fb9f3a"
             ],
             [
              0.8888888888888888,
              "#fdca26"
             ],
             [
              1,
              "#f0f921"
             ]
            ],
            "type": "heatmapgl"
           }
          ],
          "histogram": [
           {
            "marker": {
             "pattern": {
              "fillmode": "overlay",
              "size": 10,
              "solidity": 0.2
             }
            },
            "type": "histogram"
           }
          ],
          "histogram2d": [
           {
            "colorbar": {
             "outlinewidth": 0,
             "ticks": ""
            },
            "colorscale": [
             [
              0,
              "#0d0887"
             ],
             [
              0.1111111111111111,
              "#46039f"
             ],
             [
              0.2222222222222222,
              "#7201a8"
             ],
             [
              0.3333333333333333,
              "#9c179e"
             ],
             [
              0.4444444444444444,
              "#bd3786"
             ],
             [
              0.5555555555555556,
              "#d8576b"
             ],
             [
              0.6666666666666666,
              "#ed7953"
             ],
             [
              0.7777777777777778,
              "#fb9f3a"
             ],
             [
              0.8888888888888888,
              "#fdca26"
             ],
             [
              1,
              "#f0f921"
             ]
            ],
            "type": "histogram2d"
           }
          ],
          "histogram2dcontour": [
           {
            "colorbar": {
             "outlinewidth": 0,
             "ticks": ""
            },
            "colorscale": [
             [
              0,
              "#0d0887"
             ],
             [
              0.1111111111111111,
              "#46039f"
             ],
             [
              0.2222222222222222,
              "#7201a8"
             ],
             [
              0.3333333333333333,
              "#9c179e"
             ],
             [
              0.4444444444444444,
              "#bd3786"
             ],
             [
              0.5555555555555556,
              "#d8576b"
             ],
             [
              0.6666666666666666,
              "#ed7953"
             ],
             [
              0.7777777777777778,
              "#fb9f3a"
             ],
             [
              0.8888888888888888,
              "#fdca26"
             ],
             [
              1,
              "#f0f921"
             ]
            ],
            "type": "histogram2dcontour"
           }
          ],
          "mesh3d": [
           {
            "colorbar": {
             "outlinewidth": 0,
             "ticks": ""
            },
            "type": "mesh3d"
           }
          ],
          "parcoords": [
           {
            "line": {
             "colorbar": {
              "outlinewidth": 0,
              "ticks": ""
             }
            },
            "type": "parcoords"
           }
          ],
          "pie": [
           {
            "automargin": true,
            "type": "pie"
           }
          ],
          "scatter": [
           {
            "fillpattern": {
             "fillmode": "overlay",
             "size": 10,
             "solidity": 0.2
            },
            "type": "scatter"
           }
          ],
          "scatter3d": [
           {
            "line": {
             "colorbar": {
              "outlinewidth": 0,
              "ticks": ""
             }
            },
            "marker": {
             "colorbar": {
              "outlinewidth": 0,
              "ticks": ""
             }
            },
            "type": "scatter3d"
           }
          ],
          "scattercarpet": [
           {
            "marker": {
             "colorbar": {
              "outlinewidth": 0,
              "ticks": ""
             }
            },
            "type": "scattercarpet"
           }
          ],
          "scattergeo": [
           {
            "marker": {
             "colorbar": {
              "outlinewidth": 0,
              "ticks": ""
             }
            },
            "type": "scattergeo"
           }
          ],
          "scattergl": [
           {
            "marker": {
             "colorbar": {
              "outlinewidth": 0,
              "ticks": ""
             }
            },
            "type": "scattergl"
           }
          ],
          "scattermapbox": [
           {
            "marker": {
             "colorbar": {
              "outlinewidth": 0,
              "ticks": ""
             }
            },
            "type": "scattermapbox"
           }
          ],
          "scatterpolar": [
           {
            "marker": {
             "colorbar": {
              "outlinewidth": 0,
              "ticks": ""
             }
            },
            "type": "scatterpolar"
           }
          ],
          "scatterpolargl": [
           {
            "marker": {
             "colorbar": {
              "outlinewidth": 0,
              "ticks": ""
             }
            },
            "type": "scatterpolargl"
           }
          ],
          "scatterternary": [
           {
            "marker": {
             "colorbar": {
              "outlinewidth": 0,
              "ticks": ""
             }
            },
            "type": "scatterternary"
           }
          ],
          "surface": [
           {
            "colorbar": {
             "outlinewidth": 0,
             "ticks": ""
            },
            "colorscale": [
             [
              0,
              "#0d0887"
             ],
             [
              0.1111111111111111,
              "#46039f"
             ],
             [
              0.2222222222222222,
              "#7201a8"
             ],
             [
              0.3333333333333333,
              "#9c179e"
             ],
             [
              0.4444444444444444,
              "#bd3786"
             ],
             [
              0.5555555555555556,
              "#d8576b"
             ],
             [
              0.6666666666666666,
              "#ed7953"
             ],
             [
              0.7777777777777778,
              "#fb9f3a"
             ],
             [
              0.8888888888888888,
              "#fdca26"
             ],
             [
              1,
              "#f0f921"
             ]
            ],
            "type": "surface"
           }
          ],
          "table": [
           {
            "cells": {
             "fill": {
              "color": "#EBF0F8"
             },
             "line": {
              "color": "white"
             }
            },
            "header": {
             "fill": {
              "color": "#C8D4E3"
             },
             "line": {
              "color": "white"
             }
            },
            "type": "table"
           }
          ]
         },
         "layout": {
          "annotationdefaults": {
           "arrowcolor": "#2a3f5f",
           "arrowhead": 0,
           "arrowwidth": 1
          },
          "autotypenumbers": "strict",
          "coloraxis": {
           "colorbar": {
            "outlinewidth": 0,
            "ticks": ""
           }
          },
          "colorscale": {
           "diverging": [
            [
             0,
             "#8e0152"
            ],
            [
             0.1,
             "#c51b7d"
            ],
            [
             0.2,
             "#de77ae"
            ],
            [
             0.3,
             "#f1b6da"
            ],
            [
             0.4,
             "#fde0ef"
            ],
            [
             0.5,
             "#f7f7f7"
            ],
            [
             0.6,
             "#e6f5d0"
            ],
            [
             0.7,
             "#b8e186"
            ],
            [
             0.8,
             "#7fbc41"
            ],
            [
             0.9,
             "#4d9221"
            ],
            [
             1,
             "#276419"
            ]
           ],
           "sequential": [
            [
             0,
             "#0d0887"
            ],
            [
             0.1111111111111111,
             "#46039f"
            ],
            [
             0.2222222222222222,
             "#7201a8"
            ],
            [
             0.3333333333333333,
             "#9c179e"
            ],
            [
             0.4444444444444444,
             "#bd3786"
            ],
            [
             0.5555555555555556,
             "#d8576b"
            ],
            [
             0.6666666666666666,
             "#ed7953"
            ],
            [
             0.7777777777777778,
             "#fb9f3a"
            ],
            [
             0.8888888888888888,
             "#fdca26"
            ],
            [
             1,
             "#f0f921"
            ]
           ],
           "sequentialminus": [
            [
             0,
             "#0d0887"
            ],
            [
             0.1111111111111111,
             "#46039f"
            ],
            [
             0.2222222222222222,
             "#7201a8"
            ],
            [
             0.3333333333333333,
             "#9c179e"
            ],
            [
             0.4444444444444444,
             "#bd3786"
            ],
            [
             0.5555555555555556,
             "#d8576b"
            ],
            [
             0.6666666666666666,
             "#ed7953"
            ],
            [
             0.7777777777777778,
             "#fb9f3a"
            ],
            [
             0.8888888888888888,
             "#fdca26"
            ],
            [
             1,
             "#f0f921"
            ]
           ]
          },
          "colorway": [
           "#636efa",
           "#EF553B",
           "#00cc96",
           "#ab63fa",
           "#FFA15A",
           "#19d3f3",
           "#FF6692",
           "#B6E880",
           "#FF97FF",
           "#FECB52"
          ],
          "font": {
           "color": "#2a3f5f"
          },
          "geo": {
           "bgcolor": "white",
           "lakecolor": "white",
           "landcolor": "#E5ECF6",
           "showlakes": true,
           "showland": true,
           "subunitcolor": "white"
          },
          "hoverlabel": {
           "align": "left"
          },
          "hovermode": "closest",
          "mapbox": {
           "style": "light"
          },
          "paper_bgcolor": "white",
          "plot_bgcolor": "#E5ECF6",
          "polar": {
           "angularaxis": {
            "gridcolor": "white",
            "linecolor": "white",
            "ticks": ""
           },
           "bgcolor": "#E5ECF6",
           "radialaxis": {
            "gridcolor": "white",
            "linecolor": "white",
            "ticks": ""
           }
          },
          "scene": {
           "xaxis": {
            "backgroundcolor": "#E5ECF6",
            "gridcolor": "white",
            "gridwidth": 2,
            "linecolor": "white",
            "showbackground": true,
            "ticks": "",
            "zerolinecolor": "white"
           },
           "yaxis": {
            "backgroundcolor": "#E5ECF6",
            "gridcolor": "white",
            "gridwidth": 2,
            "linecolor": "white",
            "showbackground": true,
            "ticks": "",
            "zerolinecolor": "white"
           },
           "zaxis": {
            "backgroundcolor": "#E5ECF6",
            "gridcolor": "white",
            "gridwidth": 2,
            "linecolor": "white",
            "showbackground": true,
            "ticks": "",
            "zerolinecolor": "white"
           }
          },
          "shapedefaults": {
           "line": {
            "color": "#2a3f5f"
           }
          },
          "ternary": {
           "aaxis": {
            "gridcolor": "white",
            "linecolor": "white",
            "ticks": ""
           },
           "baxis": {
            "gridcolor": "white",
            "linecolor": "white",
            "ticks": ""
           },
           "bgcolor": "#E5ECF6",
           "caxis": {
            "gridcolor": "white",
            "linecolor": "white",
            "ticks": ""
           }
          },
          "title": {
           "x": 0.05
          },
          "xaxis": {
           "automargin": true,
           "gridcolor": "white",
           "linecolor": "white",
           "ticks": "",
           "title": {
            "standoff": 15
           },
           "zerolinecolor": "white",
           "zerolinewidth": 2
          },
          "yaxis": {
           "automargin": true,
           "gridcolor": "white",
           "linecolor": "white",
           "ticks": "",
           "title": {
            "standoff": 15
           },
           "zerolinecolor": "white",
           "zerolinewidth": 2
          }
         }
        },
        "title": {
         "text": "User 83721: Embeddings of TikTok News Hashtags"
        },
        "width": 1100,
        "xaxis": {
         "anchor": "y",
         "domain": [
          0,
          1
         ],
         "title": {
          "text": "tsne_1"
         }
        },
        "yaxis": {
         "anchor": "x",
         "domain": [
          0,
          1
         ],
         "title": {
          "text": "tsne_2"
         }
        }
       }
      }
     },
     "metadata": {},
     "output_type": "display_data"
    }
   ],
   "source": [
    "visualize_tsne(\"83721\", \"hashtags\", 8, 2)"
   ]
  },
  {
   "cell_type": "markdown",
   "metadata": {},
   "source": [
    "## Analysis 2: Suggested words for all Users"
   ]
  }
 ],
 "metadata": {
  "kernelspec": {
   "display_name": "Python 3 (ipykernel)",
   "language": "python",
   "name": "python3"
  },
  "language_info": {
   "codemirror_mode": {
    "name": "ipython",
    "version": 3
   },
   "file_extension": ".py",
   "mimetype": "text/x-python",
   "name": "python",
   "nbconvert_exporter": "python",
   "pygments_lexer": "ipython3",
   "version": "3.11.5"
  }
 },
 "nbformat": 4,
 "nbformat_minor": 4
}
