{
 "cells": [
  {
   "cell_type": "code",
   "execution_count": 27,
   "id": "cf62fd8f-a7fa-4481-8c4b-adf05183c23f",
   "metadata": {},
   "outputs": [
    {
     "data": {
      "text/plain": [
       "['user_data_rb_chunk_12.json',\n",
       " 'user_data_rb_chunk_13.json',\n",
       " 'user_data_rb_chunk_1.json',\n",
       " 'user_data_rb_chunk_14.json',\n",
       " 'user_data_rb_chunk_6.json',\n",
       " 'user_data_rb_chunk_7.json',\n",
       " 'user_data_rb_chunk_15.json',\n",
       " 'user_data_rb_chunk_8.json',\n",
       " 'user_data_rb_chunk_16.json',\n",
       " 'user_data_rb_chunk_4.json',\n",
       " 'user_data_rb_chunk_5.json',\n",
       " 'user_data_rb_chunk_17.json',\n",
       " 'user_data_rb_chunk_9.json',\n",
       " 'user_data_rb_chunk_2.json',\n",
       " 'user_data_rb_chunk_10.json',\n",
       " 'user_data_rb_chunk_11.json',\n",
       " 'user_data_rb_chunk_3.json']"
      ]
     },
     "execution_count": 27,
     "metadata": {},
     "output_type": "execute_result"
    }
   ],
   "source": [
    "import os, json\n",
    "folder = \"/Users/sandyliu/tiktok-news-exposure/1-compile-raw-data/rb_data_chunks\"\n",
    "\n",
    "files = os.listdir(folder) # read content of folder\n",
    "files = [file for file in files if file.endswith('json')] # ensure that we will read only JSON files\n",
    "files\n"
   ]
  },
  {
   "cell_type": "code",
   "execution_count": 28,
   "id": "8fdaf3d8-2bf0-4aa8-9a21-afce8a565492",
   "metadata": {},
   "outputs": [],
   "source": [
    "files.sort(reverse=True)"
   ]
  },
  {
   "cell_type": "code",
   "execution_count": 29,
   "id": "b3d85b86-ce1d-4d38-880e-fce0b8f735b7",
   "metadata": {},
   "outputs": [
    {
     "data": {
      "text/plain": [
       "['user_data_rb_chunk_9.json',\n",
       " 'user_data_rb_chunk_8.json',\n",
       " 'user_data_rb_chunk_7.json',\n",
       " 'user_data_rb_chunk_6.json',\n",
       " 'user_data_rb_chunk_5.json',\n",
       " 'user_data_rb_chunk_4.json',\n",
       " 'user_data_rb_chunk_3.json',\n",
       " 'user_data_rb_chunk_2.json',\n",
       " 'user_data_rb_chunk_17.json',\n",
       " 'user_data_rb_chunk_16.json',\n",
       " 'user_data_rb_chunk_15.json',\n",
       " 'user_data_rb_chunk_14.json',\n",
       " 'user_data_rb_chunk_13.json',\n",
       " 'user_data_rb_chunk_12.json',\n",
       " 'user_data_rb_chunk_11.json',\n",
       " 'user_data_rb_chunk_10.json',\n",
       " 'user_data_rb_chunk_1.json']"
      ]
     },
     "execution_count": 29,
     "metadata": {},
     "output_type": "execute_result"
    }
   ],
   "source": [
    "files"
   ]
  },
  {
   "cell_type": "code",
   "execution_count": 30,
   "id": "57ff8cb9-47e2-4bb0-a9da-c8e163d4caec",
   "metadata": {},
   "outputs": [],
   "source": [
    "files = [file for file in files if len(file) < 26]"
   ]
  },
  {
   "cell_type": "code",
   "execution_count": 32,
   "id": "5cce0af7-0849-4cdb-89b8-ec8405d8897c",
   "metadata": {},
   "outputs": [],
   "source": [
    "files.sort(reverse=False)"
   ]
  },
  {
   "cell_type": "code",
   "execution_count": 33,
   "id": "10963657-dda5-416e-90f6-e4b6d6f02498",
   "metadata": {},
   "outputs": [
    {
     "data": {
      "text/plain": [
       "['user_data_rb_chunk_1.json',\n",
       " 'user_data_rb_chunk_2.json',\n",
       " 'user_data_rb_chunk_3.json',\n",
       " 'user_data_rb_chunk_4.json',\n",
       " 'user_data_rb_chunk_5.json',\n",
       " 'user_data_rb_chunk_6.json',\n",
       " 'user_data_rb_chunk_7.json',\n",
       " 'user_data_rb_chunk_8.json',\n",
       " 'user_data_rb_chunk_9.json']"
      ]
     },
     "execution_count": 33,
     "metadata": {},
     "output_type": "execute_result"
    }
   ],
   "source": [
    "files"
   ]
  },
  {
   "cell_type": "code",
   "execution_count": 34,
   "id": "8c9cbe01-d73b-49e7-9022-be05583ffdc0",
   "metadata": {},
   "outputs": [],
   "source": [
    "final_files = files[:6]"
   ]
  },
  {
   "cell_type": "code",
   "execution_count": 35,
   "id": "2afda3be-46a9-48bc-b554-7eebd9a4a96c",
   "metadata": {},
   "outputs": [
    {
     "data": {
      "text/plain": [
       "['user_data_rb_chunk_1.json',\n",
       " 'user_data_rb_chunk_2.json',\n",
       " 'user_data_rb_chunk_3.json',\n",
       " 'user_data_rb_chunk_4.json',\n",
       " 'user_data_rb_chunk_5.json',\n",
       " 'user_data_rb_chunk_6.json']"
      ]
     },
     "execution_count": 35,
     "metadata": {},
     "output_type": "execute_result"
    }
   ],
   "source": [
    "final_files"
   ]
  },
  {
   "cell_type": "code",
   "execution_count": null,
   "id": "c7d7ec77-afc7-4721-a6d0-68a0b62eae59",
   "metadata": {},
   "outputs": [],
   "source": [
    "rawRevisionsDct = {}\n",
    "\n",
    "for filename in files:\n",
    "    name = filename[13:18]\n",
    "    file_path = os.path_join(folder, filename)\n",
    "    rawRevisionsDct[name] = json.load(open(filepath))"
   ]
  }
 ],
 "metadata": {
  "kernelspec": {
   "display_name": "Python 3 (ipykernel)",
   "language": "python",
   "name": "python3"
  },
  "language_info": {
   "codemirror_mode": {
    "name": "ipython",
    "version": 3
   },
   "file_extension": ".py",
   "mimetype": "text/x-python",
   "name": "python",
   "nbconvert_exporter": "python",
   "pygments_lexer": "ipython3",
   "version": "3.11.5"
  }
 },
 "nbformat": 4,
 "nbformat_minor": 5
}
